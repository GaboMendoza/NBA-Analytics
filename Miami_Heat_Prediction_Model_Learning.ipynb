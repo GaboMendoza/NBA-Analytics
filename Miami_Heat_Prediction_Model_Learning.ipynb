{
 "cells": [
  {
   "cell_type": "markdown",
   "metadata": {},
   "source": [
    "# Miami Heat Model Prediction Season 20-21"
   ]
  },
  {
   "cell_type": "markdown",
   "metadata": {},
   "source": [
    "### In this notebook we want to make a prediction model in order to know if the Miami Heat will win or not the next game and also to know what variables within the team have an impact on the probability of winning and measure that impact."
   ]
  },
  {
   "cell_type": "markdown",
   "metadata": {},
   "source": [
    "## 1.- Import NBA Data"
   ]
  },
  {
   "cell_type": "code",
   "execution_count": 1,
   "metadata": {},
   "outputs": [
    {
     "name": "stdout",
     "output_type": "stream",
     "text": [
      "Requirement already satisfied: nba_api in c:\\users\\gabo\\anaconda3\\lib\\site-packages (1.1.9)\n",
      "Requirement already satisfied: requests in c:\\users\\gabo\\anaconda3\\lib\\site-packages (from nba_api) (2.24.0)\n",
      "Requirement already satisfied: chardet<4,>=3.0.2 in c:\\users\\gabo\\anaconda3\\lib\\site-packages (from requests->nba_api) (3.0.4)\n",
      "Requirement already satisfied: idna<3,>=2.5 in c:\\users\\gabo\\anaconda3\\lib\\site-packages (from requests->nba_api) (2.10)\n",
      "Requirement already satisfied: certifi>=2017.4.17 in c:\\users\\gabo\\anaconda3\\lib\\site-packages (from requests->nba_api) (2020.6.20)\n",
      "Requirement already satisfied: urllib3!=1.25.0,!=1.25.1,<1.26,>=1.21.1 in c:\\users\\gabo\\anaconda3\\lib\\site-packages (from requests->nba_api) (1.25.11)\n"
     ]
    }
   ],
   "source": [
    "# First we install the NBA Api\n",
    "!pip install nba_api"
   ]
  },
  {
   "cell_type": "code",
   "execution_count": 2,
   "metadata": {},
   "outputs": [],
   "source": [
    "## Now we import NBA API\n",
    "## Import pandas library\n",
    "import nba_api\n",
    "import pandas as pd"
   ]
  },
  {
   "cell_type": "markdown",
   "metadata": {},
   "source": [
    "We stract all the information from each NBA Team and we look for the Miami Heat ID"
   ]
  },
  {
   "cell_type": "code",
   "execution_count": 3,
   "metadata": {},
   "outputs": [],
   "source": [
    "# Import NBA Teams library\n",
    "from nba_api.stats.static import teams"
   ]
  },
  {
   "cell_type": "code",
   "execution_count": 4,
   "metadata": {},
   "outputs": [],
   "source": [
    "team_dict=teams.get_teams()"
   ]
  },
  {
   "cell_type": "code",
   "execution_count": 5,
   "metadata": {},
   "outputs": [],
   "source": [
    "MH=[team for team in team_dict if team['full_name']== 'Miami Heat'][0]"
   ]
  },
  {
   "cell_type": "code",
   "execution_count": 6,
   "metadata": {},
   "outputs": [
    {
     "data": {
      "text/plain": [
       "1610612748"
      ]
     },
     "execution_count": 6,
     "metadata": {},
     "output_type": "execute_result"
    }
   ],
   "source": [
    "MH_ID=MH['id']\n",
    "MH_ID"
   ]
  },
  {
   "cell_type": "markdown",
   "metadata": {},
   "source": [
    "After we got the Miami Heat's ID we proceed to stract the statistics from all the games the Heat has played"
   ]
  },
  {
   "cell_type": "code",
   "execution_count": 7,
   "metadata": {},
   "outputs": [],
   "source": [
    "from nba_api.stats.endpoints import leaguegamefinder"
   ]
  },
  {
   "cell_type": "code",
   "execution_count": 8,
   "metadata": {},
   "outputs": [],
   "source": [
    "MH_games=leaguegamefinder.LeagueGameFinder(team_id_nullable=MH_ID).get_data_frames()[0]"
   ]
  },
  {
   "cell_type": "code",
   "execution_count": 9,
   "metadata": {},
   "outputs": [
    {
     "data": {
      "text/html": [
       "<div>\n",
       "<style scoped>\n",
       "    .dataframe tbody tr th:only-of-type {\n",
       "        vertical-align: middle;\n",
       "    }\n",
       "\n",
       "    .dataframe tbody tr th {\n",
       "        vertical-align: top;\n",
       "    }\n",
       "\n",
       "    .dataframe thead th {\n",
       "        text-align: right;\n",
       "    }\n",
       "</style>\n",
       "<table border=\"1\" class=\"dataframe\">\n",
       "  <thead>\n",
       "    <tr style=\"text-align: right;\">\n",
       "      <th></th>\n",
       "      <th>SEASON_ID</th>\n",
       "      <th>TEAM_ID</th>\n",
       "      <th>TEAM_ABBREVIATION</th>\n",
       "      <th>TEAM_NAME</th>\n",
       "      <th>GAME_ID</th>\n",
       "      <th>GAME_DATE</th>\n",
       "      <th>MATCHUP</th>\n",
       "      <th>WL</th>\n",
       "      <th>MIN</th>\n",
       "      <th>PTS</th>\n",
       "      <th>...</th>\n",
       "      <th>FT_PCT</th>\n",
       "      <th>OREB</th>\n",
       "      <th>DREB</th>\n",
       "      <th>REB</th>\n",
       "      <th>AST</th>\n",
       "      <th>STL</th>\n",
       "      <th>BLK</th>\n",
       "      <th>TOV</th>\n",
       "      <th>PF</th>\n",
       "      <th>PLUS_MINUS</th>\n",
       "    </tr>\n",
       "  </thead>\n",
       "  <tbody>\n",
       "    <tr>\n",
       "      <th>0</th>\n",
       "      <td>22020</td>\n",
       "      <td>1610612748</td>\n",
       "      <td>MIA</td>\n",
       "      <td>Miami Heat</td>\n",
       "      <td>0022000145</td>\n",
       "      <td>2021-05-09</td>\n",
       "      <td>MIA @ BOS</td>\n",
       "      <td>W</td>\n",
       "      <td>240</td>\n",
       "      <td>130</td>\n",
       "      <td>...</td>\n",
       "      <td>0.909</td>\n",
       "      <td>3</td>\n",
       "      <td>32</td>\n",
       "      <td>35</td>\n",
       "      <td>30</td>\n",
       "      <td>8</td>\n",
       "      <td>2</td>\n",
       "      <td>11</td>\n",
       "      <td>20</td>\n",
       "      <td>6.0</td>\n",
       "    </tr>\n",
       "    <tr>\n",
       "      <th>1</th>\n",
       "      <td>22020</td>\n",
       "      <td>1610612748</td>\n",
       "      <td>MIA</td>\n",
       "      <td>Miami Heat</td>\n",
       "      <td>0022001005</td>\n",
       "      <td>2021-05-07</td>\n",
       "      <td>MIA vs. MIN</td>\n",
       "      <td>W</td>\n",
       "      <td>240</td>\n",
       "      <td>121</td>\n",
       "      <td>...</td>\n",
       "      <td>0.741</td>\n",
       "      <td>8</td>\n",
       "      <td>29</td>\n",
       "      <td>37</td>\n",
       "      <td>27</td>\n",
       "      <td>9</td>\n",
       "      <td>2</td>\n",
       "      <td>14</td>\n",
       "      <td>22</td>\n",
       "      <td>9.0</td>\n",
       "    </tr>\n",
       "    <tr>\n",
       "      <th>2</th>\n",
       "      <td>22020</td>\n",
       "      <td>1610612748</td>\n",
       "      <td>MIA</td>\n",
       "      <td>Miami Heat</td>\n",
       "      <td>0022000986</td>\n",
       "      <td>2021-05-04</td>\n",
       "      <td>MIA vs. DAL</td>\n",
       "      <td>L</td>\n",
       "      <td>240</td>\n",
       "      <td>113</td>\n",
       "      <td>...</td>\n",
       "      <td>0.810</td>\n",
       "      <td>8</td>\n",
       "      <td>31</td>\n",
       "      <td>39</td>\n",
       "      <td>30</td>\n",
       "      <td>9</td>\n",
       "      <td>2</td>\n",
       "      <td>12</td>\n",
       "      <td>17</td>\n",
       "      <td>-14.0</td>\n",
       "    </tr>\n",
       "    <tr>\n",
       "      <th>3</th>\n",
       "      <td>22020</td>\n",
       "      <td>1610612748</td>\n",
       "      <td>MIA</td>\n",
       "      <td>Miami Heat</td>\n",
       "      <td>0022000969</td>\n",
       "      <td>2021-05-02</td>\n",
       "      <td>MIA @ CHA</td>\n",
       "      <td>W</td>\n",
       "      <td>240</td>\n",
       "      <td>121</td>\n",
       "      <td>...</td>\n",
       "      <td>0.741</td>\n",
       "      <td>11</td>\n",
       "      <td>31</td>\n",
       "      <td>42</td>\n",
       "      <td>30</td>\n",
       "      <td>10</td>\n",
       "      <td>6</td>\n",
       "      <td>11</td>\n",
       "      <td>22</td>\n",
       "      <td>10.0</td>\n",
       "    </tr>\n",
       "    <tr>\n",
       "      <th>4</th>\n",
       "      <td>22020</td>\n",
       "      <td>1610612748</td>\n",
       "      <td>MIA</td>\n",
       "      <td>Miami Heat</td>\n",
       "      <td>0022000960</td>\n",
       "      <td>2021-05-01</td>\n",
       "      <td>MIA @ CLE</td>\n",
       "      <td>W</td>\n",
       "      <td>241</td>\n",
       "      <td>124</td>\n",
       "      <td>...</td>\n",
       "      <td>0.800</td>\n",
       "      <td>10</td>\n",
       "      <td>27</td>\n",
       "      <td>37</td>\n",
       "      <td>30</td>\n",
       "      <td>12</td>\n",
       "      <td>1</td>\n",
       "      <td>8</td>\n",
       "      <td>16</td>\n",
       "      <td>17.0</td>\n",
       "    </tr>\n",
       "    <tr>\n",
       "      <th>...</th>\n",
       "      <td>...</td>\n",
       "      <td>...</td>\n",
       "      <td>...</td>\n",
       "      <td>...</td>\n",
       "      <td>...</td>\n",
       "      <td>...</td>\n",
       "      <td>...</td>\n",
       "      <td>...</td>\n",
       "      <td>...</td>\n",
       "      <td>...</td>\n",
       "      <td>...</td>\n",
       "      <td>...</td>\n",
       "      <td>...</td>\n",
       "      <td>...</td>\n",
       "      <td>...</td>\n",
       "      <td>...</td>\n",
       "      <td>...</td>\n",
       "      <td>...</td>\n",
       "      <td>...</td>\n",
       "      <td>...</td>\n",
       "      <td>...</td>\n",
       "    </tr>\n",
       "    <tr>\n",
       "      <th>3067</th>\n",
       "      <td>21988</td>\n",
       "      <td>1610612748</td>\n",
       "      <td>MIA</td>\n",
       "      <td>Miami Heat</td>\n",
       "      <td>0028800070</td>\n",
       "      <td>1988-11-15</td>\n",
       "      <td>MIA vs. BOS</td>\n",
       "      <td>L</td>\n",
       "      <td>240</td>\n",
       "      <td>65</td>\n",
       "      <td>...</td>\n",
       "      <td>0.500</td>\n",
       "      <td>19</td>\n",
       "      <td>26</td>\n",
       "      <td>45</td>\n",
       "      <td>18</td>\n",
       "      <td>14</td>\n",
       "      <td>4</td>\n",
       "      <td>20</td>\n",
       "      <td>23</td>\n",
       "      <td>NaN</td>\n",
       "    </tr>\n",
       "    <tr>\n",
       "      <th>3068</th>\n",
       "      <td>21988</td>\n",
       "      <td>1610612748</td>\n",
       "      <td>MIA</td>\n",
       "      <td>Miami Heat</td>\n",
       "      <td>0028800051</td>\n",
       "      <td>1988-11-11</td>\n",
       "      <td>MIA vs. HOU</td>\n",
       "      <td>L</td>\n",
       "      <td>240</td>\n",
       "      <td>100</td>\n",
       "      <td>...</td>\n",
       "      <td>0.720</td>\n",
       "      <td>17</td>\n",
       "      <td>14</td>\n",
       "      <td>31</td>\n",
       "      <td>25</td>\n",
       "      <td>11</td>\n",
       "      <td>3</td>\n",
       "      <td>16</td>\n",
       "      <td>20</td>\n",
       "      <td>NaN</td>\n",
       "    </tr>\n",
       "    <tr>\n",
       "      <th>3069</th>\n",
       "      <td>21988</td>\n",
       "      <td>1610612748</td>\n",
       "      <td>MIA</td>\n",
       "      <td>Miami Heat</td>\n",
       "      <td>0028800037</td>\n",
       "      <td>1988-11-09</td>\n",
       "      <td>MIA @ SAN</td>\n",
       "      <td>L</td>\n",
       "      <td>240</td>\n",
       "      <td>93</td>\n",
       "      <td>...</td>\n",
       "      <td>0.679</td>\n",
       "      <td>16</td>\n",
       "      <td>21</td>\n",
       "      <td>37</td>\n",
       "      <td>14</td>\n",
       "      <td>10</td>\n",
       "      <td>6</td>\n",
       "      <td>24</td>\n",
       "      <td>23</td>\n",
       "      <td>NaN</td>\n",
       "    </tr>\n",
       "    <tr>\n",
       "      <th>3070</th>\n",
       "      <td>21988</td>\n",
       "      <td>1610612748</td>\n",
       "      <td>MIA</td>\n",
       "      <td>Miami Heat</td>\n",
       "      <td>0028800027</td>\n",
       "      <td>1988-11-08</td>\n",
       "      <td>MIA @ DAL</td>\n",
       "      <td>L</td>\n",
       "      <td>240</td>\n",
       "      <td>88</td>\n",
       "      <td>...</td>\n",
       "      <td>0.696</td>\n",
       "      <td>18</td>\n",
       "      <td>27</td>\n",
       "      <td>45</td>\n",
       "      <td>18</td>\n",
       "      <td>10</td>\n",
       "      <td>3</td>\n",
       "      <td>11</td>\n",
       "      <td>24</td>\n",
       "      <td>NaN</td>\n",
       "    </tr>\n",
       "    <tr>\n",
       "      <th>3071</th>\n",
       "      <td>21988</td>\n",
       "      <td>1610612748</td>\n",
       "      <td>MIA</td>\n",
       "      <td>Miami Heat</td>\n",
       "      <td>0028800014</td>\n",
       "      <td>1988-11-05</td>\n",
       "      <td>MIA vs. LAC</td>\n",
       "      <td>L</td>\n",
       "      <td>240</td>\n",
       "      <td>91</td>\n",
       "      <td>...</td>\n",
       "      <td>0.704</td>\n",
       "      <td>22</td>\n",
       "      <td>21</td>\n",
       "      <td>43</td>\n",
       "      <td>14</td>\n",
       "      <td>9</td>\n",
       "      <td>6</td>\n",
       "      <td>20</td>\n",
       "      <td>27</td>\n",
       "      <td>NaN</td>\n",
       "    </tr>\n",
       "  </tbody>\n",
       "</table>\n",
       "<p>3072 rows × 28 columns</p>\n",
       "</div>"
      ],
      "text/plain": [
       "     SEASON_ID     TEAM_ID TEAM_ABBREVIATION   TEAM_NAME     GAME_ID  \\\n",
       "0        22020  1610612748               MIA  Miami Heat  0022000145   \n",
       "1        22020  1610612748               MIA  Miami Heat  0022001005   \n",
       "2        22020  1610612748               MIA  Miami Heat  0022000986   \n",
       "3        22020  1610612748               MIA  Miami Heat  0022000969   \n",
       "4        22020  1610612748               MIA  Miami Heat  0022000960   \n",
       "...        ...         ...               ...         ...         ...   \n",
       "3067     21988  1610612748               MIA  Miami Heat  0028800070   \n",
       "3068     21988  1610612748               MIA  Miami Heat  0028800051   \n",
       "3069     21988  1610612748               MIA  Miami Heat  0028800037   \n",
       "3070     21988  1610612748               MIA  Miami Heat  0028800027   \n",
       "3071     21988  1610612748               MIA  Miami Heat  0028800014   \n",
       "\n",
       "       GAME_DATE      MATCHUP WL  MIN  PTS  ...  FT_PCT  OREB  DREB  REB  AST  \\\n",
       "0     2021-05-09    MIA @ BOS  W  240  130  ...   0.909     3    32   35   30   \n",
       "1     2021-05-07  MIA vs. MIN  W  240  121  ...   0.741     8    29   37   27   \n",
       "2     2021-05-04  MIA vs. DAL  L  240  113  ...   0.810     8    31   39   30   \n",
       "3     2021-05-02    MIA @ CHA  W  240  121  ...   0.741    11    31   42   30   \n",
       "4     2021-05-01    MIA @ CLE  W  241  124  ...   0.800    10    27   37   30   \n",
       "...          ...          ... ..  ...  ...  ...     ...   ...   ...  ...  ...   \n",
       "3067  1988-11-15  MIA vs. BOS  L  240   65  ...   0.500    19    26   45   18   \n",
       "3068  1988-11-11  MIA vs. HOU  L  240  100  ...   0.720    17    14   31   25   \n",
       "3069  1988-11-09    MIA @ SAN  L  240   93  ...   0.679    16    21   37   14   \n",
       "3070  1988-11-08    MIA @ DAL  L  240   88  ...   0.696    18    27   45   18   \n",
       "3071  1988-11-05  MIA vs. LAC  L  240   91  ...   0.704    22    21   43   14   \n",
       "\n",
       "      STL  BLK  TOV  PF  PLUS_MINUS  \n",
       "0       8    2   11  20         6.0  \n",
       "1       9    2   14  22         9.0  \n",
       "2       9    2   12  17       -14.0  \n",
       "3      10    6   11  22        10.0  \n",
       "4      12    1    8  16        17.0  \n",
       "...   ...  ...  ...  ..         ...  \n",
       "3067   14    4   20  23         NaN  \n",
       "3068   11    3   16  20         NaN  \n",
       "3069   10    6   24  23         NaN  \n",
       "3070   10    3   11  24         NaN  \n",
       "3071    9    6   20  27         NaN  \n",
       "\n",
       "[3072 rows x 28 columns]"
      ]
     },
     "execution_count": 9,
     "metadata": {},
     "output_type": "execute_result"
    }
   ],
   "source": [
    "MH_games"
   ]
  },
  {
   "cell_type": "markdown",
   "metadata": {},
   "source": [
    "## 2.- Selecting the Information for our Model"
   ]
  },
  {
   "cell_type": "markdown",
   "metadata": {},
   "source": [
    "Since we want to analyse the information of current season games (2020-2021=, we substract the informacion regarding SEASON_ID=22020"
   ]
  },
  {
   "cell_type": "code",
   "execution_count": 10,
   "metadata": {},
   "outputs": [
    {
     "data": {
      "text/html": [
       "<div>\n",
       "<style scoped>\n",
       "    .dataframe tbody tr th:only-of-type {\n",
       "        vertical-align: middle;\n",
       "    }\n",
       "\n",
       "    .dataframe tbody tr th {\n",
       "        vertical-align: top;\n",
       "    }\n",
       "\n",
       "    .dataframe thead th {\n",
       "        text-align: right;\n",
       "    }\n",
       "</style>\n",
       "<table border=\"1\" class=\"dataframe\">\n",
       "  <thead>\n",
       "    <tr style=\"text-align: right;\">\n",
       "      <th></th>\n",
       "      <th>SEASON_ID</th>\n",
       "      <th>TEAM_ID</th>\n",
       "      <th>TEAM_ABBREVIATION</th>\n",
       "      <th>TEAM_NAME</th>\n",
       "      <th>GAME_ID</th>\n",
       "      <th>GAME_DATE</th>\n",
       "      <th>MATCHUP</th>\n",
       "      <th>WL</th>\n",
       "      <th>MIN</th>\n",
       "      <th>PTS</th>\n",
       "      <th>...</th>\n",
       "      <th>FT_PCT</th>\n",
       "      <th>OREB</th>\n",
       "      <th>DREB</th>\n",
       "      <th>REB</th>\n",
       "      <th>AST</th>\n",
       "      <th>STL</th>\n",
       "      <th>BLK</th>\n",
       "      <th>TOV</th>\n",
       "      <th>PF</th>\n",
       "      <th>PLUS_MINUS</th>\n",
       "    </tr>\n",
       "  </thead>\n",
       "  <tbody>\n",
       "    <tr>\n",
       "      <th>0</th>\n",
       "      <td>22020</td>\n",
       "      <td>1610612748</td>\n",
       "      <td>MIA</td>\n",
       "      <td>Miami Heat</td>\n",
       "      <td>0022000145</td>\n",
       "      <td>2021-05-09</td>\n",
       "      <td>MIA @ BOS</td>\n",
       "      <td>W</td>\n",
       "      <td>240</td>\n",
       "      <td>130</td>\n",
       "      <td>...</td>\n",
       "      <td>0.909</td>\n",
       "      <td>3</td>\n",
       "      <td>32</td>\n",
       "      <td>35</td>\n",
       "      <td>30</td>\n",
       "      <td>8</td>\n",
       "      <td>2</td>\n",
       "      <td>11</td>\n",
       "      <td>20</td>\n",
       "      <td>6.0</td>\n",
       "    </tr>\n",
       "    <tr>\n",
       "      <th>1</th>\n",
       "      <td>22020</td>\n",
       "      <td>1610612748</td>\n",
       "      <td>MIA</td>\n",
       "      <td>Miami Heat</td>\n",
       "      <td>0022001005</td>\n",
       "      <td>2021-05-07</td>\n",
       "      <td>MIA vs. MIN</td>\n",
       "      <td>W</td>\n",
       "      <td>240</td>\n",
       "      <td>121</td>\n",
       "      <td>...</td>\n",
       "      <td>0.741</td>\n",
       "      <td>8</td>\n",
       "      <td>29</td>\n",
       "      <td>37</td>\n",
       "      <td>27</td>\n",
       "      <td>9</td>\n",
       "      <td>2</td>\n",
       "      <td>14</td>\n",
       "      <td>22</td>\n",
       "      <td>9.0</td>\n",
       "    </tr>\n",
       "    <tr>\n",
       "      <th>2</th>\n",
       "      <td>22020</td>\n",
       "      <td>1610612748</td>\n",
       "      <td>MIA</td>\n",
       "      <td>Miami Heat</td>\n",
       "      <td>0022000986</td>\n",
       "      <td>2021-05-04</td>\n",
       "      <td>MIA vs. DAL</td>\n",
       "      <td>L</td>\n",
       "      <td>240</td>\n",
       "      <td>113</td>\n",
       "      <td>...</td>\n",
       "      <td>0.810</td>\n",
       "      <td>8</td>\n",
       "      <td>31</td>\n",
       "      <td>39</td>\n",
       "      <td>30</td>\n",
       "      <td>9</td>\n",
       "      <td>2</td>\n",
       "      <td>12</td>\n",
       "      <td>17</td>\n",
       "      <td>-14.0</td>\n",
       "    </tr>\n",
       "    <tr>\n",
       "      <th>3</th>\n",
       "      <td>22020</td>\n",
       "      <td>1610612748</td>\n",
       "      <td>MIA</td>\n",
       "      <td>Miami Heat</td>\n",
       "      <td>0022000969</td>\n",
       "      <td>2021-05-02</td>\n",
       "      <td>MIA @ CHA</td>\n",
       "      <td>W</td>\n",
       "      <td>240</td>\n",
       "      <td>121</td>\n",
       "      <td>...</td>\n",
       "      <td>0.741</td>\n",
       "      <td>11</td>\n",
       "      <td>31</td>\n",
       "      <td>42</td>\n",
       "      <td>30</td>\n",
       "      <td>10</td>\n",
       "      <td>6</td>\n",
       "      <td>11</td>\n",
       "      <td>22</td>\n",
       "      <td>10.0</td>\n",
       "    </tr>\n",
       "    <tr>\n",
       "      <th>4</th>\n",
       "      <td>22020</td>\n",
       "      <td>1610612748</td>\n",
       "      <td>MIA</td>\n",
       "      <td>Miami Heat</td>\n",
       "      <td>0022000960</td>\n",
       "      <td>2021-05-01</td>\n",
       "      <td>MIA @ CLE</td>\n",
       "      <td>W</td>\n",
       "      <td>241</td>\n",
       "      <td>124</td>\n",
       "      <td>...</td>\n",
       "      <td>0.800</td>\n",
       "      <td>10</td>\n",
       "      <td>27</td>\n",
       "      <td>37</td>\n",
       "      <td>30</td>\n",
       "      <td>12</td>\n",
       "      <td>1</td>\n",
       "      <td>8</td>\n",
       "      <td>16</td>\n",
       "      <td>17.0</td>\n",
       "    </tr>\n",
       "    <tr>\n",
       "      <th>...</th>\n",
       "      <td>...</td>\n",
       "      <td>...</td>\n",
       "      <td>...</td>\n",
       "      <td>...</td>\n",
       "      <td>...</td>\n",
       "      <td>...</td>\n",
       "      <td>...</td>\n",
       "      <td>...</td>\n",
       "      <td>...</td>\n",
       "      <td>...</td>\n",
       "      <td>...</td>\n",
       "      <td>...</td>\n",
       "      <td>...</td>\n",
       "      <td>...</td>\n",
       "      <td>...</td>\n",
       "      <td>...</td>\n",
       "      <td>...</td>\n",
       "      <td>...</td>\n",
       "      <td>...</td>\n",
       "      <td>...</td>\n",
       "      <td>...</td>\n",
       "    </tr>\n",
       "    <tr>\n",
       "      <th>63</th>\n",
       "      <td>22020</td>\n",
       "      <td>1610612748</td>\n",
       "      <td>MIA</td>\n",
       "      <td>Miami Heat</td>\n",
       "      <td>0022000071</td>\n",
       "      <td>2021-01-01</td>\n",
       "      <td>MIA @ DAL</td>\n",
       "      <td>L</td>\n",
       "      <td>240</td>\n",
       "      <td>83</td>\n",
       "      <td>...</td>\n",
       "      <td>0.720</td>\n",
       "      <td>5</td>\n",
       "      <td>36</td>\n",
       "      <td>41</td>\n",
       "      <td>20</td>\n",
       "      <td>10</td>\n",
       "      <td>2</td>\n",
       "      <td>14</td>\n",
       "      <td>24</td>\n",
       "      <td>-10.0</td>\n",
       "    </tr>\n",
       "    <tr>\n",
       "      <th>64</th>\n",
       "      <td>22020</td>\n",
       "      <td>1610612748</td>\n",
       "      <td>MIA</td>\n",
       "      <td>Miami Heat</td>\n",
       "      <td>0022000058</td>\n",
       "      <td>2020-12-30</td>\n",
       "      <td>MIA vs. MIL</td>\n",
       "      <td>W</td>\n",
       "      <td>240</td>\n",
       "      <td>119</td>\n",
       "      <td>...</td>\n",
       "      <td>0.828</td>\n",
       "      <td>10</td>\n",
       "      <td>42</td>\n",
       "      <td>52</td>\n",
       "      <td>25</td>\n",
       "      <td>5</td>\n",
       "      <td>5</td>\n",
       "      <td>22</td>\n",
       "      <td>18</td>\n",
       "      <td>11.0</td>\n",
       "    </tr>\n",
       "    <tr>\n",
       "      <th>65</th>\n",
       "      <td>22020</td>\n",
       "      <td>1610612748</td>\n",
       "      <td>MIA</td>\n",
       "      <td>Miami Heat</td>\n",
       "      <td>0022000051</td>\n",
       "      <td>2020-12-29</td>\n",
       "      <td>MIA vs. MIL</td>\n",
       "      <td>L</td>\n",
       "      <td>240</td>\n",
       "      <td>97</td>\n",
       "      <td>...</td>\n",
       "      <td>0.667</td>\n",
       "      <td>3</td>\n",
       "      <td>27</td>\n",
       "      <td>30</td>\n",
       "      <td>23</td>\n",
       "      <td>9</td>\n",
       "      <td>6</td>\n",
       "      <td>21</td>\n",
       "      <td>18</td>\n",
       "      <td>-47.0</td>\n",
       "    </tr>\n",
       "    <tr>\n",
       "      <th>66</th>\n",
       "      <td>22020</td>\n",
       "      <td>1610612748</td>\n",
       "      <td>MIA</td>\n",
       "      <td>Miami Heat</td>\n",
       "      <td>0022000005</td>\n",
       "      <td>2020-12-25</td>\n",
       "      <td>MIA vs. NOP</td>\n",
       "      <td>W</td>\n",
       "      <td>237</td>\n",
       "      <td>111</td>\n",
       "      <td>...</td>\n",
       "      <td>0.826</td>\n",
       "      <td>4</td>\n",
       "      <td>31</td>\n",
       "      <td>35</td>\n",
       "      <td>29</td>\n",
       "      <td>11</td>\n",
       "      <td>2</td>\n",
       "      <td>17</td>\n",
       "      <td>25</td>\n",
       "      <td>13.0</td>\n",
       "    </tr>\n",
       "    <tr>\n",
       "      <th>67</th>\n",
       "      <td>22020</td>\n",
       "      <td>1610612748</td>\n",
       "      <td>MIA</td>\n",
       "      <td>Miami Heat</td>\n",
       "      <td>0022000012</td>\n",
       "      <td>2020-12-23</td>\n",
       "      <td>MIA @ ORL</td>\n",
       "      <td>L</td>\n",
       "      <td>241</td>\n",
       "      <td>107</td>\n",
       "      <td>...</td>\n",
       "      <td>0.842</td>\n",
       "      <td>7</td>\n",
       "      <td>36</td>\n",
       "      <td>43</td>\n",
       "      <td>25</td>\n",
       "      <td>11</td>\n",
       "      <td>2</td>\n",
       "      <td>22</td>\n",
       "      <td>21</td>\n",
       "      <td>-6.0</td>\n",
       "    </tr>\n",
       "  </tbody>\n",
       "</table>\n",
       "<p>68 rows × 28 columns</p>\n",
       "</div>"
      ],
      "text/plain": [
       "   SEASON_ID     TEAM_ID TEAM_ABBREVIATION   TEAM_NAME     GAME_ID  \\\n",
       "0      22020  1610612748               MIA  Miami Heat  0022000145   \n",
       "1      22020  1610612748               MIA  Miami Heat  0022001005   \n",
       "2      22020  1610612748               MIA  Miami Heat  0022000986   \n",
       "3      22020  1610612748               MIA  Miami Heat  0022000969   \n",
       "4      22020  1610612748               MIA  Miami Heat  0022000960   \n",
       "..       ...         ...               ...         ...         ...   \n",
       "63     22020  1610612748               MIA  Miami Heat  0022000071   \n",
       "64     22020  1610612748               MIA  Miami Heat  0022000058   \n",
       "65     22020  1610612748               MIA  Miami Heat  0022000051   \n",
       "66     22020  1610612748               MIA  Miami Heat  0022000005   \n",
       "67     22020  1610612748               MIA  Miami Heat  0022000012   \n",
       "\n",
       "     GAME_DATE      MATCHUP WL  MIN  PTS  ...  FT_PCT  OREB  DREB  REB  AST  \\\n",
       "0   2021-05-09    MIA @ BOS  W  240  130  ...   0.909     3    32   35   30   \n",
       "1   2021-05-07  MIA vs. MIN  W  240  121  ...   0.741     8    29   37   27   \n",
       "2   2021-05-04  MIA vs. DAL  L  240  113  ...   0.810     8    31   39   30   \n",
       "3   2021-05-02    MIA @ CHA  W  240  121  ...   0.741    11    31   42   30   \n",
       "4   2021-05-01    MIA @ CLE  W  241  124  ...   0.800    10    27   37   30   \n",
       "..         ...          ... ..  ...  ...  ...     ...   ...   ...  ...  ...   \n",
       "63  2021-01-01    MIA @ DAL  L  240   83  ...   0.720     5    36   41   20   \n",
       "64  2020-12-30  MIA vs. MIL  W  240  119  ...   0.828    10    42   52   25   \n",
       "65  2020-12-29  MIA vs. MIL  L  240   97  ...   0.667     3    27   30   23   \n",
       "66  2020-12-25  MIA vs. NOP  W  237  111  ...   0.826     4    31   35   29   \n",
       "67  2020-12-23    MIA @ ORL  L  241  107  ...   0.842     7    36   43   25   \n",
       "\n",
       "    STL  BLK  TOV  PF  PLUS_MINUS  \n",
       "0     8    2   11  20         6.0  \n",
       "1     9    2   14  22         9.0  \n",
       "2     9    2   12  17       -14.0  \n",
       "3    10    6   11  22        10.0  \n",
       "4    12    1    8  16        17.0  \n",
       "..  ...  ...  ...  ..         ...  \n",
       "63   10    2   14  24       -10.0  \n",
       "64    5    5   22  18        11.0  \n",
       "65    9    6   21  18       -47.0  \n",
       "66   11    2   17  25        13.0  \n",
       "67   11    2   22  21        -6.0  \n",
       "\n",
       "[68 rows x 28 columns]"
      ]
     },
     "execution_count": 10,
     "metadata": {},
     "output_type": "execute_result"
    }
   ],
   "source": [
    "MH_games_2020=MH_games[MH_games['SEASON_ID']=='22020']\n",
    "MH_games_2020"
   ]
  },
  {
   "cell_type": "markdown",
   "metadata": {},
   "source": [
    "Now we select the information we want to analyse. For this project we want to build a model that predicts the PLUS_MINUS because this variable tells us if the team won or lost that game."
   ]
  },
  {
   "cell_type": "code",
   "execution_count": 11,
   "metadata": {},
   "outputs": [
    {
     "data": {
      "text/plain": [
       "Index(['SEASON_ID', 'TEAM_ID', 'TEAM_ABBREVIATION', 'TEAM_NAME', 'GAME_ID',\n",
       "       'GAME_DATE', 'MATCHUP', 'WL', 'MIN', 'PTS', 'FGM', 'FGA', 'FG_PCT',\n",
       "       'FG3M', 'FG3A', 'FG3_PCT', 'FTM', 'FTA', 'FT_PCT', 'OREB', 'DREB',\n",
       "       'REB', 'AST', 'STL', 'BLK', 'TOV', 'PF', 'PLUS_MINUS'],\n",
       "      dtype='object')"
      ]
     },
     "execution_count": 11,
     "metadata": {},
     "output_type": "execute_result"
    }
   ],
   "source": [
    "## First we explore the columns and its datatypes\n",
    "MH_games_2020.columns"
   ]
  },
  {
   "cell_type": "markdown",
   "metadata": {},
   "source": [
    "We will drop SEASON_ID,TEAM_ID,TEAM_ABBREVIATION,TEAM_NAME,GAME_ID,GAME_DATE,MATCHUP,MIN"
   ]
  },
  {
   "cell_type": "code",
   "execution_count": 12,
   "metadata": {},
   "outputs": [
    {
     "name": "stderr",
     "output_type": "stream",
     "text": [
      "C:\\Users\\Gabo\\anaconda3\\lib\\site-packages\\pandas\\core\\frame.py:4163: SettingWithCopyWarning: \n",
      "A value is trying to be set on a copy of a slice from a DataFrame\n",
      "\n",
      "See the caveats in the documentation: https://pandas.pydata.org/pandas-docs/stable/user_guide/indexing.html#returning-a-view-versus-a-copy\n",
      "  return super().drop(\n"
     ]
    }
   ],
   "source": [
    "MH_games_2020.drop(['SEASON_ID'],axis=1,inplace=True)\n",
    "MH_games_2020.drop(['TEAM_ID'],axis=1,inplace=True)\n",
    "MH_games_2020.drop(['TEAM_ABBREVIATION'],axis=1,inplace=True)\n",
    "MH_games_2020.drop(['TEAM_NAME'],axis=1,inplace=True)\n",
    "MH_games_2020.drop(['GAME_ID'],axis=1,inplace=True)\n",
    "MH_games_2020.drop(['GAME_DATE'],axis=1,inplace=True)\n",
    "MH_games_2020.drop(['MATCHUP'],axis=1,inplace=True)\n",
    "MH_games_2020.drop(['MIN'],axis=1,inplace=True)"
   ]
  },
  {
   "cell_type": "code",
   "execution_count": 13,
   "metadata": {},
   "outputs": [
    {
     "data": {
      "text/html": [
       "<div>\n",
       "<style scoped>\n",
       "    .dataframe tbody tr th:only-of-type {\n",
       "        vertical-align: middle;\n",
       "    }\n",
       "\n",
       "    .dataframe tbody tr th {\n",
       "        vertical-align: top;\n",
       "    }\n",
       "\n",
       "    .dataframe thead th {\n",
       "        text-align: right;\n",
       "    }\n",
       "</style>\n",
       "<table border=\"1\" class=\"dataframe\">\n",
       "  <thead>\n",
       "    <tr style=\"text-align: right;\">\n",
       "      <th></th>\n",
       "      <th>WL</th>\n",
       "      <th>PTS</th>\n",
       "      <th>FGM</th>\n",
       "      <th>FGA</th>\n",
       "      <th>FG_PCT</th>\n",
       "      <th>FG3M</th>\n",
       "      <th>FG3A</th>\n",
       "      <th>FG3_PCT</th>\n",
       "      <th>FTM</th>\n",
       "      <th>FTA</th>\n",
       "      <th>FT_PCT</th>\n",
       "      <th>OREB</th>\n",
       "      <th>DREB</th>\n",
       "      <th>REB</th>\n",
       "      <th>AST</th>\n",
       "      <th>STL</th>\n",
       "      <th>BLK</th>\n",
       "      <th>TOV</th>\n",
       "      <th>PF</th>\n",
       "      <th>PLUS_MINUS</th>\n",
       "    </tr>\n",
       "  </thead>\n",
       "  <tbody>\n",
       "    <tr>\n",
       "      <th>0</th>\n",
       "      <td>W</td>\n",
       "      <td>130</td>\n",
       "      <td>47</td>\n",
       "      <td>82</td>\n",
       "      <td>0.573</td>\n",
       "      <td>16</td>\n",
       "      <td>35</td>\n",
       "      <td>0.457</td>\n",
       "      <td>20</td>\n",
       "      <td>22</td>\n",
       "      <td>0.909</td>\n",
       "      <td>3</td>\n",
       "      <td>32</td>\n",
       "      <td>35</td>\n",
       "      <td>30</td>\n",
       "      <td>8</td>\n",
       "      <td>2</td>\n",
       "      <td>11</td>\n",
       "      <td>20</td>\n",
       "      <td>6.0</td>\n",
       "    </tr>\n",
       "    <tr>\n",
       "      <th>1</th>\n",
       "      <td>W</td>\n",
       "      <td>121</td>\n",
       "      <td>44</td>\n",
       "      <td>87</td>\n",
       "      <td>0.506</td>\n",
       "      <td>13</td>\n",
       "      <td>32</td>\n",
       "      <td>0.406</td>\n",
       "      <td>20</td>\n",
       "      <td>27</td>\n",
       "      <td>0.741</td>\n",
       "      <td>8</td>\n",
       "      <td>29</td>\n",
       "      <td>37</td>\n",
       "      <td>27</td>\n",
       "      <td>9</td>\n",
       "      <td>2</td>\n",
       "      <td>14</td>\n",
       "      <td>22</td>\n",
       "      <td>9.0</td>\n",
       "    </tr>\n",
       "    <tr>\n",
       "      <th>2</th>\n",
       "      <td>L</td>\n",
       "      <td>113</td>\n",
       "      <td>39</td>\n",
       "      <td>84</td>\n",
       "      <td>0.464</td>\n",
       "      <td>18</td>\n",
       "      <td>41</td>\n",
       "      <td>0.439</td>\n",
       "      <td>17</td>\n",
       "      <td>21</td>\n",
       "      <td>0.810</td>\n",
       "      <td>8</td>\n",
       "      <td>31</td>\n",
       "      <td>39</td>\n",
       "      <td>30</td>\n",
       "      <td>9</td>\n",
       "      <td>2</td>\n",
       "      <td>12</td>\n",
       "      <td>17</td>\n",
       "      <td>-14.0</td>\n",
       "    </tr>\n",
       "    <tr>\n",
       "      <th>3</th>\n",
       "      <td>W</td>\n",
       "      <td>121</td>\n",
       "      <td>45</td>\n",
       "      <td>88</td>\n",
       "      <td>0.511</td>\n",
       "      <td>11</td>\n",
       "      <td>38</td>\n",
       "      <td>0.289</td>\n",
       "      <td>20</td>\n",
       "      <td>27</td>\n",
       "      <td>0.741</td>\n",
       "      <td>11</td>\n",
       "      <td>31</td>\n",
       "      <td>42</td>\n",
       "      <td>30</td>\n",
       "      <td>10</td>\n",
       "      <td>6</td>\n",
       "      <td>11</td>\n",
       "      <td>22</td>\n",
       "      <td>10.0</td>\n",
       "    </tr>\n",
       "    <tr>\n",
       "      <th>4</th>\n",
       "      <td>W</td>\n",
       "      <td>124</td>\n",
       "      <td>47</td>\n",
       "      <td>87</td>\n",
       "      <td>0.540</td>\n",
       "      <td>18</td>\n",
       "      <td>36</td>\n",
       "      <td>0.500</td>\n",
       "      <td>12</td>\n",
       "      <td>15</td>\n",
       "      <td>0.800</td>\n",
       "      <td>10</td>\n",
       "      <td>27</td>\n",
       "      <td>37</td>\n",
       "      <td>30</td>\n",
       "      <td>12</td>\n",
       "      <td>1</td>\n",
       "      <td>8</td>\n",
       "      <td>16</td>\n",
       "      <td>17.0</td>\n",
       "    </tr>\n",
       "    <tr>\n",
       "      <th>...</th>\n",
       "      <td>...</td>\n",
       "      <td>...</td>\n",
       "      <td>...</td>\n",
       "      <td>...</td>\n",
       "      <td>...</td>\n",
       "      <td>...</td>\n",
       "      <td>...</td>\n",
       "      <td>...</td>\n",
       "      <td>...</td>\n",
       "      <td>...</td>\n",
       "      <td>...</td>\n",
       "      <td>...</td>\n",
       "      <td>...</td>\n",
       "      <td>...</td>\n",
       "      <td>...</td>\n",
       "      <td>...</td>\n",
       "      <td>...</td>\n",
       "      <td>...</td>\n",
       "      <td>...</td>\n",
       "      <td>...</td>\n",
       "    </tr>\n",
       "    <tr>\n",
       "      <th>63</th>\n",
       "      <td>L</td>\n",
       "      <td>83</td>\n",
       "      <td>29</td>\n",
       "      <td>78</td>\n",
       "      <td>0.372</td>\n",
       "      <td>7</td>\n",
       "      <td>33</td>\n",
       "      <td>0.212</td>\n",
       "      <td>18</td>\n",
       "      <td>25</td>\n",
       "      <td>0.720</td>\n",
       "      <td>5</td>\n",
       "      <td>36</td>\n",
       "      <td>41</td>\n",
       "      <td>20</td>\n",
       "      <td>10</td>\n",
       "      <td>2</td>\n",
       "      <td>14</td>\n",
       "      <td>24</td>\n",
       "      <td>-10.0</td>\n",
       "    </tr>\n",
       "    <tr>\n",
       "      <th>64</th>\n",
       "      <td>W</td>\n",
       "      <td>119</td>\n",
       "      <td>40</td>\n",
       "      <td>82</td>\n",
       "      <td>0.488</td>\n",
       "      <td>15</td>\n",
       "      <td>39</td>\n",
       "      <td>0.385</td>\n",
       "      <td>24</td>\n",
       "      <td>29</td>\n",
       "      <td>0.828</td>\n",
       "      <td>10</td>\n",
       "      <td>42</td>\n",
       "      <td>52</td>\n",
       "      <td>25</td>\n",
       "      <td>5</td>\n",
       "      <td>5</td>\n",
       "      <td>22</td>\n",
       "      <td>18</td>\n",
       "      <td>11.0</td>\n",
       "    </tr>\n",
       "    <tr>\n",
       "      <th>65</th>\n",
       "      <td>L</td>\n",
       "      <td>97</td>\n",
       "      <td>37</td>\n",
       "      <td>79</td>\n",
       "      <td>0.468</td>\n",
       "      <td>11</td>\n",
       "      <td>37</td>\n",
       "      <td>0.297</td>\n",
       "      <td>12</td>\n",
       "      <td>18</td>\n",
       "      <td>0.667</td>\n",
       "      <td>3</td>\n",
       "      <td>27</td>\n",
       "      <td>30</td>\n",
       "      <td>23</td>\n",
       "      <td>9</td>\n",
       "      <td>6</td>\n",
       "      <td>21</td>\n",
       "      <td>18</td>\n",
       "      <td>-47.0</td>\n",
       "    </tr>\n",
       "    <tr>\n",
       "      <th>66</th>\n",
       "      <td>W</td>\n",
       "      <td>111</td>\n",
       "      <td>38</td>\n",
       "      <td>75</td>\n",
       "      <td>0.507</td>\n",
       "      <td>16</td>\n",
       "      <td>37</td>\n",
       "      <td>0.432</td>\n",
       "      <td>19</td>\n",
       "      <td>23</td>\n",
       "      <td>0.826</td>\n",
       "      <td>4</td>\n",
       "      <td>31</td>\n",
       "      <td>35</td>\n",
       "      <td>29</td>\n",
       "      <td>11</td>\n",
       "      <td>2</td>\n",
       "      <td>17</td>\n",
       "      <td>25</td>\n",
       "      <td>13.0</td>\n",
       "    </tr>\n",
       "    <tr>\n",
       "      <th>67</th>\n",
       "      <td>L</td>\n",
       "      <td>107</td>\n",
       "      <td>42</td>\n",
       "      <td>83</td>\n",
       "      <td>0.506</td>\n",
       "      <td>7</td>\n",
       "      <td>20</td>\n",
       "      <td>0.350</td>\n",
       "      <td>16</td>\n",
       "      <td>19</td>\n",
       "      <td>0.842</td>\n",
       "      <td>7</td>\n",
       "      <td>36</td>\n",
       "      <td>43</td>\n",
       "      <td>25</td>\n",
       "      <td>11</td>\n",
       "      <td>2</td>\n",
       "      <td>22</td>\n",
       "      <td>21</td>\n",
       "      <td>-6.0</td>\n",
       "    </tr>\n",
       "  </tbody>\n",
       "</table>\n",
       "<p>68 rows × 20 columns</p>\n",
       "</div>"
      ],
      "text/plain": [
       "   WL  PTS  FGM  FGA  FG_PCT  FG3M  FG3A  FG3_PCT  FTM  FTA  FT_PCT  OREB  \\\n",
       "0   W  130   47   82   0.573    16    35    0.457   20   22   0.909     3   \n",
       "1   W  121   44   87   0.506    13    32    0.406   20   27   0.741     8   \n",
       "2   L  113   39   84   0.464    18    41    0.439   17   21   0.810     8   \n",
       "3   W  121   45   88   0.511    11    38    0.289   20   27   0.741    11   \n",
       "4   W  124   47   87   0.540    18    36    0.500   12   15   0.800    10   \n",
       ".. ..  ...  ...  ...     ...   ...   ...      ...  ...  ...     ...   ...   \n",
       "63  L   83   29   78   0.372     7    33    0.212   18   25   0.720     5   \n",
       "64  W  119   40   82   0.488    15    39    0.385   24   29   0.828    10   \n",
       "65  L   97   37   79   0.468    11    37    0.297   12   18   0.667     3   \n",
       "66  W  111   38   75   0.507    16    37    0.432   19   23   0.826     4   \n",
       "67  L  107   42   83   0.506     7    20    0.350   16   19   0.842     7   \n",
       "\n",
       "    DREB  REB  AST  STL  BLK  TOV  PF  PLUS_MINUS  \n",
       "0     32   35   30    8    2   11  20         6.0  \n",
       "1     29   37   27    9    2   14  22         9.0  \n",
       "2     31   39   30    9    2   12  17       -14.0  \n",
       "3     31   42   30   10    6   11  22        10.0  \n",
       "4     27   37   30   12    1    8  16        17.0  \n",
       "..   ...  ...  ...  ...  ...  ...  ..         ...  \n",
       "63    36   41   20   10    2   14  24       -10.0  \n",
       "64    42   52   25    5    5   22  18        11.0  \n",
       "65    27   30   23    9    6   21  18       -47.0  \n",
       "66    31   35   29   11    2   17  25        13.0  \n",
       "67    36   43   25   11    2   22  21        -6.0  \n",
       "\n",
       "[68 rows x 20 columns]"
      ]
     },
     "execution_count": 13,
     "metadata": {},
     "output_type": "execute_result"
    }
   ],
   "source": [
    "MH_games_2020"
   ]
  },
  {
   "cell_type": "markdown",
   "metadata": {},
   "source": [
    "### A little checkpoint: Here we show the code to download a database from python to excel or csv"
   ]
  },
  {
   "cell_type": "code",
   "execution_count": 14,
   "metadata": {},
   "outputs": [],
   "source": [
    "##First we convert to a data frame\n",
    "##  MH=pd.DataFrame(MH_games_2020)"
   ]
  },
  {
   "cell_type": "code",
   "execution_count": 15,
   "metadata": {},
   "outputs": [],
   "source": [
    "## This is how we save it in the current directory\n",
    "##MH.to_excel('MH.xlsx')\n",
    "##MH.to_csv('MH.csv')\n",
    "\n",
    "## to know the current directory: pwd"
   ]
  },
  {
   "cell_type": "code",
   "execution_count": 16,
   "metadata": {},
   "outputs": [
    {
     "data": {
      "text/html": [
       "<div>\n",
       "<style scoped>\n",
       "    .dataframe tbody tr th:only-of-type {\n",
       "        vertical-align: middle;\n",
       "    }\n",
       "\n",
       "    .dataframe tbody tr th {\n",
       "        vertical-align: top;\n",
       "    }\n",
       "\n",
       "    .dataframe thead th {\n",
       "        text-align: right;\n",
       "    }\n",
       "</style>\n",
       "<table border=\"1\" class=\"dataframe\">\n",
       "  <thead>\n",
       "    <tr style=\"text-align: right;\">\n",
       "      <th></th>\n",
       "      <th>WL</th>\n",
       "      <th>PTS</th>\n",
       "      <th>FGM</th>\n",
       "      <th>FGA</th>\n",
       "      <th>FG_PCT</th>\n",
       "      <th>FG3M</th>\n",
       "      <th>FG3A</th>\n",
       "      <th>FG3_PCT</th>\n",
       "      <th>FTM</th>\n",
       "      <th>FTA</th>\n",
       "      <th>FT_PCT</th>\n",
       "      <th>OREB</th>\n",
       "      <th>DREB</th>\n",
       "      <th>REB</th>\n",
       "      <th>AST</th>\n",
       "      <th>STL</th>\n",
       "      <th>BLK</th>\n",
       "      <th>TOV</th>\n",
       "      <th>PF</th>\n",
       "      <th>PLUS_MINUS</th>\n",
       "    </tr>\n",
       "  </thead>\n",
       "  <tbody>\n",
       "    <tr>\n",
       "      <th>count</th>\n",
       "      <td>68</td>\n",
       "      <td>68.000000</td>\n",
       "      <td>68.000000</td>\n",
       "      <td>68.000000</td>\n",
       "      <td>68.000000</td>\n",
       "      <td>68.000000</td>\n",
       "      <td>68.000000</td>\n",
       "      <td>68.000000</td>\n",
       "      <td>68.000000</td>\n",
       "      <td>68.000000</td>\n",
       "      <td>68.000000</td>\n",
       "      <td>68.000000</td>\n",
       "      <td>68.000000</td>\n",
       "      <td>68.000000</td>\n",
       "      <td>68.000000</td>\n",
       "      <td>68.000000</td>\n",
       "      <td>68.000000</td>\n",
       "      <td>68.000000</td>\n",
       "      <td>68.000000</td>\n",
       "      <td>68.000000</td>\n",
       "    </tr>\n",
       "    <tr>\n",
       "      <th>unique</th>\n",
       "      <td>2</td>\n",
       "      <td>NaN</td>\n",
       "      <td>NaN</td>\n",
       "      <td>NaN</td>\n",
       "      <td>NaN</td>\n",
       "      <td>NaN</td>\n",
       "      <td>NaN</td>\n",
       "      <td>NaN</td>\n",
       "      <td>NaN</td>\n",
       "      <td>NaN</td>\n",
       "      <td>NaN</td>\n",
       "      <td>NaN</td>\n",
       "      <td>NaN</td>\n",
       "      <td>NaN</td>\n",
       "      <td>NaN</td>\n",
       "      <td>NaN</td>\n",
       "      <td>NaN</td>\n",
       "      <td>NaN</td>\n",
       "      <td>NaN</td>\n",
       "      <td>NaN</td>\n",
       "    </tr>\n",
       "    <tr>\n",
       "      <th>top</th>\n",
       "      <td>W</td>\n",
       "      <td>NaN</td>\n",
       "      <td>NaN</td>\n",
       "      <td>NaN</td>\n",
       "      <td>NaN</td>\n",
       "      <td>NaN</td>\n",
       "      <td>NaN</td>\n",
       "      <td>NaN</td>\n",
       "      <td>NaN</td>\n",
       "      <td>NaN</td>\n",
       "      <td>NaN</td>\n",
       "      <td>NaN</td>\n",
       "      <td>NaN</td>\n",
       "      <td>NaN</td>\n",
       "      <td>NaN</td>\n",
       "      <td>NaN</td>\n",
       "      <td>NaN</td>\n",
       "      <td>NaN</td>\n",
       "      <td>NaN</td>\n",
       "      <td>NaN</td>\n",
       "    </tr>\n",
       "    <tr>\n",
       "      <th>freq</th>\n",
       "      <td>37</td>\n",
       "      <td>NaN</td>\n",
       "      <td>NaN</td>\n",
       "      <td>NaN</td>\n",
       "      <td>NaN</td>\n",
       "      <td>NaN</td>\n",
       "      <td>NaN</td>\n",
       "      <td>NaN</td>\n",
       "      <td>NaN</td>\n",
       "      <td>NaN</td>\n",
       "      <td>NaN</td>\n",
       "      <td>NaN</td>\n",
       "      <td>NaN</td>\n",
       "      <td>NaN</td>\n",
       "      <td>NaN</td>\n",
       "      <td>NaN</td>\n",
       "      <td>NaN</td>\n",
       "      <td>NaN</td>\n",
       "      <td>NaN</td>\n",
       "      <td>NaN</td>\n",
       "    </tr>\n",
       "    <tr>\n",
       "      <th>mean</th>\n",
       "      <td>NaN</td>\n",
       "      <td>107.617647</td>\n",
       "      <td>38.941176</td>\n",
       "      <td>83.632353</td>\n",
       "      <td>0.465691</td>\n",
       "      <td>12.764706</td>\n",
       "      <td>36.147059</td>\n",
       "      <td>0.354721</td>\n",
       "      <td>16.970588</td>\n",
       "      <td>21.455882</td>\n",
       "      <td>0.789324</td>\n",
       "      <td>7.985294</td>\n",
       "      <td>33.500000</td>\n",
       "      <td>41.485294</td>\n",
       "      <td>26.279412</td>\n",
       "      <td>7.911765</td>\n",
       "      <td>3.941176</td>\n",
       "      <td>13.264706</td>\n",
       "      <td>18.970588</td>\n",
       "      <td>-0.250000</td>\n",
       "    </tr>\n",
       "    <tr>\n",
       "      <th>std</th>\n",
       "      <td>NaN</td>\n",
       "      <td>12.090491</td>\n",
       "      <td>5.159782</td>\n",
       "      <td>6.535562</td>\n",
       "      <td>0.050656</td>\n",
       "      <td>3.148644</td>\n",
       "      <td>6.194038</td>\n",
       "      <td>0.071671</td>\n",
       "      <td>5.291420</td>\n",
       "      <td>6.001079</td>\n",
       "      <td>0.100064</td>\n",
       "      <td>3.225332</td>\n",
       "      <td>5.443057</td>\n",
       "      <td>6.896879</td>\n",
       "      <td>4.356658</td>\n",
       "      <td>3.170457</td>\n",
       "      <td>2.057983</td>\n",
       "      <td>4.002304</td>\n",
       "      <td>3.669034</td>\n",
       "      <td>13.567273</td>\n",
       "    </tr>\n",
       "    <tr>\n",
       "      <th>min</th>\n",
       "      <td>NaN</td>\n",
       "      <td>80.000000</td>\n",
       "      <td>26.000000</td>\n",
       "      <td>67.000000</td>\n",
       "      <td>0.360000</td>\n",
       "      <td>7.000000</td>\n",
       "      <td>20.000000</td>\n",
       "      <td>0.194000</td>\n",
       "      <td>4.000000</td>\n",
       "      <td>7.000000</td>\n",
       "      <td>0.500000</td>\n",
       "      <td>1.000000</td>\n",
       "      <td>21.000000</td>\n",
       "      <td>26.000000</td>\n",
       "      <td>15.000000</td>\n",
       "      <td>1.000000</td>\n",
       "      <td>0.000000</td>\n",
       "      <td>5.000000</td>\n",
       "      <td>12.000000</td>\n",
       "      <td>-47.000000</td>\n",
       "    </tr>\n",
       "    <tr>\n",
       "      <th>25%</th>\n",
       "      <td>NaN</td>\n",
       "      <td>101.000000</td>\n",
       "      <td>36.000000</td>\n",
       "      <td>80.000000</td>\n",
       "      <td>0.431500</td>\n",
       "      <td>10.750000</td>\n",
       "      <td>33.000000</td>\n",
       "      <td>0.297000</td>\n",
       "      <td>13.000000</td>\n",
       "      <td>18.000000</td>\n",
       "      <td>0.730000</td>\n",
       "      <td>6.000000</td>\n",
       "      <td>30.000000</td>\n",
       "      <td>37.000000</td>\n",
       "      <td>24.000000</td>\n",
       "      <td>6.000000</td>\n",
       "      <td>2.000000</td>\n",
       "      <td>11.000000</td>\n",
       "      <td>16.750000</td>\n",
       "      <td>-8.000000</td>\n",
       "    </tr>\n",
       "    <tr>\n",
       "      <th>50%</th>\n",
       "      <td>NaN</td>\n",
       "      <td>108.500000</td>\n",
       "      <td>39.000000</td>\n",
       "      <td>83.000000</td>\n",
       "      <td>0.469000</td>\n",
       "      <td>13.000000</td>\n",
       "      <td>36.000000</td>\n",
       "      <td>0.360500</td>\n",
       "      <td>16.000000</td>\n",
       "      <td>21.500000</td>\n",
       "      <td>0.810000</td>\n",
       "      <td>8.000000</td>\n",
       "      <td>33.000000</td>\n",
       "      <td>42.000000</td>\n",
       "      <td>27.000000</td>\n",
       "      <td>8.000000</td>\n",
       "      <td>4.000000</td>\n",
       "      <td>13.000000</td>\n",
       "      <td>19.500000</td>\n",
       "      <td>2.000000</td>\n",
       "    </tr>\n",
       "    <tr>\n",
       "      <th>75%</th>\n",
       "      <td>NaN</td>\n",
       "      <td>116.000000</td>\n",
       "      <td>43.000000</td>\n",
       "      <td>87.000000</td>\n",
       "      <td>0.494250</td>\n",
       "      <td>15.000000</td>\n",
       "      <td>39.000000</td>\n",
       "      <td>0.407000</td>\n",
       "      <td>20.000000</td>\n",
       "      <td>25.000000</td>\n",
       "      <td>0.850000</td>\n",
       "      <td>10.000000</td>\n",
       "      <td>37.000000</td>\n",
       "      <td>46.250000</td>\n",
       "      <td>29.000000</td>\n",
       "      <td>10.000000</td>\n",
       "      <td>6.000000</td>\n",
       "      <td>16.000000</td>\n",
       "      <td>21.000000</td>\n",
       "      <td>9.000000</td>\n",
       "    </tr>\n",
       "    <tr>\n",
       "      <th>max</th>\n",
       "      <td>NaN</td>\n",
       "      <td>134.000000</td>\n",
       "      <td>49.000000</td>\n",
       "      <td>104.000000</td>\n",
       "      <td>0.573000</td>\n",
       "      <td>19.000000</td>\n",
       "      <td>56.000000</td>\n",
       "      <td>0.500000</td>\n",
       "      <td>32.000000</td>\n",
       "      <td>40.000000</td>\n",
       "      <td>0.950000</td>\n",
       "      <td>17.000000</td>\n",
       "      <td>51.000000</td>\n",
       "      <td>61.000000</td>\n",
       "      <td>36.000000</td>\n",
       "      <td>16.000000</td>\n",
       "      <td>8.000000</td>\n",
       "      <td>22.000000</td>\n",
       "      <td>28.000000</td>\n",
       "      <td>28.000000</td>\n",
       "    </tr>\n",
       "  </tbody>\n",
       "</table>\n",
       "</div>"
      ],
      "text/plain": [
       "         WL         PTS        FGM         FGA     FG_PCT       FG3M  \\\n",
       "count    68   68.000000  68.000000   68.000000  68.000000  68.000000   \n",
       "unique    2         NaN        NaN         NaN        NaN        NaN   \n",
       "top       W         NaN        NaN         NaN        NaN        NaN   \n",
       "freq     37         NaN        NaN         NaN        NaN        NaN   \n",
       "mean    NaN  107.617647  38.941176   83.632353   0.465691  12.764706   \n",
       "std     NaN   12.090491   5.159782    6.535562   0.050656   3.148644   \n",
       "min     NaN   80.000000  26.000000   67.000000   0.360000   7.000000   \n",
       "25%     NaN  101.000000  36.000000   80.000000   0.431500  10.750000   \n",
       "50%     NaN  108.500000  39.000000   83.000000   0.469000  13.000000   \n",
       "75%     NaN  116.000000  43.000000   87.000000   0.494250  15.000000   \n",
       "max     NaN  134.000000  49.000000  104.000000   0.573000  19.000000   \n",
       "\n",
       "             FG3A    FG3_PCT        FTM        FTA     FT_PCT       OREB  \\\n",
       "count   68.000000  68.000000  68.000000  68.000000  68.000000  68.000000   \n",
       "unique        NaN        NaN        NaN        NaN        NaN        NaN   \n",
       "top           NaN        NaN        NaN        NaN        NaN        NaN   \n",
       "freq          NaN        NaN        NaN        NaN        NaN        NaN   \n",
       "mean    36.147059   0.354721  16.970588  21.455882   0.789324   7.985294   \n",
       "std      6.194038   0.071671   5.291420   6.001079   0.100064   3.225332   \n",
       "min     20.000000   0.194000   4.000000   7.000000   0.500000   1.000000   \n",
       "25%     33.000000   0.297000  13.000000  18.000000   0.730000   6.000000   \n",
       "50%     36.000000   0.360500  16.000000  21.500000   0.810000   8.000000   \n",
       "75%     39.000000   0.407000  20.000000  25.000000   0.850000  10.000000   \n",
       "max     56.000000   0.500000  32.000000  40.000000   0.950000  17.000000   \n",
       "\n",
       "             DREB        REB        AST        STL        BLK        TOV  \\\n",
       "count   68.000000  68.000000  68.000000  68.000000  68.000000  68.000000   \n",
       "unique        NaN        NaN        NaN        NaN        NaN        NaN   \n",
       "top           NaN        NaN        NaN        NaN        NaN        NaN   \n",
       "freq          NaN        NaN        NaN        NaN        NaN        NaN   \n",
       "mean    33.500000  41.485294  26.279412   7.911765   3.941176  13.264706   \n",
       "std      5.443057   6.896879   4.356658   3.170457   2.057983   4.002304   \n",
       "min     21.000000  26.000000  15.000000   1.000000   0.000000   5.000000   \n",
       "25%     30.000000  37.000000  24.000000   6.000000   2.000000  11.000000   \n",
       "50%     33.000000  42.000000  27.000000   8.000000   4.000000  13.000000   \n",
       "75%     37.000000  46.250000  29.000000  10.000000   6.000000  16.000000   \n",
       "max     51.000000  61.000000  36.000000  16.000000   8.000000  22.000000   \n",
       "\n",
       "               PF  PLUS_MINUS  \n",
       "count   68.000000   68.000000  \n",
       "unique        NaN         NaN  \n",
       "top           NaN         NaN  \n",
       "freq          NaN         NaN  \n",
       "mean    18.970588   -0.250000  \n",
       "std      3.669034   13.567273  \n",
       "min     12.000000  -47.000000  \n",
       "25%     16.750000   -8.000000  \n",
       "50%     19.500000    2.000000  \n",
       "75%     21.000000    9.000000  \n",
       "max     28.000000   28.000000  "
      ]
     },
     "execution_count": 16,
     "metadata": {},
     "output_type": "execute_result"
    }
   ],
   "source": [
    "MH_games_2020.describe(include='all')"
   ]
  },
  {
   "cell_type": "markdown",
   "metadata": {},
   "source": [
    "## 3.- Now that we have the database we explore it"
   ]
  },
  {
   "cell_type": "code",
   "execution_count": 17,
   "metadata": {},
   "outputs": [
    {
     "name": "stdout",
     "output_type": "stream",
     "text": [
      "WL\n",
      "False    68\n",
      "Name: WL, dtype: int64\n",
      "\n",
      "PTS\n",
      "False    68\n",
      "Name: PTS, dtype: int64\n",
      "\n",
      "FGM\n",
      "False    68\n",
      "Name: FGM, dtype: int64\n",
      "\n",
      "FGA\n",
      "False    68\n",
      "Name: FGA, dtype: int64\n",
      "\n",
      "FG_PCT\n",
      "False    68\n",
      "Name: FG_PCT, dtype: int64\n",
      "\n",
      "FG3M\n",
      "False    68\n",
      "Name: FG3M, dtype: int64\n",
      "\n",
      "FG3A\n",
      "False    68\n",
      "Name: FG3A, dtype: int64\n",
      "\n",
      "FG3_PCT\n",
      "False    68\n",
      "Name: FG3_PCT, dtype: int64\n",
      "\n",
      "FTM\n",
      "False    68\n",
      "Name: FTM, dtype: int64\n",
      "\n",
      "FTA\n",
      "False    68\n",
      "Name: FTA, dtype: int64\n",
      "\n",
      "FT_PCT\n",
      "False    68\n",
      "Name: FT_PCT, dtype: int64\n",
      "\n",
      "OREB\n",
      "False    68\n",
      "Name: OREB, dtype: int64\n",
      "\n",
      "DREB\n",
      "False    68\n",
      "Name: DREB, dtype: int64\n",
      "\n",
      "REB\n",
      "False    68\n",
      "Name: REB, dtype: int64\n",
      "\n",
      "AST\n",
      "False    68\n",
      "Name: AST, dtype: int64\n",
      "\n",
      "STL\n",
      "False    68\n",
      "Name: STL, dtype: int64\n",
      "\n",
      "BLK\n",
      "False    68\n",
      "Name: BLK, dtype: int64\n",
      "\n",
      "TOV\n",
      "False    68\n",
      "Name: TOV, dtype: int64\n",
      "\n",
      "PF\n",
      "False    68\n",
      "Name: PF, dtype: int64\n",
      "\n",
      "PLUS_MINUS\n",
      "False    68\n",
      "Name: PLUS_MINUS, dtype: int64\n",
      "\n"
     ]
    }
   ],
   "source": [
    "## Counting missing values for each column\n",
    "missing_data = MH_games_2020.isnull()\n",
    "\n",
    "for column in missing_data.columns.values.tolist():\n",
    "    print(column)\n",
    "    print(missing_data[column].value_counts())\n",
    "    print(\"\")"
   ]
  },
  {
   "cell_type": "markdown",
   "metadata": {},
   "source": [
    "  We got into the conclussion that there is no missing data. \n",
    "  So now we take a look at the datatype format to know if we can performn the model or not with the actual type"
   ]
  },
  {
   "cell_type": "code",
   "execution_count": 18,
   "metadata": {},
   "outputs": [
    {
     "data": {
      "text/plain": [
       "WL             object\n",
       "PTS             int64\n",
       "FGM             int64\n",
       "FGA             int64\n",
       "FG_PCT        float64\n",
       "FG3M            int64\n",
       "FG3A            int64\n",
       "FG3_PCT       float64\n",
       "FTM             int64\n",
       "FTA             int64\n",
       "FT_PCT        float64\n",
       "OREB            int64\n",
       "DREB            int64\n",
       "REB             int64\n",
       "AST             int64\n",
       "STL             int64\n",
       "BLK             int64\n",
       "TOV             int64\n",
       "PF              int64\n",
       "PLUS_MINUS    float64\n",
       "dtype: object"
      ]
     },
     "execution_count": 18,
     "metadata": {},
     "output_type": "execute_result"
    }
   ],
   "source": [
    "MH_games_2020.dtypes"
   ]
  },
  {
   "cell_type": "markdown",
   "metadata": {},
   "source": [
    "The only object column we have is 'WL'. We will leave our database like it is right know, and later on we will make it into a dummy variable"
   ]
  },
  {
   "cell_type": "markdown",
   "metadata": {},
   "source": [
    "## 4.- Now we will analyze each variable vs 'PLUS_MINUS' (Exploratory Analysis)"
   ]
  },
  {
   "cell_type": "markdown",
   "metadata": {},
   "source": [
    "We now analyze the independent variables vs the dependent variables to see if the problem is linear or non linear.\n",
    "\n",
    "To do this, we will\n",
    "1.- Perform a Visualization \n",
    "2.- Correlation (higher 70%)"
   ]
  },
  {
   "cell_type": "markdown",
   "metadata": {},
   "source": [
    "### PTS vs PLUS_MINUS"
   ]
  },
  {
   "cell_type": "code",
   "execution_count": 19,
   "metadata": {},
   "outputs": [],
   "source": [
    "%%capture\n",
    "! pip install seaborn"
   ]
  },
  {
   "cell_type": "code",
   "execution_count": 20,
   "metadata": {},
   "outputs": [],
   "source": [
    "import matplotlib.pyplot as plt\n",
    "import seaborn as sns\n",
    "%matplotlib inline "
   ]
  },
  {
   "cell_type": "code",
   "execution_count": 21,
   "metadata": {},
   "outputs": [
    {
     "data": {
      "text/plain": [
       "<module 'matplotlib.pyplot' from 'C:\\\\Users\\\\Gabo\\\\anaconda3\\\\lib\\\\site-packages\\\\matplotlib\\\\pyplot.py'>"
      ]
     },
     "execution_count": 21,
     "metadata": {},
     "output_type": "execute_result"
    },
    {
     "data": {
      "image/png": "[encoded data removed]",
      "text/plain": [
       "<Figure size 432x288 with 1 Axes>"
      ]
     },
     "metadata": {
      "needs_background": "light"
     },
     "output_type": "display_data"
    }
   ],
   "source": [
    "# PTS as potential predictor variable of 'PLUS_MINUS'\n",
    "sns.regplot(x=\"PTS\", y=\"PLUS_MINUS\", data=MH_games_2020)\n",
    "plt"
   ]
  },
  {
   "cell_type": "code",
   "execution_count": 22,
   "metadata": {},
   "outputs": [
    {
     "data": {
      "text/html": [
       "<div>\n",
       "<style scoped>\n",
       "    .dataframe tbody tr th:only-of-type {\n",
       "        vertical-align: middle;\n",
       "    }\n",
       "\n",
       "    .dataframe tbody tr th {\n",
       "        vertical-align: top;\n",
       "    }\n",
       "\n",
       "    .dataframe thead th {\n",
       "        text-align: right;\n",
       "    }\n",
       "</style>\n",
       "<table border=\"1\" class=\"dataframe\">\n",
       "  <thead>\n",
       "    <tr style=\"text-align: right;\">\n",
       "      <th></th>\n",
       "      <th>PTS</th>\n",
       "      <th>PLUS_MINUS</th>\n",
       "    </tr>\n",
       "  </thead>\n",
       "  <tbody>\n",
       "    <tr>\n",
       "      <th>PTS</th>\n",
       "      <td>1.000000</td>\n",
       "      <td>0.472824</td>\n",
       "    </tr>\n",
       "    <tr>\n",
       "      <th>PLUS_MINUS</th>\n",
       "      <td>0.472824</td>\n",
       "      <td>1.000000</td>\n",
       "    </tr>\n",
       "  </tbody>\n",
       "</table>\n",
       "</div>"
      ],
      "text/plain": [
       "                 PTS  PLUS_MINUS\n",
       "PTS         1.000000    0.472824\n",
       "PLUS_MINUS  0.472824    1.000000"
      ]
     },
     "execution_count": 22,
     "metadata": {},
     "output_type": "execute_result"
    }
   ],
   "source": [
    "MH_games_2020[['PTS','PLUS_MINUS']].corr()"
   ]
  },
  {
   "cell_type": "markdown",
   "metadata": {},
   "source": [
    "We conclude that PTS vs PLUS_MINUS dont have a strong linear relationship. It means, if the team scores above 100pts doesnt mean they are going to win"
   ]
  },
  {
   "cell_type": "markdown",
   "metadata": {},
   "source": [
    "### FGM vs PLUS_MINUS"
   ]
  },
  {
   "cell_type": "code",
   "execution_count": 23,
   "metadata": {},
   "outputs": [
    {
     "data": {
      "text/plain": [
       "<module 'matplotlib.pyplot' from 'C:\\\\Users\\\\Gabo\\\\anaconda3\\\\lib\\\\site-packages\\\\matplotlib\\\\pyplot.py'>"
      ]
     },
     "execution_count": 23,
     "metadata": {},
     "output_type": "execute_result"
    },
    {
     "data": {
      "image/png": "[encoded data removed]",
      "text/plain": [
       "<Figure size 432x288 with 1 Axes>"
      ]
     },
     "metadata": {
      "needs_background": "light"
     },
     "output_type": "display_data"
    }
   ],
   "source": [
    "# FGM as potential predictor variable of 'PLUS_MINUS'\n",
    "sns.regplot(x=\"FGM\", y=\"PLUS_MINUS\", data=MH_games_2020)\n",
    "plt"
   ]
  },
  {
   "cell_type": "code",
   "execution_count": 24,
   "metadata": {},
   "outputs": [
    {
     "data": {
      "text/html": [
       "<div>\n",
       "<style scoped>\n",
       "    .dataframe tbody tr th:only-of-type {\n",
       "        vertical-align: middle;\n",
       "    }\n",
       "\n",
       "    .dataframe tbody tr th {\n",
       "        vertical-align: top;\n",
       "    }\n",
       "\n",
       "    .dataframe thead th {\n",
       "        text-align: right;\n",
       "    }\n",
       "</style>\n",
       "<table border=\"1\" class=\"dataframe\">\n",
       "  <thead>\n",
       "    <tr style=\"text-align: right;\">\n",
       "      <th></th>\n",
       "      <th>FGM</th>\n",
       "      <th>PLUS_MINUS</th>\n",
       "    </tr>\n",
       "  </thead>\n",
       "  <tbody>\n",
       "    <tr>\n",
       "      <th>FGM</th>\n",
       "      <td>1.000000</td>\n",
       "      <td>0.370127</td>\n",
       "    </tr>\n",
       "    <tr>\n",
       "      <th>PLUS_MINUS</th>\n",
       "      <td>0.370127</td>\n",
       "      <td>1.000000</td>\n",
       "    </tr>\n",
       "  </tbody>\n",
       "</table>\n",
       "</div>"
      ],
      "text/plain": [
       "                 FGM  PLUS_MINUS\n",
       "FGM         1.000000    0.370127\n",
       "PLUS_MINUS  0.370127    1.000000"
      ]
     },
     "execution_count": 24,
     "metadata": {},
     "output_type": "execute_result"
    }
   ],
   "source": [
    "MH_games_2020[['FGM','PLUS_MINUS']].corr()"
   ]
  },
  {
   "cell_type": "markdown",
   "metadata": {},
   "source": [
    "### FGA vs PLUS_MINUS"
   ]
  },
  {
   "cell_type": "code",
   "execution_count": 25,
   "metadata": {},
   "outputs": [
    {
     "data": {
      "text/plain": [
       "<module 'matplotlib.pyplot' from 'C:\\\\Users\\\\Gabo\\\\anaconda3\\\\lib\\\\site-packages\\\\matplotlib\\\\pyplot.py'>"
      ]
     },
     "execution_count": 25,
     "metadata": {},
     "output_type": "execute_result"
    },
    {
     "data": {
      "image/png": "[encoded data removed]",
      "text/plain": [
       "<Figure size 432x288 with 1 Axes>"
      ]
     },
     "metadata": {
      "needs_background": "light"
     },
     "output_type": "display_data"
    }
   ],
   "source": [
    "# FGA as potential predictor variable of 'PLUS_MINUS'\n",
    "sns.regplot(x=\"FGA\", y=\"PLUS_MINUS\", data=MH_games_2020)\n",
    "plt"
   ]
  },
  {
   "cell_type": "code",
   "execution_count": 26,
   "metadata": {},
   "outputs": [
    {
     "data": {
      "text/html": [
       "<div>\n",
       "<style scoped>\n",
       "    .dataframe tbody tr th:only-of-type {\n",
       "        vertical-align: middle;\n",
       "    }\n",
       "\n",
       "    .dataframe tbody tr th {\n",
       "        vertical-align: top;\n",
       "    }\n",
       "\n",
       "    .dataframe thead th {\n",
       "        text-align: right;\n",
       "    }\n",
       "</style>\n",
       "<table border=\"1\" class=\"dataframe\">\n",
       "  <thead>\n",
       "    <tr style=\"text-align: right;\">\n",
       "      <th></th>\n",
       "      <th>FGA</th>\n",
       "      <th>PLUS_MINUS</th>\n",
       "    </tr>\n",
       "  </thead>\n",
       "  <tbody>\n",
       "    <tr>\n",
       "      <th>FGA</th>\n",
       "      <td>1.000000</td>\n",
       "      <td>0.083616</td>\n",
       "    </tr>\n",
       "    <tr>\n",
       "      <th>PLUS_MINUS</th>\n",
       "      <td>0.083616</td>\n",
       "      <td>1.000000</td>\n",
       "    </tr>\n",
       "  </tbody>\n",
       "</table>\n",
       "</div>"
      ],
      "text/plain": [
       "                 FGA  PLUS_MINUS\n",
       "FGA         1.000000    0.083616\n",
       "PLUS_MINUS  0.083616    1.000000"
      ]
     },
     "execution_count": 26,
     "metadata": {},
     "output_type": "execute_result"
    }
   ],
   "source": [
    "MH_games_2020[['FGA','PLUS_MINUS']].corr()"
   ]
  },
  {
   "cell_type": "markdown",
   "metadata": {},
   "source": [
    "### FG_PCT vs PLUS_MINUS"
   ]
  },
  {
   "cell_type": "code",
   "execution_count": 27,
   "metadata": {},
   "outputs": [
    {
     "data": {
      "text/plain": [
       "<module 'matplotlib.pyplot' from 'C:\\\\Users\\\\Gabo\\\\anaconda3\\\\lib\\\\site-packages\\\\matplotlib\\\\pyplot.py'>"
      ]
     },
     "execution_count": 27,
     "metadata": {},
     "output_type": "execute_result"
    },
    {
     "data": {
      "image/png": "[encoded data removed]",
      "text/plain": [
       "<Figure size 432x288 with 1 Axes>"
      ]
     },
     "metadata": {
      "needs_background": "light"
     },
     "output_type": "display_data"
    }
   ],
   "source": [
    "# FG_PCT as potential predictor variable of 'PLUS_MINUS'\n",
    "sns.regplot(x=\"FG_PCT\", y=\"PLUS_MINUS\", data=MH_games_2020)\n",
    "plt"
   ]
  },
  {
   "cell_type": "code",
   "execution_count": 28,
   "metadata": {},
   "outputs": [
    {
     "data": {
      "text/html": [
       "<div>\n",
       "<style scoped>\n",
       "    .dataframe tbody tr th:only-of-type {\n",
       "        vertical-align: middle;\n",
       "    }\n",
       "\n",
       "    .dataframe tbody tr th {\n",
       "        vertical-align: top;\n",
       "    }\n",
       "\n",
       "    .dataframe thead th {\n",
       "        text-align: right;\n",
       "    }\n",
       "</style>\n",
       "<table border=\"1\" class=\"dataframe\">\n",
       "  <thead>\n",
       "    <tr style=\"text-align: right;\">\n",
       "      <th></th>\n",
       "      <th>FG_PCT</th>\n",
       "      <th>PLUS_MINUS</th>\n",
       "    </tr>\n",
       "  </thead>\n",
       "  <tbody>\n",
       "    <tr>\n",
       "      <th>FG_PCT</th>\n",
       "      <td>1.000000</td>\n",
       "      <td>0.393397</td>\n",
       "    </tr>\n",
       "    <tr>\n",
       "      <th>PLUS_MINUS</th>\n",
       "      <td>0.393397</td>\n",
       "      <td>1.000000</td>\n",
       "    </tr>\n",
       "  </tbody>\n",
       "</table>\n",
       "</div>"
      ],
      "text/plain": [
       "              FG_PCT  PLUS_MINUS\n",
       "FG_PCT      1.000000    0.393397\n",
       "PLUS_MINUS  0.393397    1.000000"
      ]
     },
     "execution_count": 28,
     "metadata": {},
     "output_type": "execute_result"
    }
   ],
   "source": [
    "MH_games_2020[['FG_PCT','PLUS_MINUS']].corr()"
   ]
  },
  {
   "cell_type": "markdown",
   "metadata": {},
   "source": [
    "### FG3M vs PLUS_MINUS"
   ]
  },
  {
   "cell_type": "code",
   "execution_count": 29,
   "metadata": {},
   "outputs": [
    {
     "data": {
      "text/plain": [
       "<module 'matplotlib.pyplot' from 'C:\\\\Users\\\\Gabo\\\\anaconda3\\\\lib\\\\site-packages\\\\matplotlib\\\\pyplot.py'>"
      ]
     },
     "execution_count": 29,
     "metadata": {},
     "output_type": "execute_result"
    },
    {
     "data": {
      "image/png": "[encoded data removed]",
      "text/plain": [
       "<Figure size 432x288 with 1 Axes>"
      ]
     },
     "metadata": {
      "needs_background": "light"
     },
     "output_type": "display_data"
    }
   ],
   "source": [
    "# FG3M as potential predictor variable of 'PLUS_MINUS'\n",
    "sns.regplot(x=\"FG3M\", y=\"PLUS_MINUS\", data=MH_games_2020)\n",
    "plt"
   ]
  },
  {
   "cell_type": "code",
   "execution_count": 30,
   "metadata": {},
   "outputs": [
    {
     "data": {
      "text/html": [
       "<div>\n",
       "<style scoped>\n",
       "    .dataframe tbody tr th:only-of-type {\n",
       "        vertical-align: middle;\n",
       "    }\n",
       "\n",
       "    .dataframe tbody tr th {\n",
       "        vertical-align: top;\n",
       "    }\n",
       "\n",
       "    .dataframe thead th {\n",
       "        text-align: right;\n",
       "    }\n",
       "</style>\n",
       "<table border=\"1\" class=\"dataframe\">\n",
       "  <thead>\n",
       "    <tr style=\"text-align: right;\">\n",
       "      <th></th>\n",
       "      <th>FG3M</th>\n",
       "      <th>PLUS_MINUS</th>\n",
       "    </tr>\n",
       "  </thead>\n",
       "  <tbody>\n",
       "    <tr>\n",
       "      <th>FG3M</th>\n",
       "      <td>1.000000</td>\n",
       "      <td>0.353582</td>\n",
       "    </tr>\n",
       "    <tr>\n",
       "      <th>PLUS_MINUS</th>\n",
       "      <td>0.353582</td>\n",
       "      <td>1.000000</td>\n",
       "    </tr>\n",
       "  </tbody>\n",
       "</table>\n",
       "</div>"
      ],
      "text/plain": [
       "                FG3M  PLUS_MINUS\n",
       "FG3M        1.000000    0.353582\n",
       "PLUS_MINUS  0.353582    1.000000"
      ]
     },
     "execution_count": 30,
     "metadata": {},
     "output_type": "execute_result"
    }
   ],
   "source": [
    "MH_games_2020[['FG3M','PLUS_MINUS']].corr()"
   ]
  },
  {
   "cell_type": "markdown",
   "metadata": {},
   "source": [
    "### FG3A vs PLUS_MINUS"
   ]
  },
  {
   "cell_type": "code",
   "execution_count": 31,
   "metadata": {},
   "outputs": [
    {
     "data": {
      "text/plain": [
       "<module 'matplotlib.pyplot' from 'C:\\\\Users\\\\Gabo\\\\anaconda3\\\\lib\\\\site-packages\\\\matplotlib\\\\pyplot.py'>"
      ]
     },
     "execution_count": 31,
     "metadata": {},
     "output_type": "execute_result"
    },
    {
     "data": {
      "image/png": "[encoded data removed]",
      "text/plain": [
       "<Figure size 432x288 with 1 Axes>"
      ]
     },
     "metadata": {
      "needs_background": "light"
     },
     "output_type": "display_data"
    }
   ],
   "source": [
    "# FG3M as potential predictor variable of 'PLUS_MINUS'\n",
    "sns.regplot(x=\"FG3A\", y=\"PLUS_MINUS\", data=MH_games_2020)\n",
    "plt"
   ]
  },
  {
   "cell_type": "code",
   "execution_count": 32,
   "metadata": {},
   "outputs": [
    {
     "data": {
      "text/html": [
       "<div>\n",
       "<style scoped>\n",
       "    .dataframe tbody tr th:only-of-type {\n",
       "        vertical-align: middle;\n",
       "    }\n",
       "\n",
       "    .dataframe tbody tr th {\n",
       "        vertical-align: top;\n",
       "    }\n",
       "\n",
       "    .dataframe thead th {\n",
       "        text-align: right;\n",
       "    }\n",
       "</style>\n",
       "<table border=\"1\" class=\"dataframe\">\n",
       "  <thead>\n",
       "    <tr style=\"text-align: right;\">\n",
       "      <th></th>\n",
       "      <th>FG3A</th>\n",
       "      <th>PLUS_MINUS</th>\n",
       "    </tr>\n",
       "  </thead>\n",
       "  <tbody>\n",
       "    <tr>\n",
       "      <th>FG3A</th>\n",
       "      <td>1.0000</td>\n",
       "      <td>-0.0349</td>\n",
       "    </tr>\n",
       "    <tr>\n",
       "      <th>PLUS_MINUS</th>\n",
       "      <td>-0.0349</td>\n",
       "      <td>1.0000</td>\n",
       "    </tr>\n",
       "  </tbody>\n",
       "</table>\n",
       "</div>"
      ],
      "text/plain": [
       "              FG3A  PLUS_MINUS\n",
       "FG3A        1.0000     -0.0349\n",
       "PLUS_MINUS -0.0349      1.0000"
      ]
     },
     "execution_count": 32,
     "metadata": {},
     "output_type": "execute_result"
    }
   ],
   "source": [
    "MH_games_2020[['FG3A','PLUS_MINUS']].corr()"
   ]
  },
  {
   "cell_type": "markdown",
   "metadata": {},
   "source": [
    "### FG3_PCT vs PLUS_MINUS"
   ]
  },
  {
   "cell_type": "code",
   "execution_count": 33,
   "metadata": {},
   "outputs": [
    {
     "data": {
      "text/plain": [
       "<module 'matplotlib.pyplot' from 'C:\\\\Users\\\\Gabo\\\\anaconda3\\\\lib\\\\site-packages\\\\matplotlib\\\\pyplot.py'>"
      ]
     },
     "execution_count": 33,
     "metadata": {},
     "output_type": "execute_result"
    },
    {
     "data": {
      "image/png": "[encoded data removed]",
      "text/plain": [
       "<Figure size 432x288 with 1 Axes>"
      ]
     },
     "metadata": {
      "needs_background": "light"
     },
     "output_type": "display_data"
    }
   ],
   "source": [
    "# FG3_PCT as potential predictor variable of 'PLUS_MINUS'\n",
    "sns.regplot(x=\"FG3_PCT\", y=\"PLUS_MINUS\", data=MH_games_2020)\n",
    "plt"
   ]
  },
  {
   "cell_type": "code",
   "execution_count": 34,
   "metadata": {},
   "outputs": [
    {
     "data": {
      "text/html": [
       "<div>\n",
       "<style scoped>\n",
       "    .dataframe tbody tr th:only-of-type {\n",
       "        vertical-align: middle;\n",
       "    }\n",
       "\n",
       "    .dataframe tbody tr th {\n",
       "        vertical-align: top;\n",
       "    }\n",
       "\n",
       "    .dataframe thead th {\n",
       "        text-align: right;\n",
       "    }\n",
       "</style>\n",
       "<table border=\"1\" class=\"dataframe\">\n",
       "  <thead>\n",
       "    <tr style=\"text-align: right;\">\n",
       "      <th></th>\n",
       "      <th>FG3_PCT</th>\n",
       "      <th>PLUS_MINUS</th>\n",
       "    </tr>\n",
       "  </thead>\n",
       "  <tbody>\n",
       "    <tr>\n",
       "      <th>FG3_PCT</th>\n",
       "      <td>1.00000</td>\n",
       "      <td>0.45341</td>\n",
       "    </tr>\n",
       "    <tr>\n",
       "      <th>PLUS_MINUS</th>\n",
       "      <td>0.45341</td>\n",
       "      <td>1.00000</td>\n",
       "    </tr>\n",
       "  </tbody>\n",
       "</table>\n",
       "</div>"
      ],
      "text/plain": [
       "            FG3_PCT  PLUS_MINUS\n",
       "FG3_PCT     1.00000     0.45341\n",
       "PLUS_MINUS  0.45341     1.00000"
      ]
     },
     "execution_count": 34,
     "metadata": {},
     "output_type": "execute_result"
    }
   ],
   "source": [
    "MH_games_2020[['FG3_PCT','PLUS_MINUS']].corr()"
   ]
  },
  {
   "cell_type": "markdown",
   "metadata": {},
   "source": [
    "### FTM vs PLUS_MINUS"
   ]
  },
  {
   "cell_type": "code",
   "execution_count": 35,
   "metadata": {},
   "outputs": [
    {
     "data": {
      "text/plain": [
       "<module 'matplotlib.pyplot' from 'C:\\\\Users\\\\Gabo\\\\anaconda3\\\\lib\\\\site-packages\\\\matplotlib\\\\pyplot.py'>"
      ]
     },
     "execution_count": 35,
     "metadata": {},
     "output_type": "execute_result"
    },
    {
     "data": {
      "image/png": "[encoded data removed]",
      "text/plain": [
       "<Figure size 432x288 with 1 Axes>"
      ]
     },
     "metadata": {
      "needs_background": "light"
     },
     "output_type": "display_data"
    }
   ],
   "source": [
    "# FTM as potential predictor variable of 'PLUS_MINUS'\n",
    "sns.regplot(x=\"FTM\", y=\"PLUS_MINUS\", data=MH_games_2020)\n",
    "plt"
   ]
  },
  {
   "cell_type": "code",
   "execution_count": 36,
   "metadata": {},
   "outputs": [
    {
     "data": {
      "text/html": [
       "<div>\n",
       "<style scoped>\n",
       "    .dataframe tbody tr th:only-of-type {\n",
       "        vertical-align: middle;\n",
       "    }\n",
       "\n",
       "    .dataframe tbody tr th {\n",
       "        vertical-align: top;\n",
       "    }\n",
       "\n",
       "    .dataframe thead th {\n",
       "        text-align: right;\n",
       "    }\n",
       "</style>\n",
       "<table border=\"1\" class=\"dataframe\">\n",
       "  <thead>\n",
       "    <tr style=\"text-align: right;\">\n",
       "      <th></th>\n",
       "      <th>FTM</th>\n",
       "      <th>PLUS_MINUS</th>\n",
       "    </tr>\n",
       "  </thead>\n",
       "  <tbody>\n",
       "    <tr>\n",
       "      <th>FTM</th>\n",
       "      <td>1.000000</td>\n",
       "      <td>0.148131</td>\n",
       "    </tr>\n",
       "    <tr>\n",
       "      <th>PLUS_MINUS</th>\n",
       "      <td>0.148131</td>\n",
       "      <td>1.000000</td>\n",
       "    </tr>\n",
       "  </tbody>\n",
       "</table>\n",
       "</div>"
      ],
      "text/plain": [
       "                 FTM  PLUS_MINUS\n",
       "FTM         1.000000    0.148131\n",
       "PLUS_MINUS  0.148131    1.000000"
      ]
     },
     "execution_count": 36,
     "metadata": {},
     "output_type": "execute_result"
    }
   ],
   "source": [
    "MH_games_2020[['FTM','PLUS_MINUS']].corr()"
   ]
  },
  {
   "cell_type": "markdown",
   "metadata": {},
   "source": [
    "### FTA vs PLUS_MINUS"
   ]
  },
  {
   "cell_type": "code",
   "execution_count": 37,
   "metadata": {},
   "outputs": [
    {
     "data": {
      "text/plain": [
       "<module 'matplotlib.pyplot' from 'C:\\\\Users\\\\Gabo\\\\anaconda3\\\\lib\\\\site-packages\\\\matplotlib\\\\pyplot.py'>"
      ]
     },
     "execution_count": 37,
     "metadata": {},
     "output_type": "execute_result"
    },
    {
     "data": {
      "image/png": "[encoded data removed]",
      "text/plain": [
       "<Figure size 432x288 with 1 Axes>"
      ]
     },
     "metadata": {
      "needs_background": "light"
     },
     "output_type": "display_data"
    }
   ],
   "source": [
    "# FTA as potential predictor variable of 'PLUS_MINUS'\n",
    "sns.regplot(x=\"FTA\", y=\"PLUS_MINUS\", data=MH_games_2020)\n",
    "plt"
   ]
  },
  {
   "cell_type": "code",
   "execution_count": 38,
   "metadata": {},
   "outputs": [
    {
     "data": {
      "text/html": [
       "<div>\n",
       "<style scoped>\n",
       "    .dataframe tbody tr th:only-of-type {\n",
       "        vertical-align: middle;\n",
       "    }\n",
       "\n",
       "    .dataframe tbody tr th {\n",
       "        vertical-align: top;\n",
       "    }\n",
       "\n",
       "    .dataframe thead th {\n",
       "        text-align: right;\n",
       "    }\n",
       "</style>\n",
       "<table border=\"1\" class=\"dataframe\">\n",
       "  <thead>\n",
       "    <tr style=\"text-align: right;\">\n",
       "      <th></th>\n",
       "      <th>FTA</th>\n",
       "      <th>PLUS_MINUS</th>\n",
       "    </tr>\n",
       "  </thead>\n",
       "  <tbody>\n",
       "    <tr>\n",
       "      <th>FTA</th>\n",
       "      <td>1.000000</td>\n",
       "      <td>0.132126</td>\n",
       "    </tr>\n",
       "    <tr>\n",
       "      <th>PLUS_MINUS</th>\n",
       "      <td>0.132126</td>\n",
       "      <td>1.000000</td>\n",
       "    </tr>\n",
       "  </tbody>\n",
       "</table>\n",
       "</div>"
      ],
      "text/plain": [
       "                 FTA  PLUS_MINUS\n",
       "FTA         1.000000    0.132126\n",
       "PLUS_MINUS  0.132126    1.000000"
      ]
     },
     "execution_count": 38,
     "metadata": {},
     "output_type": "execute_result"
    }
   ],
   "source": [
    "MH_games_2020[['FTA','PLUS_MINUS']].corr()"
   ]
  },
  {
   "cell_type": "markdown",
   "metadata": {},
   "source": [
    "### FT_PCT vs PLUS_MINUS"
   ]
  },
  {
   "cell_type": "code",
   "execution_count": 39,
   "metadata": {},
   "outputs": [
    {
     "data": {
      "text/plain": [
       "<module 'matplotlib.pyplot' from 'C:\\\\Users\\\\Gabo\\\\anaconda3\\\\lib\\\\site-packages\\\\matplotlib\\\\pyplot.py'>"
      ]
     },
     "execution_count": 39,
     "metadata": {},
     "output_type": "execute_result"
    },
    {
     "data": {
      "image/png": "[encoded data removed]",
      "text/plain": [
       "<Figure size 432x288 with 1 Axes>"
      ]
     },
     "metadata": {
      "needs_background": "light"
     },
     "output_type": "display_data"
    }
   ],
   "source": [
    "# FT_PCT as potential predictor variable of 'PLUS_MINUS'\n",
    "sns.regplot(x=\"FT_PCT\", y=\"PLUS_MINUS\", data=MH_games_2020)\n",
    "plt"
   ]
  },
  {
   "cell_type": "code",
   "execution_count": 40,
   "metadata": {},
   "outputs": [
    {
     "data": {
      "text/html": [
       "<div>\n",
       "<style scoped>\n",
       "    .dataframe tbody tr th:only-of-type {\n",
       "        vertical-align: middle;\n",
       "    }\n",
       "\n",
       "    .dataframe tbody tr th {\n",
       "        vertical-align: top;\n",
       "    }\n",
       "\n",
       "    .dataframe thead th {\n",
       "        text-align: right;\n",
       "    }\n",
       "</style>\n",
       "<table border=\"1\" class=\"dataframe\">\n",
       "  <thead>\n",
       "    <tr style=\"text-align: right;\">\n",
       "      <th></th>\n",
       "      <th>FT_PCT</th>\n",
       "      <th>PLUS_MINUS</th>\n",
       "    </tr>\n",
       "  </thead>\n",
       "  <tbody>\n",
       "    <tr>\n",
       "      <th>FT_PCT</th>\n",
       "      <td>1.000000</td>\n",
       "      <td>0.019036</td>\n",
       "    </tr>\n",
       "    <tr>\n",
       "      <th>PLUS_MINUS</th>\n",
       "      <td>0.019036</td>\n",
       "      <td>1.000000</td>\n",
       "    </tr>\n",
       "  </tbody>\n",
       "</table>\n",
       "</div>"
      ],
      "text/plain": [
       "              FT_PCT  PLUS_MINUS\n",
       "FT_PCT      1.000000    0.019036\n",
       "PLUS_MINUS  0.019036    1.000000"
      ]
     },
     "execution_count": 40,
     "metadata": {},
     "output_type": "execute_result"
    }
   ],
   "source": [
    "MH_games_2020[['FT_PCT','PLUS_MINUS']].corr()"
   ]
  },
  {
   "cell_type": "markdown",
   "metadata": {},
   "source": [
    "### OREB vs PLUS_MINUS"
   ]
  },
  {
   "cell_type": "code",
   "execution_count": 41,
   "metadata": {},
   "outputs": [
    {
     "data": {
      "text/plain": [
       "<module 'matplotlib.pyplot' from 'C:\\\\Users\\\\Gabo\\\\anaconda3\\\\lib\\\\site-packages\\\\matplotlib\\\\pyplot.py'>"
      ]
     },
     "execution_count": 41,
     "metadata": {},
     "output_type": "execute_result"
    },
    {
     "data": {
      "image/png": "[encoded data removed]",
      "text/plain": [
       "<Figure size 432x288 with 1 Axes>"
      ]
     },
     "metadata": {
      "needs_background": "light"
     },
     "output_type": "display_data"
    }
   ],
   "source": [
    "# OREB as potential predictor variable of 'PLUS_MINUS'\n",
    "sns.regplot(x=\"OREB\", y=\"PLUS_MINUS\", data=MH_games_2020)\n",
    "plt"
   ]
  },
  {
   "cell_type": "code",
   "execution_count": 42,
   "metadata": {},
   "outputs": [
    {
     "data": {
      "text/html": [
       "<div>\n",
       "<style scoped>\n",
       "    .dataframe tbody tr th:only-of-type {\n",
       "        vertical-align: middle;\n",
       "    }\n",
       "\n",
       "    .dataframe tbody tr th {\n",
       "        vertical-align: top;\n",
       "    }\n",
       "\n",
       "    .dataframe thead th {\n",
       "        text-align: right;\n",
       "    }\n",
       "</style>\n",
       "<table border=\"1\" class=\"dataframe\">\n",
       "  <thead>\n",
       "    <tr style=\"text-align: right;\">\n",
       "      <th></th>\n",
       "      <th>OREB</th>\n",
       "      <th>PLUS_MINUS</th>\n",
       "    </tr>\n",
       "  </thead>\n",
       "  <tbody>\n",
       "    <tr>\n",
       "      <th>OREB</th>\n",
       "      <td>1.000000</td>\n",
       "      <td>0.190579</td>\n",
       "    </tr>\n",
       "    <tr>\n",
       "      <th>PLUS_MINUS</th>\n",
       "      <td>0.190579</td>\n",
       "      <td>1.000000</td>\n",
       "    </tr>\n",
       "  </tbody>\n",
       "</table>\n",
       "</div>"
      ],
      "text/plain": [
       "                OREB  PLUS_MINUS\n",
       "OREB        1.000000    0.190579\n",
       "PLUS_MINUS  0.190579    1.000000"
      ]
     },
     "execution_count": 42,
     "metadata": {},
     "output_type": "execute_result"
    }
   ],
   "source": [
    "MH_games_2020[['OREB','PLUS_MINUS']].corr()"
   ]
  },
  {
   "cell_type": "markdown",
   "metadata": {},
   "source": [
    "### DREB vs PLUS_MINUS"
   ]
  },
  {
   "cell_type": "code",
   "execution_count": 43,
   "metadata": {},
   "outputs": [
    {
     "data": {
      "text/plain": [
       "<module 'matplotlib.pyplot' from 'C:\\\\Users\\\\Gabo\\\\anaconda3\\\\lib\\\\site-packages\\\\matplotlib\\\\pyplot.py'>"
      ]
     },
     "execution_count": 43,
     "metadata": {},
     "output_type": "execute_result"
    },
    {
     "data": {
      "image/png": "[encoded data removed]",
      "text/plain": [
       "<Figure size 432x288 with 1 Axes>"
      ]
     },
     "metadata": {
      "needs_background": "light"
     },
     "output_type": "display_data"
    }
   ],
   "source": [
    "# DREB as potential predictor variable of 'PLUS_MINUS'\n",
    "sns.regplot(x=\"DREB\", y=\"PLUS_MINUS\", data=MH_games_2020)\n",
    "plt"
   ]
  },
  {
   "cell_type": "code",
   "execution_count": 44,
   "metadata": {},
   "outputs": [
    {
     "data": {
      "text/html": [
       "<div>\n",
       "<style scoped>\n",
       "    .dataframe tbody tr th:only-of-type {\n",
       "        vertical-align: middle;\n",
       "    }\n",
       "\n",
       "    .dataframe tbody tr th {\n",
       "        vertical-align: top;\n",
       "    }\n",
       "\n",
       "    .dataframe thead th {\n",
       "        text-align: right;\n",
       "    }\n",
       "</style>\n",
       "<table border=\"1\" class=\"dataframe\">\n",
       "  <thead>\n",
       "    <tr style=\"text-align: right;\">\n",
       "      <th></th>\n",
       "      <th>DREB</th>\n",
       "      <th>PLUS_MINUS</th>\n",
       "    </tr>\n",
       "  </thead>\n",
       "  <tbody>\n",
       "    <tr>\n",
       "      <th>DREB</th>\n",
       "      <td>1.000000</td>\n",
       "      <td>0.422715</td>\n",
       "    </tr>\n",
       "    <tr>\n",
       "      <th>PLUS_MINUS</th>\n",
       "      <td>0.422715</td>\n",
       "      <td>1.000000</td>\n",
       "    </tr>\n",
       "  </tbody>\n",
       "</table>\n",
       "</div>"
      ],
      "text/plain": [
       "                DREB  PLUS_MINUS\n",
       "DREB        1.000000    0.422715\n",
       "PLUS_MINUS  0.422715    1.000000"
      ]
     },
     "execution_count": 44,
     "metadata": {},
     "output_type": "execute_result"
    }
   ],
   "source": [
    "MH_games_2020[['DREB','PLUS_MINUS']].corr()"
   ]
  },
  {
   "cell_type": "markdown",
   "metadata": {},
   "source": [
    "### REB vs PLUS_MINUS"
   ]
  },
  {
   "cell_type": "code",
   "execution_count": 45,
   "metadata": {},
   "outputs": [
    {
     "data": {
      "text/plain": [
       "<module 'matplotlib.pyplot' from 'C:\\\\Users\\\\Gabo\\\\anaconda3\\\\lib\\\\site-packages\\\\matplotlib\\\\pyplot.py'>"
      ]
     },
     "execution_count": 45,
     "metadata": {},
     "output_type": "execute_result"
    },
    {
     "data": {
      "image/png": "[encoded data removed]",
      "text/plain": [
       "<Figure size 432x288 with 1 Axes>"
      ]
     },
     "metadata": {
      "needs_background": "light"
     },
     "output_type": "display_data"
    }
   ],
   "source": [
    "# REB as potential predictor variable of 'PLUS_MINUS'\n",
    "sns.regplot(x=\"REB\", y=\"PLUS_MINUS\", data=MH_games_2020)\n",
    "plt"
   ]
  },
  {
   "cell_type": "code",
   "execution_count": 46,
   "metadata": {},
   "outputs": [
    {
     "data": {
      "text/html": [
       "<div>\n",
       "<style scoped>\n",
       "    .dataframe tbody tr th:only-of-type {\n",
       "        vertical-align: middle;\n",
       "    }\n",
       "\n",
       "    .dataframe tbody tr th {\n",
       "        vertical-align: top;\n",
       "    }\n",
       "\n",
       "    .dataframe thead th {\n",
       "        text-align: right;\n",
       "    }\n",
       "</style>\n",
       "<table border=\"1\" class=\"dataframe\">\n",
       "  <thead>\n",
       "    <tr style=\"text-align: right;\">\n",
       "      <th></th>\n",
       "      <th>REB</th>\n",
       "      <th>PLUS_MINUS</th>\n",
       "    </tr>\n",
       "  </thead>\n",
       "  <tbody>\n",
       "    <tr>\n",
       "      <th>REB</th>\n",
       "      <td>1.000000</td>\n",
       "      <td>0.422734</td>\n",
       "    </tr>\n",
       "    <tr>\n",
       "      <th>PLUS_MINUS</th>\n",
       "      <td>0.422734</td>\n",
       "      <td>1.000000</td>\n",
       "    </tr>\n",
       "  </tbody>\n",
       "</table>\n",
       "</div>"
      ],
      "text/plain": [
       "                 REB  PLUS_MINUS\n",
       "REB         1.000000    0.422734\n",
       "PLUS_MINUS  0.422734    1.000000"
      ]
     },
     "execution_count": 46,
     "metadata": {},
     "output_type": "execute_result"
    }
   ],
   "source": [
    "MH_games_2020[['REB','PLUS_MINUS']].corr()"
   ]
  },
  {
   "cell_type": "markdown",
   "metadata": {},
   "source": [
    "### AST vs PLUS_MINUS"
   ]
  },
  {
   "cell_type": "code",
   "execution_count": 47,
   "metadata": {},
   "outputs": [
    {
     "data": {
      "text/plain": [
       "<module 'matplotlib.pyplot' from 'C:\\\\Users\\\\Gabo\\\\anaconda3\\\\lib\\\\site-packages\\\\matplotlib\\\\pyplot.py'>"
      ]
     },
     "execution_count": 47,
     "metadata": {},
     "output_type": "execute_result"
    },
    {
     "data": {
      "image/png": "[encoded data removed]",
      "text/plain": [
       "<Figure size 432x288 with 1 Axes>"
      ]
     },
     "metadata": {
      "needs_background": "light"
     },
     "output_type": "display_data"
    }
   ],
   "source": [
    "# AST as potential predictor variable of 'PLUS_MINUS'\n",
    "sns.regplot(x=\"AST\", y=\"PLUS_MINUS\", data=MH_games_2020)\n",
    "plt"
   ]
  },
  {
   "cell_type": "code",
   "execution_count": 48,
   "metadata": {},
   "outputs": [
    {
     "data": {
      "text/html": [
       "<div>\n",
       "<style scoped>\n",
       "    .dataframe tbody tr th:only-of-type {\n",
       "        vertical-align: middle;\n",
       "    }\n",
       "\n",
       "    .dataframe tbody tr th {\n",
       "        vertical-align: top;\n",
       "    }\n",
       "\n",
       "    .dataframe thead th {\n",
       "        text-align: right;\n",
       "    }\n",
       "</style>\n",
       "<table border=\"1\" class=\"dataframe\">\n",
       "  <thead>\n",
       "    <tr style=\"text-align: right;\">\n",
       "      <th></th>\n",
       "      <th>AST</th>\n",
       "      <th>PLUS_MINUS</th>\n",
       "    </tr>\n",
       "  </thead>\n",
       "  <tbody>\n",
       "    <tr>\n",
       "      <th>AST</th>\n",
       "      <td>1.00000</td>\n",
       "      <td>0.37037</td>\n",
       "    </tr>\n",
       "    <tr>\n",
       "      <th>PLUS_MINUS</th>\n",
       "      <td>0.37037</td>\n",
       "      <td>1.00000</td>\n",
       "    </tr>\n",
       "  </tbody>\n",
       "</table>\n",
       "</div>"
      ],
      "text/plain": [
       "                AST  PLUS_MINUS\n",
       "AST         1.00000     0.37037\n",
       "PLUS_MINUS  0.37037     1.00000"
      ]
     },
     "execution_count": 48,
     "metadata": {},
     "output_type": "execute_result"
    }
   ],
   "source": [
    "MH_games_2020[['AST','PLUS_MINUS']].corr()"
   ]
  },
  {
   "cell_type": "markdown",
   "metadata": {},
   "source": [
    "### STL vs PLUS_MINUS"
   ]
  },
  {
   "cell_type": "code",
   "execution_count": 49,
   "metadata": {},
   "outputs": [
    {
     "data": {
      "text/plain": [
       "<module 'matplotlib.pyplot' from 'C:\\\\Users\\\\Gabo\\\\anaconda3\\\\lib\\\\site-packages\\\\matplotlib\\\\pyplot.py'>"
      ]
     },
     "execution_count": 49,
     "metadata": {},
     "output_type": "execute_result"
    },
    {
     "data": {
      "image/png": "[encoded data removed]",
      "text/plain": [
       "<Figure size 432x288 with 1 Axes>"
      ]
     },
     "metadata": {
      "needs_background": "light"
     },
     "output_type": "display_data"
    }
   ],
   "source": [
    "# STL as potential predictor variable of 'PLUS_MINUS'\n",
    "sns.regplot(x=\"STL\", y=\"PLUS_MINUS\", data=MH_games_2020)\n",
    "plt"
   ]
  },
  {
   "cell_type": "code",
   "execution_count": 50,
   "metadata": {},
   "outputs": [
    {
     "data": {
      "text/html": [
       "<div>\n",
       "<style scoped>\n",
       "    .dataframe tbody tr th:only-of-type {\n",
       "        vertical-align: middle;\n",
       "    }\n",
       "\n",
       "    .dataframe tbody tr th {\n",
       "        vertical-align: top;\n",
       "    }\n",
       "\n",
       "    .dataframe thead th {\n",
       "        text-align: right;\n",
       "    }\n",
       "</style>\n",
       "<table border=\"1\" class=\"dataframe\">\n",
       "  <thead>\n",
       "    <tr style=\"text-align: right;\">\n",
       "      <th></th>\n",
       "      <th>STL</th>\n",
       "      <th>PLUS_MINUS</th>\n",
       "    </tr>\n",
       "  </thead>\n",
       "  <tbody>\n",
       "    <tr>\n",
       "      <th>STL</th>\n",
       "      <td>1.000000</td>\n",
       "      <td>-0.043547</td>\n",
       "    </tr>\n",
       "    <tr>\n",
       "      <th>PLUS_MINUS</th>\n",
       "      <td>-0.043547</td>\n",
       "      <td>1.000000</td>\n",
       "    </tr>\n",
       "  </tbody>\n",
       "</table>\n",
       "</div>"
      ],
      "text/plain": [
       "                 STL  PLUS_MINUS\n",
       "STL         1.000000   -0.043547\n",
       "PLUS_MINUS -0.043547    1.000000"
      ]
     },
     "execution_count": 50,
     "metadata": {},
     "output_type": "execute_result"
    }
   ],
   "source": [
    "MH_games_2020[['STL','PLUS_MINUS']].corr()"
   ]
  },
  {
   "cell_type": "markdown",
   "metadata": {},
   "source": [
    "### BLK vs PLUS_MINUS"
   ]
  },
  {
   "cell_type": "code",
   "execution_count": 51,
   "metadata": {},
   "outputs": [
    {
     "data": {
      "text/plain": [
       "<module 'matplotlib.pyplot' from 'C:\\\\Users\\\\Gabo\\\\anaconda3\\\\lib\\\\site-packages\\\\matplotlib\\\\pyplot.py'>"
      ]
     },
     "execution_count": 51,
     "metadata": {},
     "output_type": "execute_result"
    },
    {
     "data": {
      "image/png": "[encoded data removed]",
      "text/plain": [
       "<Figure size 432x288 with 1 Axes>"
      ]
     },
     "metadata": {
      "needs_background": "light"
     },
     "output_type": "display_data"
    }
   ],
   "source": [
    "# BLK as potential predictor variable of 'PLUS_MINUS'\n",
    "sns.regplot(x=\"BLK\", y=\"PLUS_MINUS\", data=MH_games_2020)\n",
    "plt"
   ]
  },
  {
   "cell_type": "code",
   "execution_count": 52,
   "metadata": {},
   "outputs": [
    {
     "data": {
      "text/html": [
       "<div>\n",
       "<style scoped>\n",
       "    .dataframe tbody tr th:only-of-type {\n",
       "        vertical-align: middle;\n",
       "    }\n",
       "\n",
       "    .dataframe tbody tr th {\n",
       "        vertical-align: top;\n",
       "    }\n",
       "\n",
       "    .dataframe thead th {\n",
       "        text-align: right;\n",
       "    }\n",
       "</style>\n",
       "<table border=\"1\" class=\"dataframe\">\n",
       "  <thead>\n",
       "    <tr style=\"text-align: right;\">\n",
       "      <th></th>\n",
       "      <th>BLK</th>\n",
       "      <th>PLUS_MINUS</th>\n",
       "    </tr>\n",
       "  </thead>\n",
       "  <tbody>\n",
       "    <tr>\n",
       "      <th>BLK</th>\n",
       "      <td>1.000000</td>\n",
       "      <td>-0.091409</td>\n",
       "    </tr>\n",
       "    <tr>\n",
       "      <th>PLUS_MINUS</th>\n",
       "      <td>-0.091409</td>\n",
       "      <td>1.000000</td>\n",
       "    </tr>\n",
       "  </tbody>\n",
       "</table>\n",
       "</div>"
      ],
      "text/plain": [
       "                 BLK  PLUS_MINUS\n",
       "BLK         1.000000   -0.091409\n",
       "PLUS_MINUS -0.091409    1.000000"
      ]
     },
     "execution_count": 52,
     "metadata": {},
     "output_type": "execute_result"
    }
   ],
   "source": [
    "MH_games_2020[['BLK','PLUS_MINUS']].corr()"
   ]
  },
  {
   "cell_type": "markdown",
   "metadata": {},
   "source": [
    "### TOV vs PLUS_MINUS"
   ]
  },
  {
   "cell_type": "code",
   "execution_count": 53,
   "metadata": {},
   "outputs": [
    {
     "data": {
      "text/plain": [
       "<module 'matplotlib.pyplot' from 'C:\\\\Users\\\\Gabo\\\\anaconda3\\\\lib\\\\site-packages\\\\matplotlib\\\\pyplot.py'>"
      ]
     },
     "execution_count": 53,
     "metadata": {},
     "output_type": "execute_result"
    },
    {
     "data": {
      "image/png": "[encoded data removed]",
      "text/plain": [
       "<Figure size 432x288 with 1 Axes>"
      ]
     },
     "metadata": {
      "needs_background": "light"
     },
     "output_type": "display_data"
    }
   ],
   "source": [
    "# TOV as potential predictor variable of 'PLUS_MINUS'\n",
    "sns.regplot(x=\"TOV\", y=\"PLUS_MINUS\", data=MH_games_2020)\n",
    "plt"
   ]
  },
  {
   "cell_type": "code",
   "execution_count": 54,
   "metadata": {},
   "outputs": [
    {
     "data": {
      "text/html": [
       "<div>\n",
       "<style scoped>\n",
       "    .dataframe tbody tr th:only-of-type {\n",
       "        vertical-align: middle;\n",
       "    }\n",
       "\n",
       "    .dataframe tbody tr th {\n",
       "        vertical-align: top;\n",
       "    }\n",
       "\n",
       "    .dataframe thead th {\n",
       "        text-align: right;\n",
       "    }\n",
       "</style>\n",
       "<table border=\"1\" class=\"dataframe\">\n",
       "  <thead>\n",
       "    <tr style=\"text-align: right;\">\n",
       "      <th></th>\n",
       "      <th>TOV</th>\n",
       "      <th>PLUS_MINUS</th>\n",
       "    </tr>\n",
       "  </thead>\n",
       "  <tbody>\n",
       "    <tr>\n",
       "      <th>TOV</th>\n",
       "      <td>1.000000</td>\n",
       "      <td>-0.199416</td>\n",
       "    </tr>\n",
       "    <tr>\n",
       "      <th>PLUS_MINUS</th>\n",
       "      <td>-0.199416</td>\n",
       "      <td>1.000000</td>\n",
       "    </tr>\n",
       "  </tbody>\n",
       "</table>\n",
       "</div>"
      ],
      "text/plain": [
       "                 TOV  PLUS_MINUS\n",
       "TOV         1.000000   -0.199416\n",
       "PLUS_MINUS -0.199416    1.000000"
      ]
     },
     "execution_count": 54,
     "metadata": {},
     "output_type": "execute_result"
    }
   ],
   "source": [
    "MH_games_2020[['TOV','PLUS_MINUS']].corr()"
   ]
  },
  {
   "cell_type": "markdown",
   "metadata": {},
   "source": [
    "### PF vs PLUS_MINUS"
   ]
  },
  {
   "cell_type": "code",
   "execution_count": 55,
   "metadata": {},
   "outputs": [
    {
     "data": {
      "text/plain": [
       "<module 'matplotlib.pyplot' from 'C:\\\\Users\\\\Gabo\\\\anaconda3\\\\lib\\\\site-packages\\\\matplotlib\\\\pyplot.py'>"
      ]
     },
     "execution_count": 55,
     "metadata": {},
     "output_type": "execute_result"
    },
    {
     "data": {
      "image/png": "[encoded data removed]",
      "text/plain": [
       "<Figure size 432x288 with 1 Axes>"
      ]
     },
     "metadata": {
      "needs_background": "light"
     },
     "output_type": "display_data"
    }
   ],
   "source": [
    "# PF as potential predictor variable of 'PLUS_MINUS'\n",
    "sns.regplot(x=\"PF\", y=\"PLUS_MINUS\", data=MH_games_2020)\n",
    "plt"
   ]
  },
  {
   "cell_type": "code",
   "execution_count": 56,
   "metadata": {},
   "outputs": [
    {
     "data": {
      "text/html": [
       "<div>\n",
       "<style scoped>\n",
       "    .dataframe tbody tr th:only-of-type {\n",
       "        vertical-align: middle;\n",
       "    }\n",
       "\n",
       "    .dataframe tbody tr th {\n",
       "        vertical-align: top;\n",
       "    }\n",
       "\n",
       "    .dataframe thead th {\n",
       "        text-align: right;\n",
       "    }\n",
       "</style>\n",
       "<table border=\"1\" class=\"dataframe\">\n",
       "  <thead>\n",
       "    <tr style=\"text-align: right;\">\n",
       "      <th></th>\n",
       "      <th>PF</th>\n",
       "      <th>PLUS_MINUS</th>\n",
       "    </tr>\n",
       "  </thead>\n",
       "  <tbody>\n",
       "    <tr>\n",
       "      <th>PF</th>\n",
       "      <td>1.000000</td>\n",
       "      <td>0.133276</td>\n",
       "    </tr>\n",
       "    <tr>\n",
       "      <th>PLUS_MINUS</th>\n",
       "      <td>0.133276</td>\n",
       "      <td>1.000000</td>\n",
       "    </tr>\n",
       "  </tbody>\n",
       "</table>\n",
       "</div>"
      ],
      "text/plain": [
       "                  PF  PLUS_MINUS\n",
       "PF          1.000000    0.133276\n",
       "PLUS_MINUS  0.133276    1.000000"
      ]
     },
     "execution_count": 56,
     "metadata": {},
     "output_type": "execute_result"
    }
   ],
   "source": [
    "MH_games_2020[['PF','PLUS_MINUS']].corr()"
   ]
  },
  {
   "cell_type": "code",
   "execution_count": 57,
   "metadata": {},
   "outputs": [
    {
     "data": {
      "text/plain": [
       "<AxesSubplot:xlabel='WL', ylabel='PLUS_MINUS'>"
      ]
     },
     "execution_count": 57,
     "metadata": {},
     "output_type": "execute_result"
    },
    {
     "data": {
      "image/png": "[encoded data removed]",
      "text/plain": [
       "<Figure size 432x288 with 1 Axes>"
      ]
     },
     "metadata": {
      "needs_background": "light"
     },
     "output_type": "display_data"
    }
   ],
   "source": [
    "sns.boxplot(x=\"WL\", y=\"PLUS_MINUS\", data=MH_games_2020)"
   ]
  },
  {
   "cell_type": "markdown",
   "metadata": {},
   "source": [
    "#### We conclude that the variables with highest linear correlation with PLUS_MINUS are the following:\n",
    "PTS (47% Corr), FG3_PCT(45% Corr), DREB(43% Corr), REB (43% Corr)"
   ]
  },
  {
   "cell_type": "markdown",
   "metadata": {},
   "source": [
    "### At this point of the Analysis we know that the variables doesn't have a strong linear relationship and it is analogus to say that a Linear Regression Model wont fit the data and will not be a good model to predict if the Heat wins the next game. However we will perform the model to demostrate it will not work"
   ]
  },
  {
   "cell_type": "markdown",
   "metadata": {},
   "source": [
    "## 5.- Multiple Linear Regression"
   ]
  },
  {
   "cell_type": "markdown",
   "metadata": {},
   "source": [
    "First we create the database that we will use in our model:"
   ]
  },
  {
   "cell_type": "code",
   "execution_count": 58,
   "metadata": {
    "scrolled": true
   },
   "outputs": [
    {
     "data": {
      "text/html": [
       "<div>\n",
       "<style scoped>\n",
       "    .dataframe tbody tr th:only-of-type {\n",
       "        vertical-align: middle;\n",
       "    }\n",
       "\n",
       "    .dataframe tbody tr th {\n",
       "        vertical-align: top;\n",
       "    }\n",
       "\n",
       "    .dataframe thead th {\n",
       "        text-align: right;\n",
       "    }\n",
       "</style>\n",
       "<table border=\"1\" class=\"dataframe\">\n",
       "  <thead>\n",
       "    <tr style=\"text-align: right;\">\n",
       "      <th></th>\n",
       "      <th>PTS</th>\n",
       "      <th>FG3_PCT</th>\n",
       "      <th>DREB</th>\n",
       "      <th>REB</th>\n",
       "      <th>PLUS_MINUS</th>\n",
       "    </tr>\n",
       "  </thead>\n",
       "  <tbody>\n",
       "    <tr>\n",
       "      <th>0</th>\n",
       "      <td>130</td>\n",
       "      <td>0.457</td>\n",
       "      <td>32</td>\n",
       "      <td>35</td>\n",
       "      <td>6.0</td>\n",
       "    </tr>\n",
       "    <tr>\n",
       "      <th>1</th>\n",
       "      <td>121</td>\n",
       "      <td>0.406</td>\n",
       "      <td>29</td>\n",
       "      <td>37</td>\n",
       "      <td>9.0</td>\n",
       "    </tr>\n",
       "    <tr>\n",
       "      <th>2</th>\n",
       "      <td>113</td>\n",
       "      <td>0.439</td>\n",
       "      <td>31</td>\n",
       "      <td>39</td>\n",
       "      <td>-14.0</td>\n",
       "    </tr>\n",
       "    <tr>\n",
       "      <th>3</th>\n",
       "      <td>121</td>\n",
       "      <td>0.289</td>\n",
       "      <td>31</td>\n",
       "      <td>42</td>\n",
       "      <td>10.0</td>\n",
       "    </tr>\n",
       "    <tr>\n",
       "      <th>4</th>\n",
       "      <td>124</td>\n",
       "      <td>0.500</td>\n",
       "      <td>27</td>\n",
       "      <td>37</td>\n",
       "      <td>17.0</td>\n",
       "    </tr>\n",
       "    <tr>\n",
       "      <th>...</th>\n",
       "      <td>...</td>\n",
       "      <td>...</td>\n",
       "      <td>...</td>\n",
       "      <td>...</td>\n",
       "      <td>...</td>\n",
       "    </tr>\n",
       "    <tr>\n",
       "      <th>63</th>\n",
       "      <td>83</td>\n",
       "      <td>0.212</td>\n",
       "      <td>36</td>\n",
       "      <td>41</td>\n",
       "      <td>-10.0</td>\n",
       "    </tr>\n",
       "    <tr>\n",
       "      <th>64</th>\n",
       "      <td>119</td>\n",
       "      <td>0.385</td>\n",
       "      <td>42</td>\n",
       "      <td>52</td>\n",
       "      <td>11.0</td>\n",
       "    </tr>\n",
       "    <tr>\n",
       "      <th>65</th>\n",
       "      <td>97</td>\n",
       "      <td>0.297</td>\n",
       "      <td>27</td>\n",
       "      <td>30</td>\n",
       "      <td>-47.0</td>\n",
       "    </tr>\n",
       "    <tr>\n",
       "      <th>66</th>\n",
       "      <td>111</td>\n",
       "      <td>0.432</td>\n",
       "      <td>31</td>\n",
       "      <td>35</td>\n",
       "      <td>13.0</td>\n",
       "    </tr>\n",
       "    <tr>\n",
       "      <th>67</th>\n",
       "      <td>107</td>\n",
       "      <td>0.350</td>\n",
       "      <td>36</td>\n",
       "      <td>43</td>\n",
       "      <td>-6.0</td>\n",
       "    </tr>\n",
       "  </tbody>\n",
       "</table>\n",
       "<p>68 rows × 5 columns</p>\n",
       "</div>"
      ],
      "text/plain": [
       "    PTS  FG3_PCT  DREB  REB  PLUS_MINUS\n",
       "0   130    0.457    32   35         6.0\n",
       "1   121    0.406    29   37         9.0\n",
       "2   113    0.439    31   39       -14.0\n",
       "3   121    0.289    31   42        10.0\n",
       "4   124    0.500    27   37        17.0\n",
       "..  ...      ...   ...  ...         ...\n",
       "63   83    0.212    36   41       -10.0\n",
       "64  119    0.385    42   52        11.0\n",
       "65   97    0.297    27   30       -47.0\n",
       "66  111    0.432    31   35        13.0\n",
       "67  107    0.350    36   43        -6.0\n",
       "\n",
       "[68 rows x 5 columns]"
      ]
     },
     "execution_count": 58,
     "metadata": {},
     "output_type": "execute_result"
    }
   ],
   "source": [
    "cdf=MH_games_2020[['PTS','FG3_PCT','DREB','REB','PLUS_MINUS']]\n",
    "cdf\n"
   ]
  },
  {
   "cell_type": "markdown",
   "metadata": {},
   "source": [
    "#### We create our train/test data"
   ]
  },
  {
   "cell_type": "code",
   "execution_count": 59,
   "metadata": {},
   "outputs": [],
   "source": [
    "y_data=cdf['PLUS_MINUS']\n",
    "x_data=cdf.drop('PLUS_MINUS',axis=1)"
   ]
  },
  {
   "cell_type": "markdown",
   "metadata": {},
   "source": [
    "Now we randomly split our data into training and testing data  using the function <b>train_test_split</b>. "
   ]
  },
  {
   "cell_type": "code",
   "execution_count": 60,
   "metadata": {},
   "outputs": [
    {
     "name": "stdout",
     "output_type": "stream",
     "text": [
      "number of test samples : 11\n",
      "number of training samples: 57\n"
     ]
    }
   ],
   "source": [
    "from sklearn.model_selection import train_test_split\n",
    "\n",
    "\n",
    "x_train, x_test, y_train, y_test = train_test_split(x_data, y_data, test_size=0.15, random_state=1)\n",
    "\n",
    "\n",
    "print(\"number of test samples :\", x_test.shape[0])\n",
    "print(\"number of training samples:\",x_train.shape[0])"
   ]
  },
  {
   "cell_type": "markdown",
   "metadata": {},
   "source": [
    "Now, WE PERFORM OUR MULTIPLE LINEAR REGRESSION MODEL:"
   ]
  },
  {
   "cell_type": "code",
   "execution_count": 61,
   "metadata": {},
   "outputs": [],
   "source": [
    "from sklearn import linear_model"
   ]
  },
  {
   "cell_type": "code",
   "execution_count": 62,
   "metadata": {},
   "outputs": [],
   "source": [
    "lre=linear_model.LinearRegression()"
   ]
  },
  {
   "cell_type": "code",
   "execution_count": 63,
   "metadata": {},
   "outputs": [
    {
     "data": {
      "text/plain": [
       "LinearRegression()"
      ]
     },
     "execution_count": 63,
     "metadata": {},
     "output_type": "execute_result"
    }
   ],
   "source": [
    "lre.fit(x_train, y_train)"
   ]
  },
  {
   "cell_type": "code",
   "execution_count": 64,
   "metadata": {},
   "outputs": [
    {
     "data": {
      "text/plain": [
       "0.08201898532257401"
      ]
     },
     "execution_count": 64,
     "metadata": {},
     "output_type": "execute_result"
    }
   ],
   "source": [
    "## R^2 for the prediction accuracy score\n",
    "lre.score(x_test, y_test)"
   ]
  },
  {
   "cell_type": "code",
   "execution_count": 65,
   "metadata": {},
   "outputs": [
    {
     "data": {
      "text/plain": [
       "0.4187234242928273"
      ]
     },
     "execution_count": 65,
     "metadata": {},
     "output_type": "execute_result"
    }
   ],
   "source": [
    "## R^2 for the trainning accuracy score\n",
    "lre.score(x_train, y_train)"
   ]
  },
  {
   "cell_type": "code",
   "execution_count": 66,
   "metadata": {},
   "outputs": [
    {
     "data": {
      "text/plain": [
       "array([ 0.27848178, 70.13114163,  0.60133648,  0.28081886])"
      ]
     },
     "execution_count": 66,
     "metadata": {},
     "output_type": "execute_result"
    }
   ],
   "source": [
    "## Coeficients\n",
    "lre.coef_"
   ]
  },
  {
   "cell_type": "code",
   "execution_count": 67,
   "metadata": {},
   "outputs": [],
   "source": [
    "## Cross Validation\n",
    "from sklearn.model_selection import cross_val_score"
   ]
  },
  {
   "cell_type": "code",
   "execution_count": 68,
   "metadata": {},
   "outputs": [],
   "source": [
    "Rcross=cross_val_score(lre,x_data,y_data,cv=4)"
   ]
  },
  {
   "cell_type": "code",
   "execution_count": 69,
   "metadata": {},
   "outputs": [
    {
     "data": {
      "text/plain": [
       "array([ 0.37244172, -0.08197447,  0.09230058,  0.35926014])"
      ]
     },
     "execution_count": 69,
     "metadata": {},
     "output_type": "execute_result"
    }
   ],
   "source": [
    "Rcross"
   ]
  },
  {
   "cell_type": "code",
   "execution_count": 70,
   "metadata": {},
   "outputs": [
    {
     "data": {
      "text/plain": [
       "array([-13.34462707,   6.14152469, -11.39994109,   0.8852507 ,\n",
       "         6.88953374])"
      ]
     },
     "execution_count": 70,
     "metadata": {},
     "output_type": "execute_result"
    }
   ],
   "source": [
    "yhat_train=lre.predict(x_train)\n",
    "yhat_train[0:5]"
   ]
  },
  {
   "cell_type": "code",
   "execution_count": 71,
   "metadata": {},
   "outputs": [
    {
     "data": {
      "text/plain": [
       "array([  1.63851755,  -2.69750121,  12.62863162, -22.13162988,\n",
       "        13.63661746])"
      ]
     },
     "execution_count": 71,
     "metadata": {},
     "output_type": "execute_result"
    }
   ],
   "source": [
    "yhat_test=lre.predict(x_test)\n",
    "yhat_test[0:5]"
   ]
  },
  {
   "cell_type": "code",
   "execution_count": 72,
   "metadata": {},
   "outputs": [],
   "source": [
    "import matplotlib.pyplot as plt\n",
    "%matplotlib inline\n",
    "import seaborn as sns"
   ]
  },
  {
   "cell_type": "code",
   "execution_count": 73,
   "metadata": {},
   "outputs": [],
   "source": [
    "def DistributionPlot(RedFunction, BlueFunction, RedName, BlueName, Title):\n",
    "    width = 12\n",
    "    height = 10\n",
    "    plt.figure(figsize=(width, height))\n",
    "\n",
    "    ax1 = sns.distplot(RedFunction, hist=False, color=\"r\", label=RedName)\n",
    "    ax2 = sns.distplot(BlueFunction, hist=False, color=\"b\", label=BlueName, ax=ax1)\n",
    "\n",
    "    plt.title(Title)\n",
    "    plt.xlabel('PLUS_MINUS')\n",
    "    plt.ylabel('Model')\n",
    "\n",
    "    plt.show()\n",
    "    plt.close()"
   ]
  },
  {
   "cell_type": "code",
   "execution_count": 74,
   "metadata": {},
   "outputs": [
    {
     "name": "stderr",
     "output_type": "stream",
     "text": [
      "C:\\Users\\Gabo\\anaconda3\\lib\\site-packages\\seaborn\\distributions.py:2551: FutureWarning: `distplot` is a deprecated function and will be removed in a future version. Please adapt your code to use either `displot` (a figure-level function with similar flexibility) or `kdeplot` (an axes-level function for kernel density plots).\n",
      "  warnings.warn(msg, FutureWarning)\n",
      "C:\\Users\\Gabo\\anaconda3\\lib\\site-packages\\seaborn\\distributions.py:2551: FutureWarning: `distplot` is a deprecated function and will be removed in a future version. Please adapt your code to use either `displot` (a figure-level function with similar flexibility) or `kdeplot` (an axes-level function for kernel density plots).\n",
      "  warnings.warn(msg, FutureWarning)\n"
     ]
    },
    {
     "data": {
      "image/png": "[encoded data removed]",
      "text/plain": [
       "<Figure size 864x720 with 1 Axes>"
      ]
     },
     "metadata": {
      "needs_background": "light"
     },
     "output_type": "display_data"
    }
   ],
   "source": [
    "Title = 'Distribution  Plot of  Predicted Value Using Training Data vs Training Data Distribution'\n",
    "DistributionPlot(y_train, yhat_train, \"Actual Values (Train)\", \"Predicted Values (Train)\", Title)"
   ]
  },
  {
   "cell_type": "code",
   "execution_count": 75,
   "metadata": {},
   "outputs": [
    {
     "name": "stderr",
     "output_type": "stream",
     "text": [
      "C:\\Users\\Gabo\\anaconda3\\lib\\site-packages\\seaborn\\distributions.py:2551: FutureWarning: `distplot` is a deprecated function and will be removed in a future version. Please adapt your code to use either `displot` (a figure-level function with similar flexibility) or `kdeplot` (an axes-level function for kernel density plots).\n",
      "  warnings.warn(msg, FutureWarning)\n",
      "C:\\Users\\Gabo\\anaconda3\\lib\\site-packages\\seaborn\\distributions.py:2551: FutureWarning: `distplot` is a deprecated function and will be removed in a future version. Please adapt your code to use either `displot` (a figure-level function with similar flexibility) or `kdeplot` (an axes-level function for kernel density plots).\n",
      "  warnings.warn(msg, FutureWarning)\n"
     ]
    },
    {
     "data": {
      "image/png": "[encoded data removed]",
      "text/plain": [
       "<Figure size 864x720 with 1 Axes>"
      ]
     },
     "metadata": {
      "needs_background": "light"
     },
     "output_type": "display_data"
    }
   ],
   "source": [
    "Title = 'Distribution  Plot of  Predicted Value Using Training Data vs Training Data Distribution'\n",
    "DistributionPlot(y_test, yhat_test, \"Actual Values (Train)\", \"Predicted Values (Train)\", Title)"
   ]
  },
  {
   "cell_type": "markdown",
   "metadata": {},
   "source": [
    "### Conclusion: Regarding the linearity of certain variables, we conclude that it is not possible to use a Linear Regression Model to predict if the Miami Heat will win or not."
   ]
  },
  {
   "cell_type": "markdown",
   "metadata": {},
   "source": [
    "### On the other hand we know that the PTS, REB and FG3_PCT have an average correlation of 44%, which means that these variables have an impact on the outcome of the game.."
   ]
  },
  {
   "cell_type": "markdown",
   "metadata": {},
   "source": [
    "### We will need to perform another type of analysis to predict the probability of winning for the Miami Heat in season 20-21"
   ]
  },
  {
   "cell_type": "markdown",
   "metadata": {},
   "source": [
    "# 6.- Logistic Regression"
   ]
  },
  {
   "cell_type": "markdown",
   "metadata": {},
   "source": [
    "## We will develope a classification model to calculate the probability of winning of the Miami Heat"
   ]
  },
  {
   "cell_type": "markdown",
   "metadata": {},
   "source": [
    "First we prepare our dataset to fit our model, in which we will assign 1 to those games won and 0 to those games lost"
   ]
  },
  {
   "cell_type": "code",
   "execution_count": 76,
   "metadata": {},
   "outputs": [
    {
     "data": {
      "text/html": [
       "<div>\n",
       "<style scoped>\n",
       "    .dataframe tbody tr th:only-of-type {\n",
       "        vertical-align: middle;\n",
       "    }\n",
       "\n",
       "    .dataframe tbody tr th {\n",
       "        vertical-align: top;\n",
       "    }\n",
       "\n",
       "    .dataframe thead th {\n",
       "        text-align: right;\n",
       "    }\n",
       "</style>\n",
       "<table border=\"1\" class=\"dataframe\">\n",
       "  <thead>\n",
       "    <tr style=\"text-align: right;\">\n",
       "      <th></th>\n",
       "      <th>WL</th>\n",
       "      <th>PTS</th>\n",
       "      <th>FGM</th>\n",
       "      <th>FGA</th>\n",
       "      <th>FG_PCT</th>\n",
       "      <th>FG3M</th>\n",
       "      <th>FG3A</th>\n",
       "      <th>FG3_PCT</th>\n",
       "      <th>FTM</th>\n",
       "      <th>FTA</th>\n",
       "      <th>FT_PCT</th>\n",
       "      <th>OREB</th>\n",
       "      <th>DREB</th>\n",
       "      <th>REB</th>\n",
       "      <th>AST</th>\n",
       "      <th>STL</th>\n",
       "      <th>BLK</th>\n",
       "      <th>TOV</th>\n",
       "      <th>PF</th>\n",
       "      <th>PLUS_MINUS</th>\n",
       "    </tr>\n",
       "  </thead>\n",
       "  <tbody>\n",
       "    <tr>\n",
       "      <th>0</th>\n",
       "      <td>W</td>\n",
       "      <td>130</td>\n",
       "      <td>47</td>\n",
       "      <td>82</td>\n",
       "      <td>0.573</td>\n",
       "      <td>16</td>\n",
       "      <td>35</td>\n",
       "      <td>0.457</td>\n",
       "      <td>20</td>\n",
       "      <td>22</td>\n",
       "      <td>0.909</td>\n",
       "      <td>3</td>\n",
       "      <td>32</td>\n",
       "      <td>35</td>\n",
       "      <td>30</td>\n",
       "      <td>8</td>\n",
       "      <td>2</td>\n",
       "      <td>11</td>\n",
       "      <td>20</td>\n",
       "      <td>6.0</td>\n",
       "    </tr>\n",
       "    <tr>\n",
       "      <th>1</th>\n",
       "      <td>W</td>\n",
       "      <td>121</td>\n",
       "      <td>44</td>\n",
       "      <td>87</td>\n",
       "      <td>0.506</td>\n",
       "      <td>13</td>\n",
       "      <td>32</td>\n",
       "      <td>0.406</td>\n",
       "      <td>20</td>\n",
       "      <td>27</td>\n",
       "      <td>0.741</td>\n",
       "      <td>8</td>\n",
       "      <td>29</td>\n",
       "      <td>37</td>\n",
       "      <td>27</td>\n",
       "      <td>9</td>\n",
       "      <td>2</td>\n",
       "      <td>14</td>\n",
       "      <td>22</td>\n",
       "      <td>9.0</td>\n",
       "    </tr>\n",
       "    <tr>\n",
       "      <th>2</th>\n",
       "      <td>L</td>\n",
       "      <td>113</td>\n",
       "      <td>39</td>\n",
       "      <td>84</td>\n",
       "      <td>0.464</td>\n",
       "      <td>18</td>\n",
       "      <td>41</td>\n",
       "      <td>0.439</td>\n",
       "      <td>17</td>\n",
       "      <td>21</td>\n",
       "      <td>0.810</td>\n",
       "      <td>8</td>\n",
       "      <td>31</td>\n",
       "      <td>39</td>\n",
       "      <td>30</td>\n",
       "      <td>9</td>\n",
       "      <td>2</td>\n",
       "      <td>12</td>\n",
       "      <td>17</td>\n",
       "      <td>-14.0</td>\n",
       "    </tr>\n",
       "    <tr>\n",
       "      <th>3</th>\n",
       "      <td>W</td>\n",
       "      <td>121</td>\n",
       "      <td>45</td>\n",
       "      <td>88</td>\n",
       "      <td>0.511</td>\n",
       "      <td>11</td>\n",
       "      <td>38</td>\n",
       "      <td>0.289</td>\n",
       "      <td>20</td>\n",
       "      <td>27</td>\n",
       "      <td>0.741</td>\n",
       "      <td>11</td>\n",
       "      <td>31</td>\n",
       "      <td>42</td>\n",
       "      <td>30</td>\n",
       "      <td>10</td>\n",
       "      <td>6</td>\n",
       "      <td>11</td>\n",
       "      <td>22</td>\n",
       "      <td>10.0</td>\n",
       "    </tr>\n",
       "    <tr>\n",
       "      <th>4</th>\n",
       "      <td>W</td>\n",
       "      <td>124</td>\n",
       "      <td>47</td>\n",
       "      <td>87</td>\n",
       "      <td>0.540</td>\n",
       "      <td>18</td>\n",
       "      <td>36</td>\n",
       "      <td>0.500</td>\n",
       "      <td>12</td>\n",
       "      <td>15</td>\n",
       "      <td>0.800</td>\n",
       "      <td>10</td>\n",
       "      <td>27</td>\n",
       "      <td>37</td>\n",
       "      <td>30</td>\n",
       "      <td>12</td>\n",
       "      <td>1</td>\n",
       "      <td>8</td>\n",
       "      <td>16</td>\n",
       "      <td>17.0</td>\n",
       "    </tr>\n",
       "  </tbody>\n",
       "</table>\n",
       "</div>"
      ],
      "text/plain": [
       "  WL  PTS  FGM  FGA  FG_PCT  FG3M  FG3A  FG3_PCT  FTM  FTA  FT_PCT  OREB  \\\n",
       "0  W  130   47   82   0.573    16    35    0.457   20   22   0.909     3   \n",
       "1  W  121   44   87   0.506    13    32    0.406   20   27   0.741     8   \n",
       "2  L  113   39   84   0.464    18    41    0.439   17   21   0.810     8   \n",
       "3  W  121   45   88   0.511    11    38    0.289   20   27   0.741    11   \n",
       "4  W  124   47   87   0.540    18    36    0.500   12   15   0.800    10   \n",
       "\n",
       "   DREB  REB  AST  STL  BLK  TOV  PF  PLUS_MINUS  \n",
       "0    32   35   30    8    2   11  20         6.0  \n",
       "1    29   37   27    9    2   14  22         9.0  \n",
       "2    31   39   30    9    2   12  17       -14.0  \n",
       "3    31   42   30   10    6   11  22        10.0  \n",
       "4    27   37   30   12    1    8  16        17.0  "
      ]
     },
     "execution_count": 76,
     "metadata": {},
     "output_type": "execute_result"
    }
   ],
   "source": [
    "# We have our original dataset\n",
    "MH_games_2020.head()"
   ]
  },
  {
   "cell_type": "code",
   "execution_count": 77,
   "metadata": {},
   "outputs": [
    {
     "name": "stderr",
     "output_type": "stream",
     "text": [
      "C:\\Users\\Gabo\\anaconda3\\lib\\site-packages\\pandas\\core\\indexing.py:1596: SettingWithCopyWarning: \n",
      "A value is trying to be set on a copy of a slice from a DataFrame.\n",
      "Try using .loc[row_indexer,col_indexer] = value instead\n",
      "\n",
      "See the caveats in the documentation: https://pandas.pydata.org/pandas-docs/stable/user_guide/indexing.html#returning-a-view-versus-a-copy\n",
      "  self.obj[key] = _infer_fill_value(value)\n",
      "C:\\Users\\Gabo\\anaconda3\\lib\\site-packages\\pandas\\core\\indexing.py:1765: SettingWithCopyWarning: \n",
      "A value is trying to be set on a copy of a slice from a DataFrame.\n",
      "Try using .loc[row_indexer,col_indexer] = value instead\n",
      "\n",
      "See the caveats in the documentation: https://pandas.pydata.org/pandas-docs/stable/user_guide/indexing.html#returning-a-view-versus-a-copy\n",
      "  isetter(loc, value)\n"
     ]
    }
   ],
   "source": [
    "## Convert WL into a dummy where 1=W and 0=L\n",
    "for ind,row in MH_games_2020.iterrows():\n",
    "    if MH_games_2020.loc[ind,\"WL\"]=='W':\n",
    "        MH_games_2020.loc[ind,\"Win\"]=1\n",
    "    else:\n",
    "        MH_games_2020.loc[ind,\"Win\"]=0"
   ]
  },
  {
   "cell_type": "code",
   "execution_count": 78,
   "metadata": {},
   "outputs": [
    {
     "data": {
      "text/html": [
       "<div>\n",
       "<style scoped>\n",
       "    .dataframe tbody tr th:only-of-type {\n",
       "        vertical-align: middle;\n",
       "    }\n",
       "\n",
       "    .dataframe tbody tr th {\n",
       "        vertical-align: top;\n",
       "    }\n",
       "\n",
       "    .dataframe thead th {\n",
       "        text-align: right;\n",
       "    }\n",
       "</style>\n",
       "<table border=\"1\" class=\"dataframe\">\n",
       "  <thead>\n",
       "    <tr style=\"text-align: right;\">\n",
       "      <th></th>\n",
       "      <th>WL</th>\n",
       "      <th>PTS</th>\n",
       "      <th>FGM</th>\n",
       "      <th>FGA</th>\n",
       "      <th>FG_PCT</th>\n",
       "      <th>FG3M</th>\n",
       "      <th>FG3A</th>\n",
       "      <th>FG3_PCT</th>\n",
       "      <th>FTM</th>\n",
       "      <th>FTA</th>\n",
       "      <th>...</th>\n",
       "      <th>OREB</th>\n",
       "      <th>DREB</th>\n",
       "      <th>REB</th>\n",
       "      <th>AST</th>\n",
       "      <th>STL</th>\n",
       "      <th>BLK</th>\n",
       "      <th>TOV</th>\n",
       "      <th>PF</th>\n",
       "      <th>PLUS_MINUS</th>\n",
       "      <th>Win</th>\n",
       "    </tr>\n",
       "  </thead>\n",
       "  <tbody>\n",
       "    <tr>\n",
       "      <th>0</th>\n",
       "      <td>W</td>\n",
       "      <td>130</td>\n",
       "      <td>47</td>\n",
       "      <td>82</td>\n",
       "      <td>0.573</td>\n",
       "      <td>16</td>\n",
       "      <td>35</td>\n",
       "      <td>0.457</td>\n",
       "      <td>20</td>\n",
       "      <td>22</td>\n",
       "      <td>...</td>\n",
       "      <td>3</td>\n",
       "      <td>32</td>\n",
       "      <td>35</td>\n",
       "      <td>30</td>\n",
       "      <td>8</td>\n",
       "      <td>2</td>\n",
       "      <td>11</td>\n",
       "      <td>20</td>\n",
       "      <td>6.0</td>\n",
       "      <td>1.0</td>\n",
       "    </tr>\n",
       "    <tr>\n",
       "      <th>1</th>\n",
       "      <td>W</td>\n",
       "      <td>121</td>\n",
       "      <td>44</td>\n",
       "      <td>87</td>\n",
       "      <td>0.506</td>\n",
       "      <td>13</td>\n",
       "      <td>32</td>\n",
       "      <td>0.406</td>\n",
       "      <td>20</td>\n",
       "      <td>27</td>\n",
       "      <td>...</td>\n",
       "      <td>8</td>\n",
       "      <td>29</td>\n",
       "      <td>37</td>\n",
       "      <td>27</td>\n",
       "      <td>9</td>\n",
       "      <td>2</td>\n",
       "      <td>14</td>\n",
       "      <td>22</td>\n",
       "      <td>9.0</td>\n",
       "      <td>1.0</td>\n",
       "    </tr>\n",
       "    <tr>\n",
       "      <th>2</th>\n",
       "      <td>L</td>\n",
       "      <td>113</td>\n",
       "      <td>39</td>\n",
       "      <td>84</td>\n",
       "      <td>0.464</td>\n",
       "      <td>18</td>\n",
       "      <td>41</td>\n",
       "      <td>0.439</td>\n",
       "      <td>17</td>\n",
       "      <td>21</td>\n",
       "      <td>...</td>\n",
       "      <td>8</td>\n",
       "      <td>31</td>\n",
       "      <td>39</td>\n",
       "      <td>30</td>\n",
       "      <td>9</td>\n",
       "      <td>2</td>\n",
       "      <td>12</td>\n",
       "      <td>17</td>\n",
       "      <td>-14.0</td>\n",
       "      <td>0.0</td>\n",
       "    </tr>\n",
       "    <tr>\n",
       "      <th>3</th>\n",
       "      <td>W</td>\n",
       "      <td>121</td>\n",
       "      <td>45</td>\n",
       "      <td>88</td>\n",
       "      <td>0.511</td>\n",
       "      <td>11</td>\n",
       "      <td>38</td>\n",
       "      <td>0.289</td>\n",
       "      <td>20</td>\n",
       "      <td>27</td>\n",
       "      <td>...</td>\n",
       "      <td>11</td>\n",
       "      <td>31</td>\n",
       "      <td>42</td>\n",
       "      <td>30</td>\n",
       "      <td>10</td>\n",
       "      <td>6</td>\n",
       "      <td>11</td>\n",
       "      <td>22</td>\n",
       "      <td>10.0</td>\n",
       "      <td>1.0</td>\n",
       "    </tr>\n",
       "    <tr>\n",
       "      <th>4</th>\n",
       "      <td>W</td>\n",
       "      <td>124</td>\n",
       "      <td>47</td>\n",
       "      <td>87</td>\n",
       "      <td>0.540</td>\n",
       "      <td>18</td>\n",
       "      <td>36</td>\n",
       "      <td>0.500</td>\n",
       "      <td>12</td>\n",
       "      <td>15</td>\n",
       "      <td>...</td>\n",
       "      <td>10</td>\n",
       "      <td>27</td>\n",
       "      <td>37</td>\n",
       "      <td>30</td>\n",
       "      <td>12</td>\n",
       "      <td>1</td>\n",
       "      <td>8</td>\n",
       "      <td>16</td>\n",
       "      <td>17.0</td>\n",
       "      <td>1.0</td>\n",
       "    </tr>\n",
       "    <tr>\n",
       "      <th>...</th>\n",
       "      <td>...</td>\n",
       "      <td>...</td>\n",
       "      <td>...</td>\n",
       "      <td>...</td>\n",
       "      <td>...</td>\n",
       "      <td>...</td>\n",
       "      <td>...</td>\n",
       "      <td>...</td>\n",
       "      <td>...</td>\n",
       "      <td>...</td>\n",
       "      <td>...</td>\n",
       "      <td>...</td>\n",
       "      <td>...</td>\n",
       "      <td>...</td>\n",
       "      <td>...</td>\n",
       "      <td>...</td>\n",
       "      <td>...</td>\n",
       "      <td>...</td>\n",
       "      <td>...</td>\n",
       "      <td>...</td>\n",
       "      <td>...</td>\n",
       "    </tr>\n",
       "    <tr>\n",
       "      <th>63</th>\n",
       "      <td>L</td>\n",
       "      <td>83</td>\n",
       "      <td>29</td>\n",
       "      <td>78</td>\n",
       "      <td>0.372</td>\n",
       "      <td>7</td>\n",
       "      <td>33</td>\n",
       "      <td>0.212</td>\n",
       "      <td>18</td>\n",
       "      <td>25</td>\n",
       "      <td>...</td>\n",
       "      <td>5</td>\n",
       "      <td>36</td>\n",
       "      <td>41</td>\n",
       "      <td>20</td>\n",
       "      <td>10</td>\n",
       "      <td>2</td>\n",
       "      <td>14</td>\n",
       "      <td>24</td>\n",
       "      <td>-10.0</td>\n",
       "      <td>0.0</td>\n",
       "    </tr>\n",
       "    <tr>\n",
       "      <th>64</th>\n",
       "      <td>W</td>\n",
       "      <td>119</td>\n",
       "      <td>40</td>\n",
       "      <td>82</td>\n",
       "      <td>0.488</td>\n",
       "      <td>15</td>\n",
       "      <td>39</td>\n",
       "      <td>0.385</td>\n",
       "      <td>24</td>\n",
       "      <td>29</td>\n",
       "      <td>...</td>\n",
       "      <td>10</td>\n",
       "      <td>42</td>\n",
       "      <td>52</td>\n",
       "      <td>25</td>\n",
       "      <td>5</td>\n",
       "      <td>5</td>\n",
       "      <td>22</td>\n",
       "      <td>18</td>\n",
       "      <td>11.0</td>\n",
       "      <td>1.0</td>\n",
       "    </tr>\n",
       "    <tr>\n",
       "      <th>65</th>\n",
       "      <td>L</td>\n",
       "      <td>97</td>\n",
       "      <td>37</td>\n",
       "      <td>79</td>\n",
       "      <td>0.468</td>\n",
       "      <td>11</td>\n",
       "      <td>37</td>\n",
       "      <td>0.297</td>\n",
       "      <td>12</td>\n",
       "      <td>18</td>\n",
       "      <td>...</td>\n",
       "      <td>3</td>\n",
       "      <td>27</td>\n",
       "      <td>30</td>\n",
       "      <td>23</td>\n",
       "      <td>9</td>\n",
       "      <td>6</td>\n",
       "      <td>21</td>\n",
       "      <td>18</td>\n",
       "      <td>-47.0</td>\n",
       "      <td>0.0</td>\n",
       "    </tr>\n",
       "    <tr>\n",
       "      <th>66</th>\n",
       "      <td>W</td>\n",
       "      <td>111</td>\n",
       "      <td>38</td>\n",
       "      <td>75</td>\n",
       "      <td>0.507</td>\n",
       "      <td>16</td>\n",
       "      <td>37</td>\n",
       "      <td>0.432</td>\n",
       "      <td>19</td>\n",
       "      <td>23</td>\n",
       "      <td>...</td>\n",
       "      <td>4</td>\n",
       "      <td>31</td>\n",
       "      <td>35</td>\n",
       "      <td>29</td>\n",
       "      <td>11</td>\n",
       "      <td>2</td>\n",
       "      <td>17</td>\n",
       "      <td>25</td>\n",
       "      <td>13.0</td>\n",
       "      <td>1.0</td>\n",
       "    </tr>\n",
       "    <tr>\n",
       "      <th>67</th>\n",
       "      <td>L</td>\n",
       "      <td>107</td>\n",
       "      <td>42</td>\n",
       "      <td>83</td>\n",
       "      <td>0.506</td>\n",
       "      <td>7</td>\n",
       "      <td>20</td>\n",
       "      <td>0.350</td>\n",
       "      <td>16</td>\n",
       "      <td>19</td>\n",
       "      <td>...</td>\n",
       "      <td>7</td>\n",
       "      <td>36</td>\n",
       "      <td>43</td>\n",
       "      <td>25</td>\n",
       "      <td>11</td>\n",
       "      <td>2</td>\n",
       "      <td>22</td>\n",
       "      <td>21</td>\n",
       "      <td>-6.0</td>\n",
       "      <td>0.0</td>\n",
       "    </tr>\n",
       "  </tbody>\n",
       "</table>\n",
       "<p>68 rows × 21 columns</p>\n",
       "</div>"
      ],
      "text/plain": [
       "   WL  PTS  FGM  FGA  FG_PCT  FG3M  FG3A  FG3_PCT  FTM  FTA  ...  OREB  DREB  \\\n",
       "0   W  130   47   82   0.573    16    35    0.457   20   22  ...     3    32   \n",
       "1   W  121   44   87   0.506    13    32    0.406   20   27  ...     8    29   \n",
       "2   L  113   39   84   0.464    18    41    0.439   17   21  ...     8    31   \n",
       "3   W  121   45   88   0.511    11    38    0.289   20   27  ...    11    31   \n",
       "4   W  124   47   87   0.540    18    36    0.500   12   15  ...    10    27   \n",
       ".. ..  ...  ...  ...     ...   ...   ...      ...  ...  ...  ...   ...   ...   \n",
       "63  L   83   29   78   0.372     7    33    0.212   18   25  ...     5    36   \n",
       "64  W  119   40   82   0.488    15    39    0.385   24   29  ...    10    42   \n",
       "65  L   97   37   79   0.468    11    37    0.297   12   18  ...     3    27   \n",
       "66  W  111   38   75   0.507    16    37    0.432   19   23  ...     4    31   \n",
       "67  L  107   42   83   0.506     7    20    0.350   16   19  ...     7    36   \n",
       "\n",
       "    REB  AST  STL  BLK  TOV  PF  PLUS_MINUS  Win  \n",
       "0    35   30    8    2   11  20         6.0  1.0  \n",
       "1    37   27    9    2   14  22         9.0  1.0  \n",
       "2    39   30    9    2   12  17       -14.0  0.0  \n",
       "3    42   30   10    6   11  22        10.0  1.0  \n",
       "4    37   30   12    1    8  16        17.0  1.0  \n",
       "..  ...  ...  ...  ...  ...  ..         ...  ...  \n",
       "63   41   20   10    2   14  24       -10.0  0.0  \n",
       "64   52   25    5    5   22  18        11.0  1.0  \n",
       "65   30   23    9    6   21  18       -47.0  0.0  \n",
       "66   35   29   11    2   17  25        13.0  1.0  \n",
       "67   43   25   11    2   22  21        -6.0  0.0  \n",
       "\n",
       "[68 rows x 21 columns]"
      ]
     },
     "execution_count": 78,
     "metadata": {},
     "output_type": "execute_result"
    }
   ],
   "source": [
    "MH_games_2020"
   ]
  },
  {
   "cell_type": "code",
   "execution_count": 79,
   "metadata": {},
   "outputs": [
    {
     "name": "stderr",
     "output_type": "stream",
     "text": [
      "C:\\Users\\Gabo\\anaconda3\\lib\\site-packages\\pandas\\core\\frame.py:4163: SettingWithCopyWarning: \n",
      "A value is trying to be set on a copy of a slice from a DataFrame\n",
      "\n",
      "See the caveats in the documentation: https://pandas.pydata.org/pandas-docs/stable/user_guide/indexing.html#returning-a-view-versus-a-copy\n",
      "  return super().drop(\n"
     ]
    }
   ],
   "source": [
    "MH_games_2020.drop(['WL'],axis=1,inplace=True)"
   ]
  },
  {
   "cell_type": "code",
   "execution_count": 80,
   "metadata": {},
   "outputs": [
    {
     "data": {
      "text/html": [
       "<div>\n",
       "<style scoped>\n",
       "    .dataframe tbody tr th:only-of-type {\n",
       "        vertical-align: middle;\n",
       "    }\n",
       "\n",
       "    .dataframe tbody tr th {\n",
       "        vertical-align: top;\n",
       "    }\n",
       "\n",
       "    .dataframe thead th {\n",
       "        text-align: right;\n",
       "    }\n",
       "</style>\n",
       "<table border=\"1\" class=\"dataframe\">\n",
       "  <thead>\n",
       "    <tr style=\"text-align: right;\">\n",
       "      <th></th>\n",
       "      <th>PTS</th>\n",
       "      <th>FGM</th>\n",
       "      <th>FGA</th>\n",
       "      <th>FG_PCT</th>\n",
       "      <th>FG3M</th>\n",
       "      <th>FG3A</th>\n",
       "      <th>FG3_PCT</th>\n",
       "      <th>FTM</th>\n",
       "      <th>FTA</th>\n",
       "      <th>FT_PCT</th>\n",
       "      <th>OREB</th>\n",
       "      <th>DREB</th>\n",
       "      <th>REB</th>\n",
       "      <th>AST</th>\n",
       "      <th>STL</th>\n",
       "      <th>BLK</th>\n",
       "      <th>TOV</th>\n",
       "      <th>PF</th>\n",
       "      <th>PLUS_MINUS</th>\n",
       "      <th>Win</th>\n",
       "    </tr>\n",
       "  </thead>\n",
       "  <tbody>\n",
       "    <tr>\n",
       "      <th>0</th>\n",
       "      <td>130</td>\n",
       "      <td>47</td>\n",
       "      <td>82</td>\n",
       "      <td>0.573</td>\n",
       "      <td>16</td>\n",
       "      <td>35</td>\n",
       "      <td>0.457</td>\n",
       "      <td>20</td>\n",
       "      <td>22</td>\n",
       "      <td>0.909</td>\n",
       "      <td>3</td>\n",
       "      <td>32</td>\n",
       "      <td>35</td>\n",
       "      <td>30</td>\n",
       "      <td>8</td>\n",
       "      <td>2</td>\n",
       "      <td>11</td>\n",
       "      <td>20</td>\n",
       "      <td>6.0</td>\n",
       "      <td>1.0</td>\n",
       "    </tr>\n",
       "    <tr>\n",
       "      <th>1</th>\n",
       "      <td>121</td>\n",
       "      <td>44</td>\n",
       "      <td>87</td>\n",
       "      <td>0.506</td>\n",
       "      <td>13</td>\n",
       "      <td>32</td>\n",
       "      <td>0.406</td>\n",
       "      <td>20</td>\n",
       "      <td>27</td>\n",
       "      <td>0.741</td>\n",
       "      <td>8</td>\n",
       "      <td>29</td>\n",
       "      <td>37</td>\n",
       "      <td>27</td>\n",
       "      <td>9</td>\n",
       "      <td>2</td>\n",
       "      <td>14</td>\n",
       "      <td>22</td>\n",
       "      <td>9.0</td>\n",
       "      <td>1.0</td>\n",
       "    </tr>\n",
       "    <tr>\n",
       "      <th>2</th>\n",
       "      <td>113</td>\n",
       "      <td>39</td>\n",
       "      <td>84</td>\n",
       "      <td>0.464</td>\n",
       "      <td>18</td>\n",
       "      <td>41</td>\n",
       "      <td>0.439</td>\n",
       "      <td>17</td>\n",
       "      <td>21</td>\n",
       "      <td>0.810</td>\n",
       "      <td>8</td>\n",
       "      <td>31</td>\n",
       "      <td>39</td>\n",
       "      <td>30</td>\n",
       "      <td>9</td>\n",
       "      <td>2</td>\n",
       "      <td>12</td>\n",
       "      <td>17</td>\n",
       "      <td>-14.0</td>\n",
       "      <td>0.0</td>\n",
       "    </tr>\n",
       "    <tr>\n",
       "      <th>3</th>\n",
       "      <td>121</td>\n",
       "      <td>45</td>\n",
       "      <td>88</td>\n",
       "      <td>0.511</td>\n",
       "      <td>11</td>\n",
       "      <td>38</td>\n",
       "      <td>0.289</td>\n",
       "      <td>20</td>\n",
       "      <td>27</td>\n",
       "      <td>0.741</td>\n",
       "      <td>11</td>\n",
       "      <td>31</td>\n",
       "      <td>42</td>\n",
       "      <td>30</td>\n",
       "      <td>10</td>\n",
       "      <td>6</td>\n",
       "      <td>11</td>\n",
       "      <td>22</td>\n",
       "      <td>10.0</td>\n",
       "      <td>1.0</td>\n",
       "    </tr>\n",
       "    <tr>\n",
       "      <th>4</th>\n",
       "      <td>124</td>\n",
       "      <td>47</td>\n",
       "      <td>87</td>\n",
       "      <td>0.540</td>\n",
       "      <td>18</td>\n",
       "      <td>36</td>\n",
       "      <td>0.500</td>\n",
       "      <td>12</td>\n",
       "      <td>15</td>\n",
       "      <td>0.800</td>\n",
       "      <td>10</td>\n",
       "      <td>27</td>\n",
       "      <td>37</td>\n",
       "      <td>30</td>\n",
       "      <td>12</td>\n",
       "      <td>1</td>\n",
       "      <td>8</td>\n",
       "      <td>16</td>\n",
       "      <td>17.0</td>\n",
       "      <td>1.0</td>\n",
       "    </tr>\n",
       "    <tr>\n",
       "      <th>5</th>\n",
       "      <td>116</td>\n",
       "      <td>43</td>\n",
       "      <td>85</td>\n",
       "      <td>0.506</td>\n",
       "      <td>9</td>\n",
       "      <td>25</td>\n",
       "      <td>0.360</td>\n",
       "      <td>21</td>\n",
       "      <td>24</td>\n",
       "      <td>0.875</td>\n",
       "      <td>10</td>\n",
       "      <td>38</td>\n",
       "      <td>48</td>\n",
       "      <td>26</td>\n",
       "      <td>4</td>\n",
       "      <td>1</td>\n",
       "      <td>12</td>\n",
       "      <td>23</td>\n",
       "      <td>5.0</td>\n",
       "      <td>1.0</td>\n",
       "    </tr>\n",
       "    <tr>\n",
       "      <th>6</th>\n",
       "      <td>102</td>\n",
       "      <td>36</td>\n",
       "      <td>84</td>\n",
       "      <td>0.429</td>\n",
       "      <td>7</td>\n",
       "      <td>36</td>\n",
       "      <td>0.194</td>\n",
       "      <td>23</td>\n",
       "      <td>25</td>\n",
       "      <td>0.920</td>\n",
       "      <td>6</td>\n",
       "      <td>28</td>\n",
       "      <td>34</td>\n",
       "      <td>18</td>\n",
       "      <td>13</td>\n",
       "      <td>4</td>\n",
       "      <td>5</td>\n",
       "      <td>19</td>\n",
       "      <td>-8.0</td>\n",
       "      <td>0.0</td>\n",
       "    </tr>\n",
       "    <tr>\n",
       "      <th>7</th>\n",
       "      <td>106</td>\n",
       "      <td>36</td>\n",
       "      <td>80</td>\n",
       "      <td>0.450</td>\n",
       "      <td>14</td>\n",
       "      <td>37</td>\n",
       "      <td>0.378</td>\n",
       "      <td>20</td>\n",
       "      <td>24</td>\n",
       "      <td>0.833</td>\n",
       "      <td>6</td>\n",
       "      <td>31</td>\n",
       "      <td>37</td>\n",
       "      <td>22</td>\n",
       "      <td>11</td>\n",
       "      <td>2</td>\n",
       "      <td>10</td>\n",
       "      <td>12</td>\n",
       "      <td>5.0</td>\n",
       "      <td>1.0</td>\n",
       "    </tr>\n",
       "    <tr>\n",
       "      <th>8</th>\n",
       "      <td>103</td>\n",
       "      <td>38</td>\n",
       "      <td>79</td>\n",
       "      <td>0.481</td>\n",
       "      <td>13</td>\n",
       "      <td>37</td>\n",
       "      <td>0.351</td>\n",
       "      <td>14</td>\n",
       "      <td>16</td>\n",
       "      <td>0.875</td>\n",
       "      <td>6</td>\n",
       "      <td>24</td>\n",
       "      <td>30</td>\n",
       "      <td>24</td>\n",
       "      <td>10</td>\n",
       "      <td>5</td>\n",
       "      <td>13</td>\n",
       "      <td>18</td>\n",
       "      <td>-15.0</td>\n",
       "      <td>0.0</td>\n",
       "    </tr>\n",
       "    <tr>\n",
       "      <th>9</th>\n",
       "      <td>107</td>\n",
       "      <td>39</td>\n",
       "      <td>83</td>\n",
       "      <td>0.470</td>\n",
       "      <td>13</td>\n",
       "      <td>31</td>\n",
       "      <td>0.419</td>\n",
       "      <td>16</td>\n",
       "      <td>20</td>\n",
       "      <td>0.800</td>\n",
       "      <td>9</td>\n",
       "      <td>35</td>\n",
       "      <td>44</td>\n",
       "      <td>28</td>\n",
       "      <td>8</td>\n",
       "      <td>1</td>\n",
       "      <td>7</td>\n",
       "      <td>20</td>\n",
       "      <td>20.0</td>\n",
       "      <td>1.0</td>\n",
       "    </tr>\n",
       "  </tbody>\n",
       "</table>\n",
       "</div>"
      ],
      "text/plain": [
       "   PTS  FGM  FGA  FG_PCT  FG3M  FG3A  FG3_PCT  FTM  FTA  FT_PCT  OREB  DREB  \\\n",
       "0  130   47   82   0.573    16    35    0.457   20   22   0.909     3    32   \n",
       "1  121   44   87   0.506    13    32    0.406   20   27   0.741     8    29   \n",
       "2  113   39   84   0.464    18    41    0.439   17   21   0.810     8    31   \n",
       "3  121   45   88   0.511    11    38    0.289   20   27   0.741    11    31   \n",
       "4  124   47   87   0.540    18    36    0.500   12   15   0.800    10    27   \n",
       "5  116   43   85   0.506     9    25    0.360   21   24   0.875    10    38   \n",
       "6  102   36   84   0.429     7    36    0.194   23   25   0.920     6    28   \n",
       "7  106   36   80   0.450    14    37    0.378   20   24   0.833     6    31   \n",
       "8  103   38   79   0.481    13    37    0.351   14   16   0.875     6    24   \n",
       "9  107   39   83   0.470    13    31    0.419   16   20   0.800     9    35   \n",
       "\n",
       "   REB  AST  STL  BLK  TOV  PF  PLUS_MINUS  Win  \n",
       "0   35   30    8    2   11  20         6.0  1.0  \n",
       "1   37   27    9    2   14  22         9.0  1.0  \n",
       "2   39   30    9    2   12  17       -14.0  0.0  \n",
       "3   42   30   10    6   11  22        10.0  1.0  \n",
       "4   37   30   12    1    8  16        17.0  1.0  \n",
       "5   48   26    4    1   12  23         5.0  1.0  \n",
       "6   34   18   13    4    5  19        -8.0  0.0  \n",
       "7   37   22   11    2   10  12         5.0  1.0  \n",
       "8   30   24   10    5   13  18       -15.0  0.0  \n",
       "9   44   28    8    1    7  20        20.0  1.0  "
      ]
     },
     "execution_count": 80,
     "metadata": {},
     "output_type": "execute_result"
    }
   ],
   "source": [
    "MH_games_2020.head(10)"
   ]
  },
  {
   "cell_type": "code",
   "execution_count": 81,
   "metadata": {},
   "outputs": [],
   "source": [
    "import pandas as pd\n",
    "import pylab as pl\n",
    "import numpy as np\n",
    "import scipy.optimize as opt\n",
    "from sklearn import preprocessing\n",
    "%matplotlib inline \n",
    "import matplotlib.pyplot as plt"
   ]
  },
  {
   "cell_type": "markdown",
   "metadata": {},
   "source": [
    "Now, we define our dependent and independent variables"
   ]
  },
  {
   "cell_type": "code",
   "execution_count": 82,
   "metadata": {},
   "outputs": [
    {
     "data": {
      "text/plain": [
       "array([[130.   ,  47.   ,  82.   ,   0.573,  16.   ,  35.   ,   0.457,\n",
       "         20.   ,  22.   ,   0.909,   3.   ,  32.   ,  35.   ,  30.   ,\n",
       "          8.   ,   2.   ,  11.   ,  20.   ,   6.   ]])"
      ]
     },
     "execution_count": 82,
     "metadata": {},
     "output_type": "execute_result"
    }
   ],
   "source": [
    "## Definning X and Y for our prediction Model\n",
    "X=np.asarray(MH_games_2020.drop(['Win'],axis=1))\n",
    "X[0:1]"
   ]
  },
  {
   "cell_type": "code",
   "execution_count": 83,
   "metadata": {},
   "outputs": [
    {
     "data": {
      "text/plain": [
       "array([[1.],\n",
       "       [1.],\n",
       "       [0.],\n",
       "       [1.],\n",
       "       [1.]])"
      ]
     },
     "execution_count": 83,
     "metadata": {},
     "output_type": "execute_result"
    }
   ],
   "source": [
    "Y=np.asarray(MH_games_2020[['Win']])\n",
    "Y[0:5]"
   ]
  },
  {
   "cell_type": "markdown",
   "metadata": {},
   "source": [
    "NORMALIZE THE DATA SET SO THAT WE CAN PERFORM OUR LOGISTIC REGRESION:"
   ]
  },
  {
   "cell_type": "code",
   "execution_count": 84,
   "metadata": {},
   "outputs": [
    {
     "data": {
      "text/plain": [
       "array([[ 1.86500003,  1.57346584, -0.25162177,  2.13411815,  1.03515945,\n",
       "        -0.18656444,  1.43768565,  0.57677065,  0.0913441 ,  1.20488708,\n",
       "        -1.5571607 , -0.2776294 , -0.94731432,  0.86035014,  0.02803738,\n",
       "        -0.95025527, -0.57005767,  0.28265357,  0.46409246],\n",
       "       [ 1.11507886,  0.98772308,  0.51911158,  0.80164696,  0.07528432,\n",
       "        -0.67450219,  0.72080659,  0.57677065,  0.93072235, -0.48651498,\n",
       "         0.00459339, -0.83288821, -0.65517204,  0.16662908,  0.34579439,\n",
       "        -0.95025527,  0.18508366,  0.83180908,  0.68685684],\n",
       "       [ 0.44848227,  0.01148515,  0.05667157, -0.03363349,  1.6750762 ,\n",
       "         0.78931107,  1.18466951,  0.00559972, -0.07653155,  0.20816801,\n",
       "         0.00459339, -0.46271567, -0.36302975,  0.86035014,  0.34579439,\n",
       "        -0.95025527, -0.31834389, -0.54107969, -1.02100341],\n",
       "       [ 1.11507886,  1.18297067,  0.67325825,  0.90108511, -0.56463243,\n",
       "         0.30137332, -0.9237983 ,  0.57677065,  0.93072235, -0.48651498,\n",
       "         0.94164585, -0.46271567,  0.07518368,  0.86035014,  0.6635514 ,\n",
       "         1.0078465 , -0.57005767,  0.83180908,  0.76111163],\n",
       "       [ 1.36505258,  1.57346584,  0.51911158,  1.47782637,  1.6750762 ,\n",
       "        -0.02391852,  2.04211309, -0.94635185, -1.08378544,  0.10748931,\n",
       "         0.62929503, -1.20306075, -0.65517204,  0.86035014,  1.29906542,\n",
       "        -1.43978071, -1.32519899, -0.81565745,  1.28089518]])"
      ]
     },
     "execution_count": 84,
     "metadata": {},
     "output_type": "execute_result"
    }
   ],
   "source": [
    "from sklearn import preprocessing\n",
    "X = preprocessing.StandardScaler().fit(X).transform(X)\n",
    "X[0:5]"
   ]
  },
  {
   "cell_type": "markdown",
   "metadata": {},
   "source": [
    "### Train/Test"
   ]
  },
  {
   "cell_type": "code",
   "execution_count": 85,
   "metadata": {},
   "outputs": [
    {
     "name": "stdout",
     "output_type": "stream",
     "text": [
      "Train set: (57, 19) (57, 1)\n",
      "Test set: (11, 19) (11, 1)\n"
     ]
    }
   ],
   "source": [
    "from sklearn.model_selection import train_test_split\n",
    "X_train, X_test, Y_train, Y_test = train_test_split( X, Y, test_size=0.15, random_state=4)\n",
    "print ('Train set:', X_train.shape,  Y_train.shape)\n",
    "print ('Test set:', X_test.shape,  Y_test.shape)"
   ]
  },
  {
   "cell_type": "markdown",
   "metadata": {},
   "source": [
    "### Modeling Logistic Regression"
   ]
  },
  {
   "cell_type": "code",
   "execution_count": 86,
   "metadata": {},
   "outputs": [
    {
     "name": "stderr",
     "output_type": "stream",
     "text": [
      "C:\\Users\\Gabo\\anaconda3\\lib\\site-packages\\sklearn\\utils\\validation.py:72: DataConversionWarning: A column-vector y was passed when a 1d array was expected. Please change the shape of y to (n_samples, ), for example using ravel().\n",
      "  return f(**kwargs)\n"
     ]
    },
    {
     "data": {
      "text/plain": [
       "LogisticRegression(C=0.01, solver='liblinear')"
      ]
     },
     "execution_count": 86,
     "metadata": {},
     "output_type": "execute_result"
    }
   ],
   "source": [
    "from sklearn.linear_model import LogisticRegression\n",
    "from sklearn.metrics import confusion_matrix\n",
    "LR = LogisticRegression(C=0.01, solver='liblinear').fit(X_train,Y_train)\n",
    "LR"
   ]
  },
  {
   "cell_type": "code",
   "execution_count": 87,
   "metadata": {},
   "outputs": [
    {
     "data": {
      "text/plain": [
       "array([1., 0., 0., 0., 1., 1., 0., 1., 0., 1., 1.])"
      ]
     },
     "execution_count": 87,
     "metadata": {},
     "output_type": "execute_result"
    }
   ],
   "source": [
    "Yhat = LR.predict(X_test)\n",
    "Yhat"
   ]
  },
  {
   "cell_type": "code",
   "execution_count": 88,
   "metadata": {},
   "outputs": [
    {
     "data": {
      "text/plain": [
       "array([[0.44244624, 0.55755376],\n",
       "       [0.73508603, 0.26491397],\n",
       "       [0.68318599, 0.31681401],\n",
       "       [0.65475938, 0.34524062],\n",
       "       [0.47493235, 0.52506765],\n",
       "       [0.36477439, 0.63522561],\n",
       "       [0.52844392, 0.47155608],\n",
       "       [0.44043699, 0.55956301],\n",
       "       [0.52387737, 0.47612263],\n",
       "       [0.43995739, 0.56004261],\n",
       "       [0.36799574, 0.63200426]])"
      ]
     },
     "execution_count": 88,
     "metadata": {},
     "output_type": "execute_result"
    }
   ],
   "source": [
    "Yhat_prob = LR.predict_proba(X_test)\n",
    "Yhat_prob"
   ]
  },
  {
   "cell_type": "code",
   "execution_count": 90,
   "metadata": {},
   "outputs": [
    {
     "data": {
      "text/plain": [
       "0.5484482521539082"
      ]
     },
     "execution_count": 90,
     "metadata": {},
     "output_type": "execute_result"
    }
   ],
   "source": [
    "# Calculate the accuracy of the model\n",
    "from sklearn.metrics import log_loss\n",
    "log_loss(Y_test, Yhat_prob)"
   ]
  },
  {
   "cell_type": "markdown",
   "metadata": {},
   "source": [
    "In the following cells we will calculate the accuracy of the model using a part of the dataset."
   ]
  },
  {
   "cell_type": "code",
   "execution_count": 94,
   "metadata": {},
   "outputs": [
    {
     "data": {
      "text/html": [
       "<div>\n",
       "<style scoped>\n",
       "    .dataframe tbody tr th:only-of-type {\n",
       "        vertical-align: middle;\n",
       "    }\n",
       "\n",
       "    .dataframe tbody tr th {\n",
       "        vertical-align: top;\n",
       "    }\n",
       "\n",
       "    .dataframe thead th {\n",
       "        text-align: right;\n",
       "    }\n",
       "</style>\n",
       "<table border=\"1\" class=\"dataframe\">\n",
       "  <thead>\n",
       "    <tr style=\"text-align: right;\">\n",
       "      <th></th>\n",
       "      <th>WL</th>\n",
       "      <th>PTS</th>\n",
       "      <th>FGM</th>\n",
       "      <th>FGA</th>\n",
       "      <th>FG_PCT</th>\n",
       "      <th>FG3M</th>\n",
       "      <th>FG3A</th>\n",
       "      <th>FG3_PCT</th>\n",
       "      <th>FTM</th>\n",
       "      <th>FTA</th>\n",
       "      <th>FT_PCT</th>\n",
       "      <th>OREB</th>\n",
       "      <th>DREB</th>\n",
       "      <th>REB</th>\n",
       "      <th>AST</th>\n",
       "      <th>STL</th>\n",
       "      <th>BLK</th>\n",
       "      <th>TOV</th>\n",
       "      <th>PF</th>\n",
       "      <th>PLUS_MINUS</th>\n",
       "    </tr>\n",
       "  </thead>\n",
       "  <tbody>\n",
       "    <tr>\n",
       "      <th>0</th>\n",
       "      <td>W</td>\n",
       "      <td>116</td>\n",
       "      <td>43</td>\n",
       "      <td>85</td>\n",
       "      <td>0.506</td>\n",
       "      <td>9</td>\n",
       "      <td>25</td>\n",
       "      <td>0.360</td>\n",
       "      <td>21</td>\n",
       "      <td>24</td>\n",
       "      <td>0.875</td>\n",
       "      <td>10</td>\n",
       "      <td>38</td>\n",
       "      <td>48</td>\n",
       "      <td>26</td>\n",
       "      <td>4</td>\n",
       "      <td>1</td>\n",
       "      <td>12</td>\n",
       "      <td>23</td>\n",
       "      <td>5</td>\n",
       "    </tr>\n",
       "    <tr>\n",
       "      <th>1</th>\n",
       "      <td>L</td>\n",
       "      <td>102</td>\n",
       "      <td>36</td>\n",
       "      <td>84</td>\n",
       "      <td>0.429</td>\n",
       "      <td>7</td>\n",
       "      <td>36</td>\n",
       "      <td>0.194</td>\n",
       "      <td>23</td>\n",
       "      <td>25</td>\n",
       "      <td>0.920</td>\n",
       "      <td>6</td>\n",
       "      <td>28</td>\n",
       "      <td>34</td>\n",
       "      <td>18</td>\n",
       "      <td>13</td>\n",
       "      <td>4</td>\n",
       "      <td>5</td>\n",
       "      <td>19</td>\n",
       "      <td>-8</td>\n",
       "    </tr>\n",
       "    <tr>\n",
       "      <th>2</th>\n",
       "      <td>W</td>\n",
       "      <td>106</td>\n",
       "      <td>36</td>\n",
       "      <td>80</td>\n",
       "      <td>0.450</td>\n",
       "      <td>14</td>\n",
       "      <td>37</td>\n",
       "      <td>0.378</td>\n",
       "      <td>20</td>\n",
       "      <td>24</td>\n",
       "      <td>0.833</td>\n",
       "      <td>6</td>\n",
       "      <td>31</td>\n",
       "      <td>37</td>\n",
       "      <td>22</td>\n",
       "      <td>11</td>\n",
       "      <td>2</td>\n",
       "      <td>10</td>\n",
       "      <td>12</td>\n",
       "      <td>5</td>\n",
       "    </tr>\n",
       "    <tr>\n",
       "      <th>3</th>\n",
       "      <td>L</td>\n",
       "      <td>103</td>\n",
       "      <td>38</td>\n",
       "      <td>79</td>\n",
       "      <td>0.481</td>\n",
       "      <td>13</td>\n",
       "      <td>37</td>\n",
       "      <td>0.351</td>\n",
       "      <td>14</td>\n",
       "      <td>16</td>\n",
       "      <td>0.875</td>\n",
       "      <td>6</td>\n",
       "      <td>24</td>\n",
       "      <td>30</td>\n",
       "      <td>24</td>\n",
       "      <td>10</td>\n",
       "      <td>5</td>\n",
       "      <td>13</td>\n",
       "      <td>18</td>\n",
       "      <td>-15</td>\n",
       "    </tr>\n",
       "    <tr>\n",
       "      <th>4</th>\n",
       "      <td>W</td>\n",
       "      <td>107</td>\n",
       "      <td>39</td>\n",
       "      <td>83</td>\n",
       "      <td>0.470</td>\n",
       "      <td>13</td>\n",
       "      <td>31</td>\n",
       "      <td>0.419</td>\n",
       "      <td>16</td>\n",
       "      <td>20</td>\n",
       "      <td>0.800</td>\n",
       "      <td>9</td>\n",
       "      <td>35</td>\n",
       "      <td>44</td>\n",
       "      <td>28</td>\n",
       "      <td>8</td>\n",
       "      <td>1</td>\n",
       "      <td>7</td>\n",
       "      <td>20</td>\n",
       "      <td>20</td>\n",
       "    </tr>\n",
       "    <tr>\n",
       "      <th>...</th>\n",
       "      <td>...</td>\n",
       "      <td>...</td>\n",
       "      <td>...</td>\n",
       "      <td>...</td>\n",
       "      <td>...</td>\n",
       "      <td>...</td>\n",
       "      <td>...</td>\n",
       "      <td>...</td>\n",
       "      <td>...</td>\n",
       "      <td>...</td>\n",
       "      <td>...</td>\n",
       "      <td>...</td>\n",
       "      <td>...</td>\n",
       "      <td>...</td>\n",
       "      <td>...</td>\n",
       "      <td>...</td>\n",
       "      <td>...</td>\n",
       "      <td>...</td>\n",
       "      <td>...</td>\n",
       "      <td>...</td>\n",
       "    </tr>\n",
       "    <tr>\n",
       "      <th>58</th>\n",
       "      <td>L</td>\n",
       "      <td>83</td>\n",
       "      <td>29</td>\n",
       "      <td>78</td>\n",
       "      <td>0.372</td>\n",
       "      <td>7</td>\n",
       "      <td>33</td>\n",
       "      <td>0.212</td>\n",
       "      <td>18</td>\n",
       "      <td>25</td>\n",
       "      <td>0.720</td>\n",
       "      <td>5</td>\n",
       "      <td>36</td>\n",
       "      <td>41</td>\n",
       "      <td>20</td>\n",
       "      <td>10</td>\n",
       "      <td>2</td>\n",
       "      <td>14</td>\n",
       "      <td>24</td>\n",
       "      <td>-10</td>\n",
       "    </tr>\n",
       "    <tr>\n",
       "      <th>59</th>\n",
       "      <td>W</td>\n",
       "      <td>119</td>\n",
       "      <td>40</td>\n",
       "      <td>82</td>\n",
       "      <td>0.488</td>\n",
       "      <td>15</td>\n",
       "      <td>39</td>\n",
       "      <td>0.385</td>\n",
       "      <td>24</td>\n",
       "      <td>29</td>\n",
       "      <td>0.828</td>\n",
       "      <td>10</td>\n",
       "      <td>42</td>\n",
       "      <td>52</td>\n",
       "      <td>25</td>\n",
       "      <td>5</td>\n",
       "      <td>5</td>\n",
       "      <td>22</td>\n",
       "      <td>18</td>\n",
       "      <td>11</td>\n",
       "    </tr>\n",
       "    <tr>\n",
       "      <th>60</th>\n",
       "      <td>L</td>\n",
       "      <td>97</td>\n",
       "      <td>37</td>\n",
       "      <td>79</td>\n",
       "      <td>0.468</td>\n",
       "      <td>11</td>\n",
       "      <td>37</td>\n",
       "      <td>0.297</td>\n",
       "      <td>12</td>\n",
       "      <td>18</td>\n",
       "      <td>0.667</td>\n",
       "      <td>3</td>\n",
       "      <td>27</td>\n",
       "      <td>30</td>\n",
       "      <td>23</td>\n",
       "      <td>9</td>\n",
       "      <td>6</td>\n",
       "      <td>21</td>\n",
       "      <td>18</td>\n",
       "      <td>-47</td>\n",
       "    </tr>\n",
       "    <tr>\n",
       "      <th>61</th>\n",
       "      <td>W</td>\n",
       "      <td>111</td>\n",
       "      <td>38</td>\n",
       "      <td>75</td>\n",
       "      <td>0.507</td>\n",
       "      <td>16</td>\n",
       "      <td>37</td>\n",
       "      <td>0.432</td>\n",
       "      <td>19</td>\n",
       "      <td>23</td>\n",
       "      <td>0.826</td>\n",
       "      <td>4</td>\n",
       "      <td>31</td>\n",
       "      <td>35</td>\n",
       "      <td>29</td>\n",
       "      <td>11</td>\n",
       "      <td>2</td>\n",
       "      <td>17</td>\n",
       "      <td>25</td>\n",
       "      <td>13</td>\n",
       "    </tr>\n",
       "    <tr>\n",
       "      <th>62</th>\n",
       "      <td>L</td>\n",
       "      <td>107</td>\n",
       "      <td>42</td>\n",
       "      <td>83</td>\n",
       "      <td>0.506</td>\n",
       "      <td>7</td>\n",
       "      <td>20</td>\n",
       "      <td>0.350</td>\n",
       "      <td>16</td>\n",
       "      <td>19</td>\n",
       "      <td>0.842</td>\n",
       "      <td>7</td>\n",
       "      <td>36</td>\n",
       "      <td>43</td>\n",
       "      <td>25</td>\n",
       "      <td>11</td>\n",
       "      <td>2</td>\n",
       "      <td>22</td>\n",
       "      <td>21</td>\n",
       "      <td>-6</td>\n",
       "    </tr>\n",
       "  </tbody>\n",
       "</table>\n",
       "<p>63 rows × 20 columns</p>\n",
       "</div>"
      ],
      "text/plain": [
       "   WL  PTS  FGM  FGA  FG_PCT  FG3M  FG3A  FG3_PCT  FTM  FTA  FT_PCT  OREB  \\\n",
       "0   W  116   43   85   0.506     9    25    0.360   21   24   0.875    10   \n",
       "1   L  102   36   84   0.429     7    36    0.194   23   25   0.920     6   \n",
       "2   W  106   36   80   0.450    14    37    0.378   20   24   0.833     6   \n",
       "3   L  103   38   79   0.481    13    37    0.351   14   16   0.875     6   \n",
       "4   W  107   39   83   0.470    13    31    0.419   16   20   0.800     9   \n",
       ".. ..  ...  ...  ...     ...   ...   ...      ...  ...  ...     ...   ...   \n",
       "58  L   83   29   78   0.372     7    33    0.212   18   25   0.720     5   \n",
       "59  W  119   40   82   0.488    15    39    0.385   24   29   0.828    10   \n",
       "60  L   97   37   79   0.468    11    37    0.297   12   18   0.667     3   \n",
       "61  W  111   38   75   0.507    16    37    0.432   19   23   0.826     4   \n",
       "62  L  107   42   83   0.506     7    20    0.350   16   19   0.842     7   \n",
       "\n",
       "    DREB  REB  AST  STL  BLK  TOV  PF  PLUS_MINUS  \n",
       "0     38   48   26    4    1   12  23           5  \n",
       "1     28   34   18   13    4    5  19          -8  \n",
       "2     31   37   22   11    2   10  12           5  \n",
       "3     24   30   24   10    5   13  18         -15  \n",
       "4     35   44   28    8    1    7  20          20  \n",
       "..   ...  ...  ...  ...  ...  ...  ..         ...  \n",
       "58    36   41   20   10    2   14  24         -10  \n",
       "59    42   52   25    5    5   22  18          11  \n",
       "60    27   30   23    9    6   21  18         -47  \n",
       "61    31   35   29   11    2   17  25          13  \n",
       "62    36   43   25   11    2   22  21          -6  \n",
       "\n",
       "[63 rows x 20 columns]"
      ]
     },
     "execution_count": 94,
     "metadata": {},
     "output_type": "execute_result"
    }
   ],
   "source": [
    "## Import the games' dataset to calculate the accuracy of our classification model\n",
    "prueba=pd.read_excel('MH.xlsx',usecols=\"B:U\",sheet_name='Sheet1')\n",
    "prueba"
   ]
  },
  {
   "cell_type": "code",
   "execution_count": 95,
   "metadata": {},
   "outputs": [
    {
     "name": "stderr",
     "output_type": "stream",
     "text": [
      "C:\\Users\\Gabo\\anaconda3\\lib\\site-packages\\pandas\\core\\frame.py:4163: SettingWithCopyWarning: \n",
      "A value is trying to be set on a copy of a slice from a DataFrame\n",
      "\n",
      "See the caveats in the documentation: https://pandas.pydata.org/pandas-docs/stable/user_guide/indexing.html#returning-a-view-versus-a-copy\n",
      "  return super().drop(\n"
     ]
    },
    {
     "data": {
      "text/html": [
       "<div>\n",
       "<style scoped>\n",
       "    .dataframe tbody tr th:only-of-type {\n",
       "        vertical-align: middle;\n",
       "    }\n",
       "\n",
       "    .dataframe tbody tr th {\n",
       "        vertical-align: top;\n",
       "    }\n",
       "\n",
       "    .dataframe thead th {\n",
       "        text-align: right;\n",
       "    }\n",
       "</style>\n",
       "<table border=\"1\" class=\"dataframe\">\n",
       "  <thead>\n",
       "    <tr style=\"text-align: right;\">\n",
       "      <th></th>\n",
       "      <th>PTS</th>\n",
       "      <th>FGM</th>\n",
       "      <th>FGA</th>\n",
       "      <th>FG_PCT</th>\n",
       "      <th>FG3M</th>\n",
       "      <th>FG3A</th>\n",
       "      <th>FG3_PCT</th>\n",
       "      <th>FTM</th>\n",
       "      <th>FTA</th>\n",
       "      <th>FT_PCT</th>\n",
       "      <th>OREB</th>\n",
       "      <th>DREB</th>\n",
       "      <th>REB</th>\n",
       "      <th>AST</th>\n",
       "      <th>STL</th>\n",
       "      <th>BLK</th>\n",
       "      <th>TOV</th>\n",
       "      <th>PF</th>\n",
       "      <th>PLUS_MINUS</th>\n",
       "    </tr>\n",
       "  </thead>\n",
       "  <tbody>\n",
       "    <tr>\n",
       "      <th>0</th>\n",
       "      <td>116</td>\n",
       "      <td>43</td>\n",
       "      <td>85</td>\n",
       "      <td>0.506</td>\n",
       "      <td>9</td>\n",
       "      <td>25</td>\n",
       "      <td>0.360</td>\n",
       "      <td>21</td>\n",
       "      <td>24</td>\n",
       "      <td>0.875</td>\n",
       "      <td>10</td>\n",
       "      <td>38</td>\n",
       "      <td>48</td>\n",
       "      <td>26</td>\n",
       "      <td>4</td>\n",
       "      <td>1</td>\n",
       "      <td>12</td>\n",
       "      <td>23</td>\n",
       "      <td>5</td>\n",
       "    </tr>\n",
       "    <tr>\n",
       "      <th>1</th>\n",
       "      <td>102</td>\n",
       "      <td>36</td>\n",
       "      <td>84</td>\n",
       "      <td>0.429</td>\n",
       "      <td>7</td>\n",
       "      <td>36</td>\n",
       "      <td>0.194</td>\n",
       "      <td>23</td>\n",
       "      <td>25</td>\n",
       "      <td>0.920</td>\n",
       "      <td>6</td>\n",
       "      <td>28</td>\n",
       "      <td>34</td>\n",
       "      <td>18</td>\n",
       "      <td>13</td>\n",
       "      <td>4</td>\n",
       "      <td>5</td>\n",
       "      <td>19</td>\n",
       "      <td>-8</td>\n",
       "    </tr>\n",
       "    <tr>\n",
       "      <th>2</th>\n",
       "      <td>106</td>\n",
       "      <td>36</td>\n",
       "      <td>80</td>\n",
       "      <td>0.450</td>\n",
       "      <td>14</td>\n",
       "      <td>37</td>\n",
       "      <td>0.378</td>\n",
       "      <td>20</td>\n",
       "      <td>24</td>\n",
       "      <td>0.833</td>\n",
       "      <td>6</td>\n",
       "      <td>31</td>\n",
       "      <td>37</td>\n",
       "      <td>22</td>\n",
       "      <td>11</td>\n",
       "      <td>2</td>\n",
       "      <td>10</td>\n",
       "      <td>12</td>\n",
       "      <td>5</td>\n",
       "    </tr>\n",
       "    <tr>\n",
       "      <th>3</th>\n",
       "      <td>103</td>\n",
       "      <td>38</td>\n",
       "      <td>79</td>\n",
       "      <td>0.481</td>\n",
       "      <td>13</td>\n",
       "      <td>37</td>\n",
       "      <td>0.351</td>\n",
       "      <td>14</td>\n",
       "      <td>16</td>\n",
       "      <td>0.875</td>\n",
       "      <td>6</td>\n",
       "      <td>24</td>\n",
       "      <td>30</td>\n",
       "      <td>24</td>\n",
       "      <td>10</td>\n",
       "      <td>5</td>\n",
       "      <td>13</td>\n",
       "      <td>18</td>\n",
       "      <td>-15</td>\n",
       "    </tr>\n",
       "    <tr>\n",
       "      <th>4</th>\n",
       "      <td>107</td>\n",
       "      <td>39</td>\n",
       "      <td>83</td>\n",
       "      <td>0.470</td>\n",
       "      <td>13</td>\n",
       "      <td>31</td>\n",
       "      <td>0.419</td>\n",
       "      <td>16</td>\n",
       "      <td>20</td>\n",
       "      <td>0.800</td>\n",
       "      <td>9</td>\n",
       "      <td>35</td>\n",
       "      <td>44</td>\n",
       "      <td>28</td>\n",
       "      <td>8</td>\n",
       "      <td>1</td>\n",
       "      <td>7</td>\n",
       "      <td>20</td>\n",
       "      <td>20</td>\n",
       "    </tr>\n",
       "    <tr>\n",
       "      <th>5</th>\n",
       "      <td>113</td>\n",
       "      <td>45</td>\n",
       "      <td>93</td>\n",
       "      <td>0.484</td>\n",
       "      <td>19</td>\n",
       "      <td>48</td>\n",
       "      <td>0.396</td>\n",
       "      <td>4</td>\n",
       "      <td>7</td>\n",
       "      <td>0.571</td>\n",
       "      <td>11</td>\n",
       "      <td>41</td>\n",
       "      <td>52</td>\n",
       "      <td>31</td>\n",
       "      <td>7</td>\n",
       "      <td>5</td>\n",
       "      <td>13</td>\n",
       "      <td>19</td>\n",
       "      <td>22</td>\n",
       "    </tr>\n",
       "    <tr>\n",
       "      <th>6</th>\n",
       "      <td>109</td>\n",
       "      <td>38</td>\n",
       "      <td>87</td>\n",
       "      <td>0.437</td>\n",
       "      <td>16</td>\n",
       "      <td>39</td>\n",
       "      <td>0.410</td>\n",
       "      <td>17</td>\n",
       "      <td>21</td>\n",
       "      <td>0.810</td>\n",
       "      <td>16</td>\n",
       "      <td>37</td>\n",
       "      <td>53</td>\n",
       "      <td>28</td>\n",
       "      <td>9</td>\n",
       "      <td>1</td>\n",
       "      <td>16</td>\n",
       "      <td>13</td>\n",
       "      <td>2</td>\n",
       "    </tr>\n",
       "    <tr>\n",
       "      <th>7</th>\n",
       "      <td>111</td>\n",
       "      <td>39</td>\n",
       "      <td>80</td>\n",
       "      <td>0.488</td>\n",
       "      <td>14</td>\n",
       "      <td>34</td>\n",
       "      <td>0.412</td>\n",
       "      <td>19</td>\n",
       "      <td>26</td>\n",
       "      <td>0.731</td>\n",
       "      <td>7</td>\n",
       "      <td>26</td>\n",
       "      <td>33</td>\n",
       "      <td>33</td>\n",
       "      <td>11</td>\n",
       "      <td>5</td>\n",
       "      <td>14</td>\n",
       "      <td>28</td>\n",
       "      <td>-8</td>\n",
       "    </tr>\n",
       "    <tr>\n",
       "      <th>8</th>\n",
       "      <td>106</td>\n",
       "      <td>39</td>\n",
       "      <td>79</td>\n",
       "      <td>0.494</td>\n",
       "      <td>13</td>\n",
       "      <td>32</td>\n",
       "      <td>0.406</td>\n",
       "      <td>15</td>\n",
       "      <td>18</td>\n",
       "      <td>0.833</td>\n",
       "      <td>4</td>\n",
       "      <td>26</td>\n",
       "      <td>30</td>\n",
       "      <td>29</td>\n",
       "      <td>7</td>\n",
       "      <td>8</td>\n",
       "      <td>8</td>\n",
       "      <td>13</td>\n",
       "      <td>-17</td>\n",
       "    </tr>\n",
       "    <tr>\n",
       "      <th>9</th>\n",
       "      <td>86</td>\n",
       "      <td>31</td>\n",
       "      <td>82</td>\n",
       "      <td>0.378</td>\n",
       "      <td>9</td>\n",
       "      <td>44</td>\n",
       "      <td>0.205</td>\n",
       "      <td>15</td>\n",
       "      <td>19</td>\n",
       "      <td>0.789</td>\n",
       "      <td>8</td>\n",
       "      <td>28</td>\n",
       "      <td>36</td>\n",
       "      <td>24</td>\n",
       "      <td>13</td>\n",
       "      <td>2</td>\n",
       "      <td>16</td>\n",
       "      <td>20</td>\n",
       "      <td>-20</td>\n",
       "    </tr>\n",
       "    <tr>\n",
       "      <th>10</th>\n",
       "      <td>107</td>\n",
       "      <td>41</td>\n",
       "      <td>83</td>\n",
       "      <td>0.494</td>\n",
       "      <td>12</td>\n",
       "      <td>29</td>\n",
       "      <td>0.414</td>\n",
       "      <td>13</td>\n",
       "      <td>20</td>\n",
       "      <td>0.650</td>\n",
       "      <td>6</td>\n",
       "      <td>24</td>\n",
       "      <td>30</td>\n",
       "      <td>21</td>\n",
       "      <td>12</td>\n",
       "      <td>4</td>\n",
       "      <td>7</td>\n",
       "      <td>18</td>\n",
       "      <td>9</td>\n",
       "    </tr>\n",
       "    <tr>\n",
       "      <th>11</th>\n",
       "      <td>110</td>\n",
       "      <td>34</td>\n",
       "      <td>71</td>\n",
       "      <td>0.479</td>\n",
       "      <td>10</td>\n",
       "      <td>25</td>\n",
       "      <td>0.400</td>\n",
       "      <td>32</td>\n",
       "      <td>40</td>\n",
       "      <td>0.800</td>\n",
       "      <td>9</td>\n",
       "      <td>29</td>\n",
       "      <td>38</td>\n",
       "      <td>22</td>\n",
       "      <td>12</td>\n",
       "      <td>8</td>\n",
       "      <td>20</td>\n",
       "      <td>25</td>\n",
       "      <td>6</td>\n",
       "    </tr>\n",
       "    <tr>\n",
       "      <th>12</th>\n",
       "      <td>112</td>\n",
       "      <td>44</td>\n",
       "      <td>82</td>\n",
       "      <td>0.537</td>\n",
       "      <td>13</td>\n",
       "      <td>33</td>\n",
       "      <td>0.394</td>\n",
       "      <td>11</td>\n",
       "      <td>18</td>\n",
       "      <td>0.611</td>\n",
       "      <td>7</td>\n",
       "      <td>28</td>\n",
       "      <td>35</td>\n",
       "      <td>34</td>\n",
       "      <td>9</td>\n",
       "      <td>4</td>\n",
       "      <td>12</td>\n",
       "      <td>16</td>\n",
       "      <td>-12</td>\n",
       "    </tr>\n",
       "    <tr>\n",
       "      <th>13</th>\n",
       "      <td>115</td>\n",
       "      <td>44</td>\n",
       "      <td>82</td>\n",
       "      <td>0.537</td>\n",
       "      <td>15</td>\n",
       "      <td>38</td>\n",
       "      <td>0.395</td>\n",
       "      <td>12</td>\n",
       "      <td>16</td>\n",
       "      <td>0.750</td>\n",
       "      <td>4</td>\n",
       "      <td>33</td>\n",
       "      <td>37</td>\n",
       "      <td>35</td>\n",
       "      <td>6</td>\n",
       "      <td>3</td>\n",
       "      <td>11</td>\n",
       "      <td>20</td>\n",
       "      <td>14</td>\n",
       "    </tr>\n",
       "    <tr>\n",
       "      <th>14</th>\n",
       "      <td>116</td>\n",
       "      <td>39</td>\n",
       "      <td>82</td>\n",
       "      <td>0.476</td>\n",
       "      <td>13</td>\n",
       "      <td>39</td>\n",
       "      <td>0.333</td>\n",
       "      <td>25</td>\n",
       "      <td>30</td>\n",
       "      <td>0.833</td>\n",
       "      <td>5</td>\n",
       "      <td>32</td>\n",
       "      <td>37</td>\n",
       "      <td>30</td>\n",
       "      <td>10</td>\n",
       "      <td>6</td>\n",
       "      <td>11</td>\n",
       "      <td>22</td>\n",
       "      <td>7</td>\n",
       "    </tr>\n",
       "    <tr>\n",
       "      <th>15</th>\n",
       "      <td>92</td>\n",
       "      <td>32</td>\n",
       "      <td>78</td>\n",
       "      <td>0.410</td>\n",
       "      <td>10</td>\n",
       "      <td>32</td>\n",
       "      <td>0.313</td>\n",
       "      <td>18</td>\n",
       "      <td>28</td>\n",
       "      <td>0.643</td>\n",
       "      <td>8</td>\n",
       "      <td>34</td>\n",
       "      <td>42</td>\n",
       "      <td>22</td>\n",
       "      <td>5</td>\n",
       "      <td>4</td>\n",
       "      <td>11</td>\n",
       "      <td>14</td>\n",
       "      <td>5</td>\n",
       "    </tr>\n",
       "    <tr>\n",
       "      <th>16</th>\n",
       "      <td>98</td>\n",
       "      <td>37</td>\n",
       "      <td>86</td>\n",
       "      <td>0.430</td>\n",
       "      <td>10</td>\n",
       "      <td>34</td>\n",
       "      <td>0.294</td>\n",
       "      <td>14</td>\n",
       "      <td>17</td>\n",
       "      <td>0.824</td>\n",
       "      <td>12</td>\n",
       "      <td>35</td>\n",
       "      <td>47</td>\n",
       "      <td>22</td>\n",
       "      <td>7</td>\n",
       "      <td>5</td>\n",
       "      <td>12</td>\n",
       "      <td>18</td>\n",
       "      <td>10</td>\n",
       "    </tr>\n",
       "    <tr>\n",
       "      <th>17</th>\n",
       "      <td>105</td>\n",
       "      <td>40</td>\n",
       "      <td>87</td>\n",
       "      <td>0.460</td>\n",
       "      <td>15</td>\n",
       "      <td>43</td>\n",
       "      <td>0.349</td>\n",
       "      <td>10</td>\n",
       "      <td>20</td>\n",
       "      <td>0.500</td>\n",
       "      <td>9</td>\n",
       "      <td>30</td>\n",
       "      <td>39</td>\n",
       "      <td>28</td>\n",
       "      <td>9</td>\n",
       "      <td>3</td>\n",
       "      <td>10</td>\n",
       "      <td>17</td>\n",
       "      <td>-5</td>\n",
       "    </tr>\n",
       "    <tr>\n",
       "      <th>18</th>\n",
       "      <td>122</td>\n",
       "      <td>47</td>\n",
       "      <td>84</td>\n",
       "      <td>0.560</td>\n",
       "      <td>16</td>\n",
       "      <td>34</td>\n",
       "      <td>0.471</td>\n",
       "      <td>12</td>\n",
       "      <td>13</td>\n",
       "      <td>0.923</td>\n",
       "      <td>5</td>\n",
       "      <td>34</td>\n",
       "      <td>39</td>\n",
       "      <td>34</td>\n",
       "      <td>3</td>\n",
       "      <td>7</td>\n",
       "      <td>11</td>\n",
       "      <td>18</td>\n",
       "      <td>-3</td>\n",
       "    </tr>\n",
       "    <tr>\n",
       "      <th>19</th>\n",
       "      <td>100</td>\n",
       "      <td>36</td>\n",
       "      <td>86</td>\n",
       "      <td>0.419</td>\n",
       "      <td>13</td>\n",
       "      <td>36</td>\n",
       "      <td>0.361</td>\n",
       "      <td>15</td>\n",
       "      <td>17</td>\n",
       "      <td>0.882</td>\n",
       "      <td>17</td>\n",
       "      <td>33</td>\n",
       "      <td>50</td>\n",
       "      <td>23</td>\n",
       "      <td>3</td>\n",
       "      <td>4</td>\n",
       "      <td>13</td>\n",
       "      <td>13</td>\n",
       "      <td>-10</td>\n",
       "    </tr>\n",
       "  </tbody>\n",
       "</table>\n",
       "</div>"
      ],
      "text/plain": [
       "    PTS  FGM  FGA  FG_PCT  FG3M  FG3A  FG3_PCT  FTM  FTA  FT_PCT  OREB  DREB  \\\n",
       "0   116   43   85   0.506     9    25    0.360   21   24   0.875    10    38   \n",
       "1   102   36   84   0.429     7    36    0.194   23   25   0.920     6    28   \n",
       "2   106   36   80   0.450    14    37    0.378   20   24   0.833     6    31   \n",
       "3   103   38   79   0.481    13    37    0.351   14   16   0.875     6    24   \n",
       "4   107   39   83   0.470    13    31    0.419   16   20   0.800     9    35   \n",
       "5   113   45   93   0.484    19    48    0.396    4    7   0.571    11    41   \n",
       "6   109   38   87   0.437    16    39    0.410   17   21   0.810    16    37   \n",
       "7   111   39   80   0.488    14    34    0.412   19   26   0.731     7    26   \n",
       "8   106   39   79   0.494    13    32    0.406   15   18   0.833     4    26   \n",
       "9    86   31   82   0.378     9    44    0.205   15   19   0.789     8    28   \n",
       "10  107   41   83   0.494    12    29    0.414   13   20   0.650     6    24   \n",
       "11  110   34   71   0.479    10    25    0.400   32   40   0.800     9    29   \n",
       "12  112   44   82   0.537    13    33    0.394   11   18   0.611     7    28   \n",
       "13  115   44   82   0.537    15    38    0.395   12   16   0.750     4    33   \n",
       "14  116   39   82   0.476    13    39    0.333   25   30   0.833     5    32   \n",
       "15   92   32   78   0.410    10    32    0.313   18   28   0.643     8    34   \n",
       "16   98   37   86   0.430    10    34    0.294   14   17   0.824    12    35   \n",
       "17  105   40   87   0.460    15    43    0.349   10   20   0.500     9    30   \n",
       "18  122   47   84   0.560    16    34    0.471   12   13   0.923     5    34   \n",
       "19  100   36   86   0.419    13    36    0.361   15   17   0.882    17    33   \n",
       "\n",
       "    REB  AST  STL  BLK  TOV  PF  PLUS_MINUS  \n",
       "0    48   26    4    1   12  23           5  \n",
       "1    34   18   13    4    5  19          -8  \n",
       "2    37   22   11    2   10  12           5  \n",
       "3    30   24   10    5   13  18         -15  \n",
       "4    44   28    8    1    7  20          20  \n",
       "5    52   31    7    5   13  19          22  \n",
       "6    53   28    9    1   16  13           2  \n",
       "7    33   33   11    5   14  28          -8  \n",
       "8    30   29    7    8    8  13         -17  \n",
       "9    36   24   13    2   16  20         -20  \n",
       "10   30   21   12    4    7  18           9  \n",
       "11   38   22   12    8   20  25           6  \n",
       "12   35   34    9    4   12  16         -12  \n",
       "13   37   35    6    3   11  20          14  \n",
       "14   37   30   10    6   11  22           7  \n",
       "15   42   22    5    4   11  14           5  \n",
       "16   47   22    7    5   12  18          10  \n",
       "17   39   28    9    3   10  17          -5  \n",
       "18   39   34    3    7   11  18          -3  \n",
       "19   50   23    3    4   13  13         -10  "
      ]
     },
     "execution_count": 95,
     "metadata": {},
     "output_type": "execute_result"
    }
   ],
   "source": [
    "## Using the last 20 games\n",
    "prueba=prueba.head(20)\n",
    "prueba.drop(['WL'], axis=1, inplace=True)\n",
    "prueba"
   ]
  },
  {
   "cell_type": "code",
   "execution_count": 96,
   "metadata": {},
   "outputs": [],
   "source": [
    "# Transform the dataset\n",
    "prueb = preprocessing.StandardScaler().fit(prueba).transform(prueba)"
   ]
  },
  {
   "cell_type": "code",
   "execution_count": 97,
   "metadata": {},
   "outputs": [
    {
     "data": {
      "text/plain": [
       "array([1., 0., 1., 0., 1., 1., 1., 0., 0., 0., 0., 1., 0., 1., 1., 0., 0.,\n",
       "       0., 1., 0.])"
      ]
     },
     "execution_count": 97,
     "metadata": {},
     "output_type": "execute_result"
    }
   ],
   "source": [
    "# Predection with new values\n",
    "Yhat_Prueba=LR.predict(prueb)\n",
    "Yhat_Prueba"
   ]
  },
  {
   "cell_type": "code",
   "execution_count": 98,
   "metadata": {},
   "outputs": [
    {
     "data": {
      "text/plain": [
       "array([[0.43048417, 0.56951583],\n",
       "       [0.63307874, 0.36692126],\n",
       "       [0.46827522, 0.53172478],\n",
       "       [0.61275864, 0.38724136],\n",
       "       [0.38385363, 0.61614637],\n",
       "       [0.3547912 , 0.6452088 ],\n",
       "       [0.40256663, 0.59743337],\n",
       "       [0.50564084, 0.49435916],\n",
       "       [0.58191326, 0.41808674],\n",
       "       [0.70406609, 0.29593391],\n",
       "       [0.50360472, 0.49639528],\n",
       "       [0.42141621, 0.57858379],\n",
       "       [0.51588925, 0.48411075],\n",
       "       [0.40044931, 0.59955069],\n",
       "       [0.4343708 , 0.5656292 ],\n",
       "       [0.52788893, 0.47211107],\n",
       "       [0.51099792, 0.48900208],\n",
       "       [0.53027842, 0.46972158],\n",
       "       [0.42697112, 0.57302888],\n",
       "       [0.54435077, 0.45564923]])"
      ]
     },
     "execution_count": 98,
     "metadata": {},
     "output_type": "execute_result"
    }
   ],
   "source": [
    "# Probability of winning\n",
    "Yhat_prob_prueba = LR.predict_proba(prueb)\n",
    "Yhat_prob_prueba"
   ]
  },
  {
   "cell_type": "code",
   "execution_count": 99,
   "metadata": {},
   "outputs": [
    {
     "data": {
      "text/html": [
       "<div>\n",
       "<style scoped>\n",
       "    .dataframe tbody tr th:only-of-type {\n",
       "        vertical-align: middle;\n",
       "    }\n",
       "\n",
       "    .dataframe tbody tr th {\n",
       "        vertical-align: top;\n",
       "    }\n",
       "\n",
       "    .dataframe thead th {\n",
       "        text-align: right;\n",
       "    }\n",
       "</style>\n",
       "<table border=\"1\" class=\"dataframe\">\n",
       "  <thead>\n",
       "    <tr style=\"text-align: right;\">\n",
       "      <th></th>\n",
       "      <th>0</th>\n",
       "    </tr>\n",
       "  </thead>\n",
       "  <tbody>\n",
       "    <tr>\n",
       "      <th>0</th>\n",
       "      <td>1.0</td>\n",
       "    </tr>\n",
       "    <tr>\n",
       "      <th>1</th>\n",
       "      <td>0.0</td>\n",
       "    </tr>\n",
       "    <tr>\n",
       "      <th>2</th>\n",
       "      <td>1.0</td>\n",
       "    </tr>\n",
       "    <tr>\n",
       "      <th>3</th>\n",
       "      <td>0.0</td>\n",
       "    </tr>\n",
       "    <tr>\n",
       "      <th>4</th>\n",
       "      <td>1.0</td>\n",
       "    </tr>\n",
       "    <tr>\n",
       "      <th>5</th>\n",
       "      <td>1.0</td>\n",
       "    </tr>\n",
       "    <tr>\n",
       "      <th>6</th>\n",
       "      <td>1.0</td>\n",
       "    </tr>\n",
       "    <tr>\n",
       "      <th>7</th>\n",
       "      <td>0.0</td>\n",
       "    </tr>\n",
       "    <tr>\n",
       "      <th>8</th>\n",
       "      <td>0.0</td>\n",
       "    </tr>\n",
       "    <tr>\n",
       "      <th>9</th>\n",
       "      <td>0.0</td>\n",
       "    </tr>\n",
       "    <tr>\n",
       "      <th>10</th>\n",
       "      <td>0.0</td>\n",
       "    </tr>\n",
       "    <tr>\n",
       "      <th>11</th>\n",
       "      <td>1.0</td>\n",
       "    </tr>\n",
       "    <tr>\n",
       "      <th>12</th>\n",
       "      <td>0.0</td>\n",
       "    </tr>\n",
       "    <tr>\n",
       "      <th>13</th>\n",
       "      <td>1.0</td>\n",
       "    </tr>\n",
       "    <tr>\n",
       "      <th>14</th>\n",
       "      <td>1.0</td>\n",
       "    </tr>\n",
       "    <tr>\n",
       "      <th>15</th>\n",
       "      <td>0.0</td>\n",
       "    </tr>\n",
       "    <tr>\n",
       "      <th>16</th>\n",
       "      <td>0.0</td>\n",
       "    </tr>\n",
       "    <tr>\n",
       "      <th>17</th>\n",
       "      <td>0.0</td>\n",
       "    </tr>\n",
       "    <tr>\n",
       "      <th>18</th>\n",
       "      <td>1.0</td>\n",
       "    </tr>\n",
       "    <tr>\n",
       "      <th>19</th>\n",
       "      <td>0.0</td>\n",
       "    </tr>\n",
       "  </tbody>\n",
       "</table>\n",
       "</div>"
      ],
      "text/plain": [
       "      0\n",
       "0   1.0\n",
       "1   0.0\n",
       "2   1.0\n",
       "3   0.0\n",
       "4   1.0\n",
       "5   1.0\n",
       "6   1.0\n",
       "7   0.0\n",
       "8   0.0\n",
       "9   0.0\n",
       "10  0.0\n",
       "11  1.0\n",
       "12  0.0\n",
       "13  1.0\n",
       "14  1.0\n",
       "15  0.0\n",
       "16  0.0\n",
       "17  0.0\n",
       "18  1.0\n",
       "19  0.0"
      ]
     },
     "execution_count": 99,
     "metadata": {},
     "output_type": "execute_result"
    }
   ],
   "source": [
    "Prediccion=pd.DataFrame(Yhat_Prueba)\n",
    "Prediccion"
   ]
  },
  {
   "cell_type": "code",
   "execution_count": 100,
   "metadata": {},
   "outputs": [
    {
     "data": {
      "text/html": [
       "<div>\n",
       "<style scoped>\n",
       "    .dataframe tbody tr th:only-of-type {\n",
       "        vertical-align: middle;\n",
       "    }\n",
       "\n",
       "    .dataframe tbody tr th {\n",
       "        vertical-align: top;\n",
       "    }\n",
       "\n",
       "    .dataframe thead th {\n",
       "        text-align: right;\n",
       "    }\n",
       "</style>\n",
       "<table border=\"1\" class=\"dataframe\">\n",
       "  <thead>\n",
       "    <tr style=\"text-align: right;\">\n",
       "      <th></th>\n",
       "      <th>0</th>\n",
       "      <th>1</th>\n",
       "    </tr>\n",
       "  </thead>\n",
       "  <tbody>\n",
       "    <tr>\n",
       "      <th>0</th>\n",
       "      <td>0.430484</td>\n",
       "      <td>0.569516</td>\n",
       "    </tr>\n",
       "    <tr>\n",
       "      <th>1</th>\n",
       "      <td>0.633079</td>\n",
       "      <td>0.366921</td>\n",
       "    </tr>\n",
       "    <tr>\n",
       "      <th>2</th>\n",
       "      <td>0.468275</td>\n",
       "      <td>0.531725</td>\n",
       "    </tr>\n",
       "    <tr>\n",
       "      <th>3</th>\n",
       "      <td>0.612759</td>\n",
       "      <td>0.387241</td>\n",
       "    </tr>\n",
       "    <tr>\n",
       "      <th>4</th>\n",
       "      <td>0.383854</td>\n",
       "      <td>0.616146</td>\n",
       "    </tr>\n",
       "    <tr>\n",
       "      <th>5</th>\n",
       "      <td>0.354791</td>\n",
       "      <td>0.645209</td>\n",
       "    </tr>\n",
       "    <tr>\n",
       "      <th>6</th>\n",
       "      <td>0.402567</td>\n",
       "      <td>0.597433</td>\n",
       "    </tr>\n",
       "    <tr>\n",
       "      <th>7</th>\n",
       "      <td>0.505641</td>\n",
       "      <td>0.494359</td>\n",
       "    </tr>\n",
       "    <tr>\n",
       "      <th>8</th>\n",
       "      <td>0.581913</td>\n",
       "      <td>0.418087</td>\n",
       "    </tr>\n",
       "    <tr>\n",
       "      <th>9</th>\n",
       "      <td>0.704066</td>\n",
       "      <td>0.295934</td>\n",
       "    </tr>\n",
       "    <tr>\n",
       "      <th>10</th>\n",
       "      <td>0.503605</td>\n",
       "      <td>0.496395</td>\n",
       "    </tr>\n",
       "    <tr>\n",
       "      <th>11</th>\n",
       "      <td>0.421416</td>\n",
       "      <td>0.578584</td>\n",
       "    </tr>\n",
       "    <tr>\n",
       "      <th>12</th>\n",
       "      <td>0.515889</td>\n",
       "      <td>0.484111</td>\n",
       "    </tr>\n",
       "    <tr>\n",
       "      <th>13</th>\n",
       "      <td>0.400449</td>\n",
       "      <td>0.599551</td>\n",
       "    </tr>\n",
       "    <tr>\n",
       "      <th>14</th>\n",
       "      <td>0.434371</td>\n",
       "      <td>0.565629</td>\n",
       "    </tr>\n",
       "    <tr>\n",
       "      <th>15</th>\n",
       "      <td>0.527889</td>\n",
       "      <td>0.472111</td>\n",
       "    </tr>\n",
       "    <tr>\n",
       "      <th>16</th>\n",
       "      <td>0.510998</td>\n",
       "      <td>0.489002</td>\n",
       "    </tr>\n",
       "    <tr>\n",
       "      <th>17</th>\n",
       "      <td>0.530278</td>\n",
       "      <td>0.469722</td>\n",
       "    </tr>\n",
       "    <tr>\n",
       "      <th>18</th>\n",
       "      <td>0.426971</td>\n",
       "      <td>0.573029</td>\n",
       "    </tr>\n",
       "    <tr>\n",
       "      <th>19</th>\n",
       "      <td>0.544351</td>\n",
       "      <td>0.455649</td>\n",
       "    </tr>\n",
       "  </tbody>\n",
       "</table>\n",
       "</div>"
      ],
      "text/plain": [
       "           0         1\n",
       "0   0.430484  0.569516\n",
       "1   0.633079  0.366921\n",
       "2   0.468275  0.531725\n",
       "3   0.612759  0.387241\n",
       "4   0.383854  0.616146\n",
       "5   0.354791  0.645209\n",
       "6   0.402567  0.597433\n",
       "7   0.505641  0.494359\n",
       "8   0.581913  0.418087\n",
       "9   0.704066  0.295934\n",
       "10  0.503605  0.496395\n",
       "11  0.421416  0.578584\n",
       "12  0.515889  0.484111\n",
       "13  0.400449  0.599551\n",
       "14  0.434371  0.565629\n",
       "15  0.527889  0.472111\n",
       "16  0.510998  0.489002\n",
       "17  0.530278  0.469722\n",
       "18  0.426971  0.573029\n",
       "19  0.544351  0.455649"
      ]
     },
     "execution_count": 100,
     "metadata": {},
     "output_type": "execute_result"
    }
   ],
   "source": [
    "Probabilidad=pd.DataFrame(Yhat_prob_prueba)\n",
    "Probabilidad"
   ]
  },
  {
   "cell_type": "code",
   "execution_count": 101,
   "metadata": {},
   "outputs": [
    {
     "data": {
      "text/html": [
       "<div>\n",
       "<style scoped>\n",
       "    .dataframe tbody tr th:only-of-type {\n",
       "        vertical-align: middle;\n",
       "    }\n",
       "\n",
       "    .dataframe tbody tr th {\n",
       "        vertical-align: top;\n",
       "    }\n",
       "\n",
       "    .dataframe thead th {\n",
       "        text-align: right;\n",
       "    }\n",
       "</style>\n",
       "<table border=\"1\" class=\"dataframe\">\n",
       "  <thead>\n",
       "    <tr style=\"text-align: right;\">\n",
       "      <th></th>\n",
       "      <th>PTS</th>\n",
       "      <th>FGM</th>\n",
       "      <th>FGA</th>\n",
       "      <th>FG_PCT</th>\n",
       "      <th>FG3M</th>\n",
       "      <th>FG3A</th>\n",
       "      <th>FG3_PCT</th>\n",
       "      <th>FTM</th>\n",
       "      <th>FTA</th>\n",
       "      <th>FT_PCT</th>\n",
       "      <th>...</th>\n",
       "      <th>REB</th>\n",
       "      <th>AST</th>\n",
       "      <th>STL</th>\n",
       "      <th>BLK</th>\n",
       "      <th>TOV</th>\n",
       "      <th>PF</th>\n",
       "      <th>PLUS_MINUS</th>\n",
       "      <th>0</th>\n",
       "      <th>0</th>\n",
       "      <th>1</th>\n",
       "    </tr>\n",
       "  </thead>\n",
       "  <tbody>\n",
       "    <tr>\n",
       "      <th>0</th>\n",
       "      <td>116</td>\n",
       "      <td>43</td>\n",
       "      <td>85</td>\n",
       "      <td>0.506</td>\n",
       "      <td>9</td>\n",
       "      <td>25</td>\n",
       "      <td>0.360</td>\n",
       "      <td>21</td>\n",
       "      <td>24</td>\n",
       "      <td>0.875</td>\n",
       "      <td>...</td>\n",
       "      <td>48</td>\n",
       "      <td>26</td>\n",
       "      <td>4</td>\n",
       "      <td>1</td>\n",
       "      <td>12</td>\n",
       "      <td>23</td>\n",
       "      <td>5</td>\n",
       "      <td>1.0</td>\n",
       "      <td>0.430484</td>\n",
       "      <td>0.569516</td>\n",
       "    </tr>\n",
       "    <tr>\n",
       "      <th>1</th>\n",
       "      <td>102</td>\n",
       "      <td>36</td>\n",
       "      <td>84</td>\n",
       "      <td>0.429</td>\n",
       "      <td>7</td>\n",
       "      <td>36</td>\n",
       "      <td>0.194</td>\n",
       "      <td>23</td>\n",
       "      <td>25</td>\n",
       "      <td>0.920</td>\n",
       "      <td>...</td>\n",
       "      <td>34</td>\n",
       "      <td>18</td>\n",
       "      <td>13</td>\n",
       "      <td>4</td>\n",
       "      <td>5</td>\n",
       "      <td>19</td>\n",
       "      <td>-8</td>\n",
       "      <td>0.0</td>\n",
       "      <td>0.633079</td>\n",
       "      <td>0.366921</td>\n",
       "    </tr>\n",
       "    <tr>\n",
       "      <th>2</th>\n",
       "      <td>106</td>\n",
       "      <td>36</td>\n",
       "      <td>80</td>\n",
       "      <td>0.450</td>\n",
       "      <td>14</td>\n",
       "      <td>37</td>\n",
       "      <td>0.378</td>\n",
       "      <td>20</td>\n",
       "      <td>24</td>\n",
       "      <td>0.833</td>\n",
       "      <td>...</td>\n",
       "      <td>37</td>\n",
       "      <td>22</td>\n",
       "      <td>11</td>\n",
       "      <td>2</td>\n",
       "      <td>10</td>\n",
       "      <td>12</td>\n",
       "      <td>5</td>\n",
       "      <td>1.0</td>\n",
       "      <td>0.468275</td>\n",
       "      <td>0.531725</td>\n",
       "    </tr>\n",
       "    <tr>\n",
       "      <th>3</th>\n",
       "      <td>103</td>\n",
       "      <td>38</td>\n",
       "      <td>79</td>\n",
       "      <td>0.481</td>\n",
       "      <td>13</td>\n",
       "      <td>37</td>\n",
       "      <td>0.351</td>\n",
       "      <td>14</td>\n",
       "      <td>16</td>\n",
       "      <td>0.875</td>\n",
       "      <td>...</td>\n",
       "      <td>30</td>\n",
       "      <td>24</td>\n",
       "      <td>10</td>\n",
       "      <td>5</td>\n",
       "      <td>13</td>\n",
       "      <td>18</td>\n",
       "      <td>-15</td>\n",
       "      <td>0.0</td>\n",
       "      <td>0.612759</td>\n",
       "      <td>0.387241</td>\n",
       "    </tr>\n",
       "    <tr>\n",
       "      <th>4</th>\n",
       "      <td>107</td>\n",
       "      <td>39</td>\n",
       "      <td>83</td>\n",
       "      <td>0.470</td>\n",
       "      <td>13</td>\n",
       "      <td>31</td>\n",
       "      <td>0.419</td>\n",
       "      <td>16</td>\n",
       "      <td>20</td>\n",
       "      <td>0.800</td>\n",
       "      <td>...</td>\n",
       "      <td>44</td>\n",
       "      <td>28</td>\n",
       "      <td>8</td>\n",
       "      <td>1</td>\n",
       "      <td>7</td>\n",
       "      <td>20</td>\n",
       "      <td>20</td>\n",
       "      <td>1.0</td>\n",
       "      <td>0.383854</td>\n",
       "      <td>0.616146</td>\n",
       "    </tr>\n",
       "    <tr>\n",
       "      <th>5</th>\n",
       "      <td>113</td>\n",
       "      <td>45</td>\n",
       "      <td>93</td>\n",
       "      <td>0.484</td>\n",
       "      <td>19</td>\n",
       "      <td>48</td>\n",
       "      <td>0.396</td>\n",
       "      <td>4</td>\n",
       "      <td>7</td>\n",
       "      <td>0.571</td>\n",
       "      <td>...</td>\n",
       "      <td>52</td>\n",
       "      <td>31</td>\n",
       "      <td>7</td>\n",
       "      <td>5</td>\n",
       "      <td>13</td>\n",
       "      <td>19</td>\n",
       "      <td>22</td>\n",
       "      <td>1.0</td>\n",
       "      <td>0.354791</td>\n",
       "      <td>0.645209</td>\n",
       "    </tr>\n",
       "    <tr>\n",
       "      <th>6</th>\n",
       "      <td>109</td>\n",
       "      <td>38</td>\n",
       "      <td>87</td>\n",
       "      <td>0.437</td>\n",
       "      <td>16</td>\n",
       "      <td>39</td>\n",
       "      <td>0.410</td>\n",
       "      <td>17</td>\n",
       "      <td>21</td>\n",
       "      <td>0.810</td>\n",
       "      <td>...</td>\n",
       "      <td>53</td>\n",
       "      <td>28</td>\n",
       "      <td>9</td>\n",
       "      <td>1</td>\n",
       "      <td>16</td>\n",
       "      <td>13</td>\n",
       "      <td>2</td>\n",
       "      <td>1.0</td>\n",
       "      <td>0.402567</td>\n",
       "      <td>0.597433</td>\n",
       "    </tr>\n",
       "    <tr>\n",
       "      <th>7</th>\n",
       "      <td>111</td>\n",
       "      <td>39</td>\n",
       "      <td>80</td>\n",
       "      <td>0.488</td>\n",
       "      <td>14</td>\n",
       "      <td>34</td>\n",
       "      <td>0.412</td>\n",
       "      <td>19</td>\n",
       "      <td>26</td>\n",
       "      <td>0.731</td>\n",
       "      <td>...</td>\n",
       "      <td>33</td>\n",
       "      <td>33</td>\n",
       "      <td>11</td>\n",
       "      <td>5</td>\n",
       "      <td>14</td>\n",
       "      <td>28</td>\n",
       "      <td>-8</td>\n",
       "      <td>0.0</td>\n",
       "      <td>0.505641</td>\n",
       "      <td>0.494359</td>\n",
       "    </tr>\n",
       "    <tr>\n",
       "      <th>8</th>\n",
       "      <td>106</td>\n",
       "      <td>39</td>\n",
       "      <td>79</td>\n",
       "      <td>0.494</td>\n",
       "      <td>13</td>\n",
       "      <td>32</td>\n",
       "      <td>0.406</td>\n",
       "      <td>15</td>\n",
       "      <td>18</td>\n",
       "      <td>0.833</td>\n",
       "      <td>...</td>\n",
       "      <td>30</td>\n",
       "      <td>29</td>\n",
       "      <td>7</td>\n",
       "      <td>8</td>\n",
       "      <td>8</td>\n",
       "      <td>13</td>\n",
       "      <td>-17</td>\n",
       "      <td>0.0</td>\n",
       "      <td>0.581913</td>\n",
       "      <td>0.418087</td>\n",
       "    </tr>\n",
       "    <tr>\n",
       "      <th>9</th>\n",
       "      <td>86</td>\n",
       "      <td>31</td>\n",
       "      <td>82</td>\n",
       "      <td>0.378</td>\n",
       "      <td>9</td>\n",
       "      <td>44</td>\n",
       "      <td>0.205</td>\n",
       "      <td>15</td>\n",
       "      <td>19</td>\n",
       "      <td>0.789</td>\n",
       "      <td>...</td>\n",
       "      <td>36</td>\n",
       "      <td>24</td>\n",
       "      <td>13</td>\n",
       "      <td>2</td>\n",
       "      <td>16</td>\n",
       "      <td>20</td>\n",
       "      <td>-20</td>\n",
       "      <td>0.0</td>\n",
       "      <td>0.704066</td>\n",
       "      <td>0.295934</td>\n",
       "    </tr>\n",
       "    <tr>\n",
       "      <th>10</th>\n",
       "      <td>107</td>\n",
       "      <td>41</td>\n",
       "      <td>83</td>\n",
       "      <td>0.494</td>\n",
       "      <td>12</td>\n",
       "      <td>29</td>\n",
       "      <td>0.414</td>\n",
       "      <td>13</td>\n",
       "      <td>20</td>\n",
       "      <td>0.650</td>\n",
       "      <td>...</td>\n",
       "      <td>30</td>\n",
       "      <td>21</td>\n",
       "      <td>12</td>\n",
       "      <td>4</td>\n",
       "      <td>7</td>\n",
       "      <td>18</td>\n",
       "      <td>9</td>\n",
       "      <td>0.0</td>\n",
       "      <td>0.503605</td>\n",
       "      <td>0.496395</td>\n",
       "    </tr>\n",
       "    <tr>\n",
       "      <th>11</th>\n",
       "      <td>110</td>\n",
       "      <td>34</td>\n",
       "      <td>71</td>\n",
       "      <td>0.479</td>\n",
       "      <td>10</td>\n",
       "      <td>25</td>\n",
       "      <td>0.400</td>\n",
       "      <td>32</td>\n",
       "      <td>40</td>\n",
       "      <td>0.800</td>\n",
       "      <td>...</td>\n",
       "      <td>38</td>\n",
       "      <td>22</td>\n",
       "      <td>12</td>\n",
       "      <td>8</td>\n",
       "      <td>20</td>\n",
       "      <td>25</td>\n",
       "      <td>6</td>\n",
       "      <td>1.0</td>\n",
       "      <td>0.421416</td>\n",
       "      <td>0.578584</td>\n",
       "    </tr>\n",
       "    <tr>\n",
       "      <th>12</th>\n",
       "      <td>112</td>\n",
       "      <td>44</td>\n",
       "      <td>82</td>\n",
       "      <td>0.537</td>\n",
       "      <td>13</td>\n",
       "      <td>33</td>\n",
       "      <td>0.394</td>\n",
       "      <td>11</td>\n",
       "      <td>18</td>\n",
       "      <td>0.611</td>\n",
       "      <td>...</td>\n",
       "      <td>35</td>\n",
       "      <td>34</td>\n",
       "      <td>9</td>\n",
       "      <td>4</td>\n",
       "      <td>12</td>\n",
       "      <td>16</td>\n",
       "      <td>-12</td>\n",
       "      <td>0.0</td>\n",
       "      <td>0.515889</td>\n",
       "      <td>0.484111</td>\n",
       "    </tr>\n",
       "    <tr>\n",
       "      <th>13</th>\n",
       "      <td>115</td>\n",
       "      <td>44</td>\n",
       "      <td>82</td>\n",
       "      <td>0.537</td>\n",
       "      <td>15</td>\n",
       "      <td>38</td>\n",
       "      <td>0.395</td>\n",
       "      <td>12</td>\n",
       "      <td>16</td>\n",
       "      <td>0.750</td>\n",
       "      <td>...</td>\n",
       "      <td>37</td>\n",
       "      <td>35</td>\n",
       "      <td>6</td>\n",
       "      <td>3</td>\n",
       "      <td>11</td>\n",
       "      <td>20</td>\n",
       "      <td>14</td>\n",
       "      <td>1.0</td>\n",
       "      <td>0.400449</td>\n",
       "      <td>0.599551</td>\n",
       "    </tr>\n",
       "    <tr>\n",
       "      <th>14</th>\n",
       "      <td>116</td>\n",
       "      <td>39</td>\n",
       "      <td>82</td>\n",
       "      <td>0.476</td>\n",
       "      <td>13</td>\n",
       "      <td>39</td>\n",
       "      <td>0.333</td>\n",
       "      <td>25</td>\n",
       "      <td>30</td>\n",
       "      <td>0.833</td>\n",
       "      <td>...</td>\n",
       "      <td>37</td>\n",
       "      <td>30</td>\n",
       "      <td>10</td>\n",
       "      <td>6</td>\n",
       "      <td>11</td>\n",
       "      <td>22</td>\n",
       "      <td>7</td>\n",
       "      <td>1.0</td>\n",
       "      <td>0.434371</td>\n",
       "      <td>0.565629</td>\n",
       "    </tr>\n",
       "    <tr>\n",
       "      <th>15</th>\n",
       "      <td>92</td>\n",
       "      <td>32</td>\n",
       "      <td>78</td>\n",
       "      <td>0.410</td>\n",
       "      <td>10</td>\n",
       "      <td>32</td>\n",
       "      <td>0.313</td>\n",
       "      <td>18</td>\n",
       "      <td>28</td>\n",
       "      <td>0.643</td>\n",
       "      <td>...</td>\n",
       "      <td>42</td>\n",
       "      <td>22</td>\n",
       "      <td>5</td>\n",
       "      <td>4</td>\n",
       "      <td>11</td>\n",
       "      <td>14</td>\n",
       "      <td>5</td>\n",
       "      <td>0.0</td>\n",
       "      <td>0.527889</td>\n",
       "      <td>0.472111</td>\n",
       "    </tr>\n",
       "    <tr>\n",
       "      <th>16</th>\n",
       "      <td>98</td>\n",
       "      <td>37</td>\n",
       "      <td>86</td>\n",
       "      <td>0.430</td>\n",
       "      <td>10</td>\n",
       "      <td>34</td>\n",
       "      <td>0.294</td>\n",
       "      <td>14</td>\n",
       "      <td>17</td>\n",
       "      <td>0.824</td>\n",
       "      <td>...</td>\n",
       "      <td>47</td>\n",
       "      <td>22</td>\n",
       "      <td>7</td>\n",
       "      <td>5</td>\n",
       "      <td>12</td>\n",
       "      <td>18</td>\n",
       "      <td>10</td>\n",
       "      <td>0.0</td>\n",
       "      <td>0.510998</td>\n",
       "      <td>0.489002</td>\n",
       "    </tr>\n",
       "    <tr>\n",
       "      <th>17</th>\n",
       "      <td>105</td>\n",
       "      <td>40</td>\n",
       "      <td>87</td>\n",
       "      <td>0.460</td>\n",
       "      <td>15</td>\n",
       "      <td>43</td>\n",
       "      <td>0.349</td>\n",
       "      <td>10</td>\n",
       "      <td>20</td>\n",
       "      <td>0.500</td>\n",
       "      <td>...</td>\n",
       "      <td>39</td>\n",
       "      <td>28</td>\n",
       "      <td>9</td>\n",
       "      <td>3</td>\n",
       "      <td>10</td>\n",
       "      <td>17</td>\n",
       "      <td>-5</td>\n",
       "      <td>0.0</td>\n",
       "      <td>0.530278</td>\n",
       "      <td>0.469722</td>\n",
       "    </tr>\n",
       "    <tr>\n",
       "      <th>18</th>\n",
       "      <td>122</td>\n",
       "      <td>47</td>\n",
       "      <td>84</td>\n",
       "      <td>0.560</td>\n",
       "      <td>16</td>\n",
       "      <td>34</td>\n",
       "      <td>0.471</td>\n",
       "      <td>12</td>\n",
       "      <td>13</td>\n",
       "      <td>0.923</td>\n",
       "      <td>...</td>\n",
       "      <td>39</td>\n",
       "      <td>34</td>\n",
       "      <td>3</td>\n",
       "      <td>7</td>\n",
       "      <td>11</td>\n",
       "      <td>18</td>\n",
       "      <td>-3</td>\n",
       "      <td>1.0</td>\n",
       "      <td>0.426971</td>\n",
       "      <td>0.573029</td>\n",
       "    </tr>\n",
       "    <tr>\n",
       "      <th>19</th>\n",
       "      <td>100</td>\n",
       "      <td>36</td>\n",
       "      <td>86</td>\n",
       "      <td>0.419</td>\n",
       "      <td>13</td>\n",
       "      <td>36</td>\n",
       "      <td>0.361</td>\n",
       "      <td>15</td>\n",
       "      <td>17</td>\n",
       "      <td>0.882</td>\n",
       "      <td>...</td>\n",
       "      <td>50</td>\n",
       "      <td>23</td>\n",
       "      <td>3</td>\n",
       "      <td>4</td>\n",
       "      <td>13</td>\n",
       "      <td>13</td>\n",
       "      <td>-10</td>\n",
       "      <td>0.0</td>\n",
       "      <td>0.544351</td>\n",
       "      <td>0.455649</td>\n",
       "    </tr>\n",
       "  </tbody>\n",
       "</table>\n",
       "<p>20 rows × 22 columns</p>\n",
       "</div>"
      ],
      "text/plain": [
       "    PTS  FGM  FGA  FG_PCT  FG3M  FG3A  FG3_PCT  FTM  FTA  FT_PCT  ...  REB  \\\n",
       "0   116   43   85   0.506     9    25    0.360   21   24   0.875  ...   48   \n",
       "1   102   36   84   0.429     7    36    0.194   23   25   0.920  ...   34   \n",
       "2   106   36   80   0.450    14    37    0.378   20   24   0.833  ...   37   \n",
       "3   103   38   79   0.481    13    37    0.351   14   16   0.875  ...   30   \n",
       "4   107   39   83   0.470    13    31    0.419   16   20   0.800  ...   44   \n",
       "5   113   45   93   0.484    19    48    0.396    4    7   0.571  ...   52   \n",
       "6   109   38   87   0.437    16    39    0.410   17   21   0.810  ...   53   \n",
       "7   111   39   80   0.488    14    34    0.412   19   26   0.731  ...   33   \n",
       "8   106   39   79   0.494    13    32    0.406   15   18   0.833  ...   30   \n",
       "9    86   31   82   0.378     9    44    0.205   15   19   0.789  ...   36   \n",
       "10  107   41   83   0.494    12    29    0.414   13   20   0.650  ...   30   \n",
       "11  110   34   71   0.479    10    25    0.400   32   40   0.800  ...   38   \n",
       "12  112   44   82   0.537    13    33    0.394   11   18   0.611  ...   35   \n",
       "13  115   44   82   0.537    15    38    0.395   12   16   0.750  ...   37   \n",
       "14  116   39   82   0.476    13    39    0.333   25   30   0.833  ...   37   \n",
       "15   92   32   78   0.410    10    32    0.313   18   28   0.643  ...   42   \n",
       "16   98   37   86   0.430    10    34    0.294   14   17   0.824  ...   47   \n",
       "17  105   40   87   0.460    15    43    0.349   10   20   0.500  ...   39   \n",
       "18  122   47   84   0.560    16    34    0.471   12   13   0.923  ...   39   \n",
       "19  100   36   86   0.419    13    36    0.361   15   17   0.882  ...   50   \n",
       "\n",
       "    AST  STL  BLK  TOV  PF  PLUS_MINUS    0         0         1  \n",
       "0    26    4    1   12  23           5  1.0  0.430484  0.569516  \n",
       "1    18   13    4    5  19          -8  0.0  0.633079  0.366921  \n",
       "2    22   11    2   10  12           5  1.0  0.468275  0.531725  \n",
       "3    24   10    5   13  18         -15  0.0  0.612759  0.387241  \n",
       "4    28    8    1    7  20          20  1.0  0.383854  0.616146  \n",
       "5    31    7    5   13  19          22  1.0  0.354791  0.645209  \n",
       "6    28    9    1   16  13           2  1.0  0.402567  0.597433  \n",
       "7    33   11    5   14  28          -8  0.0  0.505641  0.494359  \n",
       "8    29    7    8    8  13         -17  0.0  0.581913  0.418087  \n",
       "9    24   13    2   16  20         -20  0.0  0.704066  0.295934  \n",
       "10   21   12    4    7  18           9  0.0  0.503605  0.496395  \n",
       "11   22   12    8   20  25           6  1.0  0.421416  0.578584  \n",
       "12   34    9    4   12  16         -12  0.0  0.515889  0.484111  \n",
       "13   35    6    3   11  20          14  1.0  0.400449  0.599551  \n",
       "14   30   10    6   11  22           7  1.0  0.434371  0.565629  \n",
       "15   22    5    4   11  14           5  0.0  0.527889  0.472111  \n",
       "16   22    7    5   12  18          10  0.0  0.510998  0.489002  \n",
       "17   28    9    3   10  17          -5  0.0  0.530278  0.469722  \n",
       "18   34    3    7   11  18          -3  1.0  0.426971  0.573029  \n",
       "19   23    3    4   13  13         -10  0.0  0.544351  0.455649  \n",
       "\n",
       "[20 rows x 22 columns]"
      ]
     },
     "execution_count": 101,
     "metadata": {},
     "output_type": "execute_result"
    }
   ],
   "source": [
    "## Final Result\n",
    "Resultado=pd.concat([prueba,Prediccion,Probabilidad], axis=1)\n",
    "Resultado"
   ]
  },
  {
   "cell_type": "markdown",
   "metadata": {},
   "source": [
    "We see that the model made the right prediction in 16 out of 20 cases so the accuracy will be :16/20= 80%"
   ]
  },
  {
   "cell_type": "markdown",
   "metadata": {},
   "source": [
    "Another way to calculate the accuracy without doing the excercise we did is to make a cross validation accuracy method."
   ]
  },
  {
   "cell_type": "code",
   "execution_count": 102,
   "metadata": {},
   "outputs": [
    {
     "name": "stderr",
     "output_type": "stream",
     "text": [
      "C:\\Users\\Gabo\\anaconda3\\lib\\site-packages\\sklearn\\utils\\validation.py:72: DataConversionWarning: A column-vector y was passed when a 1d array was expected. Please change the shape of y to (n_samples, ), for example using ravel().\n",
      "  return f(**kwargs)\n",
      "C:\\Users\\Gabo\\anaconda3\\lib\\site-packages\\sklearn\\utils\\validation.py:72: DataConversionWarning: A column-vector y was passed when a 1d array was expected. Please change the shape of y to (n_samples, ), for example using ravel().\n",
      "  return f(**kwargs)\n",
      "C:\\Users\\Gabo\\anaconda3\\lib\\site-packages\\sklearn\\utils\\validation.py:72: DataConversionWarning: A column-vector y was passed when a 1d array was expected. Please change the shape of y to (n_samples, ), for example using ravel().\n",
      "  return f(**kwargs)\n",
      "C:\\Users\\Gabo\\anaconda3\\lib\\site-packages\\sklearn\\utils\\validation.py:72: DataConversionWarning: A column-vector y was passed when a 1d array was expected. Please change the shape of y to (n_samples, ), for example using ravel().\n",
      "  return f(**kwargs)\n",
      "C:\\Users\\Gabo\\anaconda3\\lib\\site-packages\\sklearn\\utils\\validation.py:72: DataConversionWarning: A column-vector y was passed when a 1d array was expected. Please change the shape of y to (n_samples, ), for example using ravel().\n",
      "  return f(**kwargs)\n"
     ]
    }
   ],
   "source": [
    "##Rcross=cross_val_score(LR,X,Y,cv=4)\n",
    "Rcross=cross_val_score(LR,X,Y,cv=5)"
   ]
  },
  {
   "cell_type": "code",
   "execution_count": 103,
   "metadata": {},
   "outputs": [
    {
     "data": {
      "text/plain": [
       "array([0.85714286, 0.71428571, 0.85714286, 0.84615385, 0.84615385])"
      ]
     },
     "execution_count": 103,
     "metadata": {},
     "output_type": "execute_result"
    }
   ],
   "source": [
    "Rcross"
   ]
  },
  {
   "cell_type": "code",
   "execution_count": 107,
   "metadata": {},
   "outputs": [
    {
     "data": {
      "text/plain": [
       "0.82"
      ]
     },
     "execution_count": 107,
     "metadata": {},
     "output_type": "execute_result"
    }
   ],
   "source": [
    "Rcross.mean().round(2)"
   ]
  },
  {
   "cell_type": "markdown",
   "metadata": {},
   "source": [
    "### Now that we have perform a cross validation technique, we can conclude that the accuracy of the classification model is around 82%."
   ]
  },
  {
   "cell_type": "markdown",
   "metadata": {},
   "source": [
    "## We will perform a Logistic Regression Model but this time, we will not use the \"Plus Minus\" variable. This is because it doesnt make sence to predict the probability of winning or losing by using the plus minus points. We want to know probability of winning by using points, rebounds, assists, etc, but not the PLUS_MINUS variable."
   ]
  },
  {
   "cell_type": "markdown",
   "metadata": {},
   "source": [
    "First we need a proper dataset which is droping the plus minus variable"
   ]
  },
  {
   "cell_type": "code",
   "execution_count": 108,
   "metadata": {},
   "outputs": [
    {
     "data": {
      "text/html": [
       "<div>\n",
       "<style scoped>\n",
       "    .dataframe tbody tr th:only-of-type {\n",
       "        vertical-align: middle;\n",
       "    }\n",
       "\n",
       "    .dataframe tbody tr th {\n",
       "        vertical-align: top;\n",
       "    }\n",
       "\n",
       "    .dataframe thead th {\n",
       "        text-align: right;\n",
       "    }\n",
       "</style>\n",
       "<table border=\"1\" class=\"dataframe\">\n",
       "  <thead>\n",
       "    <tr style=\"text-align: right;\">\n",
       "      <th></th>\n",
       "      <th>PTS</th>\n",
       "      <th>FGM</th>\n",
       "      <th>FGA</th>\n",
       "      <th>FG_PCT</th>\n",
       "      <th>FG3M</th>\n",
       "      <th>FG3A</th>\n",
       "      <th>FG3_PCT</th>\n",
       "      <th>FTM</th>\n",
       "      <th>FTA</th>\n",
       "      <th>FT_PCT</th>\n",
       "      <th>OREB</th>\n",
       "      <th>DREB</th>\n",
       "      <th>REB</th>\n",
       "      <th>AST</th>\n",
       "      <th>STL</th>\n",
       "      <th>BLK</th>\n",
       "      <th>TOV</th>\n",
       "      <th>PF</th>\n",
       "      <th>PLUS_MINUS</th>\n",
       "      <th>Win</th>\n",
       "    </tr>\n",
       "  </thead>\n",
       "  <tbody>\n",
       "    <tr>\n",
       "      <th>0</th>\n",
       "      <td>130</td>\n",
       "      <td>47</td>\n",
       "      <td>82</td>\n",
       "      <td>0.573</td>\n",
       "      <td>16</td>\n",
       "      <td>35</td>\n",
       "      <td>0.457</td>\n",
       "      <td>20</td>\n",
       "      <td>22</td>\n",
       "      <td>0.909</td>\n",
       "      <td>3</td>\n",
       "      <td>32</td>\n",
       "      <td>35</td>\n",
       "      <td>30</td>\n",
       "      <td>8</td>\n",
       "      <td>2</td>\n",
       "      <td>11</td>\n",
       "      <td>20</td>\n",
       "      <td>6.0</td>\n",
       "      <td>1.0</td>\n",
       "    </tr>\n",
       "    <tr>\n",
       "      <th>1</th>\n",
       "      <td>121</td>\n",
       "      <td>44</td>\n",
       "      <td>87</td>\n",
       "      <td>0.506</td>\n",
       "      <td>13</td>\n",
       "      <td>32</td>\n",
       "      <td>0.406</td>\n",
       "      <td>20</td>\n",
       "      <td>27</td>\n",
       "      <td>0.741</td>\n",
       "      <td>8</td>\n",
       "      <td>29</td>\n",
       "      <td>37</td>\n",
       "      <td>27</td>\n",
       "      <td>9</td>\n",
       "      <td>2</td>\n",
       "      <td>14</td>\n",
       "      <td>22</td>\n",
       "      <td>9.0</td>\n",
       "      <td>1.0</td>\n",
       "    </tr>\n",
       "    <tr>\n",
       "      <th>2</th>\n",
       "      <td>113</td>\n",
       "      <td>39</td>\n",
       "      <td>84</td>\n",
       "      <td>0.464</td>\n",
       "      <td>18</td>\n",
       "      <td>41</td>\n",
       "      <td>0.439</td>\n",
       "      <td>17</td>\n",
       "      <td>21</td>\n",
       "      <td>0.810</td>\n",
       "      <td>8</td>\n",
       "      <td>31</td>\n",
       "      <td>39</td>\n",
       "      <td>30</td>\n",
       "      <td>9</td>\n",
       "      <td>2</td>\n",
       "      <td>12</td>\n",
       "      <td>17</td>\n",
       "      <td>-14.0</td>\n",
       "      <td>0.0</td>\n",
       "    </tr>\n",
       "    <tr>\n",
       "      <th>3</th>\n",
       "      <td>121</td>\n",
       "      <td>45</td>\n",
       "      <td>88</td>\n",
       "      <td>0.511</td>\n",
       "      <td>11</td>\n",
       "      <td>38</td>\n",
       "      <td>0.289</td>\n",
       "      <td>20</td>\n",
       "      <td>27</td>\n",
       "      <td>0.741</td>\n",
       "      <td>11</td>\n",
       "      <td>31</td>\n",
       "      <td>42</td>\n",
       "      <td>30</td>\n",
       "      <td>10</td>\n",
       "      <td>6</td>\n",
       "      <td>11</td>\n",
       "      <td>22</td>\n",
       "      <td>10.0</td>\n",
       "      <td>1.0</td>\n",
       "    </tr>\n",
       "    <tr>\n",
       "      <th>4</th>\n",
       "      <td>124</td>\n",
       "      <td>47</td>\n",
       "      <td>87</td>\n",
       "      <td>0.540</td>\n",
       "      <td>18</td>\n",
       "      <td>36</td>\n",
       "      <td>0.500</td>\n",
       "      <td>12</td>\n",
       "      <td>15</td>\n",
       "      <td>0.800</td>\n",
       "      <td>10</td>\n",
       "      <td>27</td>\n",
       "      <td>37</td>\n",
       "      <td>30</td>\n",
       "      <td>12</td>\n",
       "      <td>1</td>\n",
       "      <td>8</td>\n",
       "      <td>16</td>\n",
       "      <td>17.0</td>\n",
       "      <td>1.0</td>\n",
       "    </tr>\n",
       "    <tr>\n",
       "      <th>...</th>\n",
       "      <td>...</td>\n",
       "      <td>...</td>\n",
       "      <td>...</td>\n",
       "      <td>...</td>\n",
       "      <td>...</td>\n",
       "      <td>...</td>\n",
       "      <td>...</td>\n",
       "      <td>...</td>\n",
       "      <td>...</td>\n",
       "      <td>...</td>\n",
       "      <td>...</td>\n",
       "      <td>...</td>\n",
       "      <td>...</td>\n",
       "      <td>...</td>\n",
       "      <td>...</td>\n",
       "      <td>...</td>\n",
       "      <td>...</td>\n",
       "      <td>...</td>\n",
       "      <td>...</td>\n",
       "      <td>...</td>\n",
       "    </tr>\n",
       "    <tr>\n",
       "      <th>63</th>\n",
       "      <td>83</td>\n",
       "      <td>29</td>\n",
       "      <td>78</td>\n",
       "      <td>0.372</td>\n",
       "      <td>7</td>\n",
       "      <td>33</td>\n",
       "      <td>0.212</td>\n",
       "      <td>18</td>\n",
       "      <td>25</td>\n",
       "      <td>0.720</td>\n",
       "      <td>5</td>\n",
       "      <td>36</td>\n",
       "      <td>41</td>\n",
       "      <td>20</td>\n",
       "      <td>10</td>\n",
       "      <td>2</td>\n",
       "      <td>14</td>\n",
       "      <td>24</td>\n",
       "      <td>-10.0</td>\n",
       "      <td>0.0</td>\n",
       "    </tr>\n",
       "    <tr>\n",
       "      <th>64</th>\n",
       "      <td>119</td>\n",
       "      <td>40</td>\n",
       "      <td>82</td>\n",
       "      <td>0.488</td>\n",
       "      <td>15</td>\n",
       "      <td>39</td>\n",
       "      <td>0.385</td>\n",
       "      <td>24</td>\n",
       "      <td>29</td>\n",
       "      <td>0.828</td>\n",
       "      <td>10</td>\n",
       "      <td>42</td>\n",
       "      <td>52</td>\n",
       "      <td>25</td>\n",
       "      <td>5</td>\n",
       "      <td>5</td>\n",
       "      <td>22</td>\n",
       "      <td>18</td>\n",
       "      <td>11.0</td>\n",
       "      <td>1.0</td>\n",
       "    </tr>\n",
       "    <tr>\n",
       "      <th>65</th>\n",
       "      <td>97</td>\n",
       "      <td>37</td>\n",
       "      <td>79</td>\n",
       "      <td>0.468</td>\n",
       "      <td>11</td>\n",
       "      <td>37</td>\n",
       "      <td>0.297</td>\n",
       "      <td>12</td>\n",
       "      <td>18</td>\n",
       "      <td>0.667</td>\n",
       "      <td>3</td>\n",
       "      <td>27</td>\n",
       "      <td>30</td>\n",
       "      <td>23</td>\n",
       "      <td>9</td>\n",
       "      <td>6</td>\n",
       "      <td>21</td>\n",
       "      <td>18</td>\n",
       "      <td>-47.0</td>\n",
       "      <td>0.0</td>\n",
       "    </tr>\n",
       "    <tr>\n",
       "      <th>66</th>\n",
       "      <td>111</td>\n",
       "      <td>38</td>\n",
       "      <td>75</td>\n",
       "      <td>0.507</td>\n",
       "      <td>16</td>\n",
       "      <td>37</td>\n",
       "      <td>0.432</td>\n",
       "      <td>19</td>\n",
       "      <td>23</td>\n",
       "      <td>0.826</td>\n",
       "      <td>4</td>\n",
       "      <td>31</td>\n",
       "      <td>35</td>\n",
       "      <td>29</td>\n",
       "      <td>11</td>\n",
       "      <td>2</td>\n",
       "      <td>17</td>\n",
       "      <td>25</td>\n",
       "      <td>13.0</td>\n",
       "      <td>1.0</td>\n",
       "    </tr>\n",
       "    <tr>\n",
       "      <th>67</th>\n",
       "      <td>107</td>\n",
       "      <td>42</td>\n",
       "      <td>83</td>\n",
       "      <td>0.506</td>\n",
       "      <td>7</td>\n",
       "      <td>20</td>\n",
       "      <td>0.350</td>\n",
       "      <td>16</td>\n",
       "      <td>19</td>\n",
       "      <td>0.842</td>\n",
       "      <td>7</td>\n",
       "      <td>36</td>\n",
       "      <td>43</td>\n",
       "      <td>25</td>\n",
       "      <td>11</td>\n",
       "      <td>2</td>\n",
       "      <td>22</td>\n",
       "      <td>21</td>\n",
       "      <td>-6.0</td>\n",
       "      <td>0.0</td>\n",
       "    </tr>\n",
       "  </tbody>\n",
       "</table>\n",
       "<p>68 rows × 20 columns</p>\n",
       "</div>"
      ],
      "text/plain": [
       "    PTS  FGM  FGA  FG_PCT  FG3M  FG3A  FG3_PCT  FTM  FTA  FT_PCT  OREB  DREB  \\\n",
       "0   130   47   82   0.573    16    35    0.457   20   22   0.909     3    32   \n",
       "1   121   44   87   0.506    13    32    0.406   20   27   0.741     8    29   \n",
       "2   113   39   84   0.464    18    41    0.439   17   21   0.810     8    31   \n",
       "3   121   45   88   0.511    11    38    0.289   20   27   0.741    11    31   \n",
       "4   124   47   87   0.540    18    36    0.500   12   15   0.800    10    27   \n",
       "..  ...  ...  ...     ...   ...   ...      ...  ...  ...     ...   ...   ...   \n",
       "63   83   29   78   0.372     7    33    0.212   18   25   0.720     5    36   \n",
       "64  119   40   82   0.488    15    39    0.385   24   29   0.828    10    42   \n",
       "65   97   37   79   0.468    11    37    0.297   12   18   0.667     3    27   \n",
       "66  111   38   75   0.507    16    37    0.432   19   23   0.826     4    31   \n",
       "67  107   42   83   0.506     7    20    0.350   16   19   0.842     7    36   \n",
       "\n",
       "    REB  AST  STL  BLK  TOV  PF  PLUS_MINUS  Win  \n",
       "0    35   30    8    2   11  20         6.0  1.0  \n",
       "1    37   27    9    2   14  22         9.0  1.0  \n",
       "2    39   30    9    2   12  17       -14.0  0.0  \n",
       "3    42   30   10    6   11  22        10.0  1.0  \n",
       "4    37   30   12    1    8  16        17.0  1.0  \n",
       "..  ...  ...  ...  ...  ...  ..         ...  ...  \n",
       "63   41   20   10    2   14  24       -10.0  0.0  \n",
       "64   52   25    5    5   22  18        11.0  1.0  \n",
       "65   30   23    9    6   21  18       -47.0  0.0  \n",
       "66   35   29   11    2   17  25        13.0  1.0  \n",
       "67   43   25   11    2   22  21        -6.0  0.0  \n",
       "\n",
       "[68 rows x 20 columns]"
      ]
     },
     "execution_count": 108,
     "metadata": {},
     "output_type": "execute_result"
    }
   ],
   "source": [
    "## Heres is my normal dataset\n",
    "MH_games_2020"
   ]
  },
  {
   "cell_type": "code",
   "execution_count": 109,
   "metadata": {},
   "outputs": [
    {
     "name": "stderr",
     "output_type": "stream",
     "text": [
      "C:\\Users\\Gabo\\anaconda3\\lib\\site-packages\\pandas\\core\\frame.py:4163: SettingWithCopyWarning: \n",
      "A value is trying to be set on a copy of a slice from a DataFrame\n",
      "\n",
      "See the caveats in the documentation: https://pandas.pydata.org/pandas-docs/stable/user_guide/indexing.html#returning-a-view-versus-a-copy\n",
      "  return super().drop(\n"
     ]
    }
   ],
   "source": [
    "## Drop PLus Minus\n",
    "MH_games_2020.drop(['PLUS_MINUS'],axis=1,inplace=True)"
   ]
  },
  {
   "cell_type": "code",
   "execution_count": 110,
   "metadata": {},
   "outputs": [
    {
     "data": {
      "text/html": [
       "<div>\n",
       "<style scoped>\n",
       "    .dataframe tbody tr th:only-of-type {\n",
       "        vertical-align: middle;\n",
       "    }\n",
       "\n",
       "    .dataframe tbody tr th {\n",
       "        vertical-align: top;\n",
       "    }\n",
       "\n",
       "    .dataframe thead th {\n",
       "        text-align: right;\n",
       "    }\n",
       "</style>\n",
       "<table border=\"1\" class=\"dataframe\">\n",
       "  <thead>\n",
       "    <tr style=\"text-align: right;\">\n",
       "      <th></th>\n",
       "      <th>PTS</th>\n",
       "      <th>FGM</th>\n",
       "      <th>FGA</th>\n",
       "      <th>FG_PCT</th>\n",
       "      <th>FG3M</th>\n",
       "      <th>FG3A</th>\n",
       "      <th>FG3_PCT</th>\n",
       "      <th>FTM</th>\n",
       "      <th>FTA</th>\n",
       "      <th>FT_PCT</th>\n",
       "      <th>OREB</th>\n",
       "      <th>DREB</th>\n",
       "      <th>REB</th>\n",
       "      <th>AST</th>\n",
       "      <th>STL</th>\n",
       "      <th>BLK</th>\n",
       "      <th>TOV</th>\n",
       "      <th>PF</th>\n",
       "      <th>Win</th>\n",
       "    </tr>\n",
       "  </thead>\n",
       "  <tbody>\n",
       "    <tr>\n",
       "      <th>0</th>\n",
       "      <td>130</td>\n",
       "      <td>47</td>\n",
       "      <td>82</td>\n",
       "      <td>0.573</td>\n",
       "      <td>16</td>\n",
       "      <td>35</td>\n",
       "      <td>0.457</td>\n",
       "      <td>20</td>\n",
       "      <td>22</td>\n",
       "      <td>0.909</td>\n",
       "      <td>3</td>\n",
       "      <td>32</td>\n",
       "      <td>35</td>\n",
       "      <td>30</td>\n",
       "      <td>8</td>\n",
       "      <td>2</td>\n",
       "      <td>11</td>\n",
       "      <td>20</td>\n",
       "      <td>1.0</td>\n",
       "    </tr>\n",
       "    <tr>\n",
       "      <th>1</th>\n",
       "      <td>121</td>\n",
       "      <td>44</td>\n",
       "      <td>87</td>\n",
       "      <td>0.506</td>\n",
       "      <td>13</td>\n",
       "      <td>32</td>\n",
       "      <td>0.406</td>\n",
       "      <td>20</td>\n",
       "      <td>27</td>\n",
       "      <td>0.741</td>\n",
       "      <td>8</td>\n",
       "      <td>29</td>\n",
       "      <td>37</td>\n",
       "      <td>27</td>\n",
       "      <td>9</td>\n",
       "      <td>2</td>\n",
       "      <td>14</td>\n",
       "      <td>22</td>\n",
       "      <td>1.0</td>\n",
       "    </tr>\n",
       "    <tr>\n",
       "      <th>2</th>\n",
       "      <td>113</td>\n",
       "      <td>39</td>\n",
       "      <td>84</td>\n",
       "      <td>0.464</td>\n",
       "      <td>18</td>\n",
       "      <td>41</td>\n",
       "      <td>0.439</td>\n",
       "      <td>17</td>\n",
       "      <td>21</td>\n",
       "      <td>0.810</td>\n",
       "      <td>8</td>\n",
       "      <td>31</td>\n",
       "      <td>39</td>\n",
       "      <td>30</td>\n",
       "      <td>9</td>\n",
       "      <td>2</td>\n",
       "      <td>12</td>\n",
       "      <td>17</td>\n",
       "      <td>0.0</td>\n",
       "    </tr>\n",
       "    <tr>\n",
       "      <th>3</th>\n",
       "      <td>121</td>\n",
       "      <td>45</td>\n",
       "      <td>88</td>\n",
       "      <td>0.511</td>\n",
       "      <td>11</td>\n",
       "      <td>38</td>\n",
       "      <td>0.289</td>\n",
       "      <td>20</td>\n",
       "      <td>27</td>\n",
       "      <td>0.741</td>\n",
       "      <td>11</td>\n",
       "      <td>31</td>\n",
       "      <td>42</td>\n",
       "      <td>30</td>\n",
       "      <td>10</td>\n",
       "      <td>6</td>\n",
       "      <td>11</td>\n",
       "      <td>22</td>\n",
       "      <td>1.0</td>\n",
       "    </tr>\n",
       "    <tr>\n",
       "      <th>4</th>\n",
       "      <td>124</td>\n",
       "      <td>47</td>\n",
       "      <td>87</td>\n",
       "      <td>0.540</td>\n",
       "      <td>18</td>\n",
       "      <td>36</td>\n",
       "      <td>0.500</td>\n",
       "      <td>12</td>\n",
       "      <td>15</td>\n",
       "      <td>0.800</td>\n",
       "      <td>10</td>\n",
       "      <td>27</td>\n",
       "      <td>37</td>\n",
       "      <td>30</td>\n",
       "      <td>12</td>\n",
       "      <td>1</td>\n",
       "      <td>8</td>\n",
       "      <td>16</td>\n",
       "      <td>1.0</td>\n",
       "    </tr>\n",
       "    <tr>\n",
       "      <th>...</th>\n",
       "      <td>...</td>\n",
       "      <td>...</td>\n",
       "      <td>...</td>\n",
       "      <td>...</td>\n",
       "      <td>...</td>\n",
       "      <td>...</td>\n",
       "      <td>...</td>\n",
       "      <td>...</td>\n",
       "      <td>...</td>\n",
       "      <td>...</td>\n",
       "      <td>...</td>\n",
       "      <td>...</td>\n",
       "      <td>...</td>\n",
       "      <td>...</td>\n",
       "      <td>...</td>\n",
       "      <td>...</td>\n",
       "      <td>...</td>\n",
       "      <td>...</td>\n",
       "      <td>...</td>\n",
       "    </tr>\n",
       "    <tr>\n",
       "      <th>63</th>\n",
       "      <td>83</td>\n",
       "      <td>29</td>\n",
       "      <td>78</td>\n",
       "      <td>0.372</td>\n",
       "      <td>7</td>\n",
       "      <td>33</td>\n",
       "      <td>0.212</td>\n",
       "      <td>18</td>\n",
       "      <td>25</td>\n",
       "      <td>0.720</td>\n",
       "      <td>5</td>\n",
       "      <td>36</td>\n",
       "      <td>41</td>\n",
       "      <td>20</td>\n",
       "      <td>10</td>\n",
       "      <td>2</td>\n",
       "      <td>14</td>\n",
       "      <td>24</td>\n",
       "      <td>0.0</td>\n",
       "    </tr>\n",
       "    <tr>\n",
       "      <th>64</th>\n",
       "      <td>119</td>\n",
       "      <td>40</td>\n",
       "      <td>82</td>\n",
       "      <td>0.488</td>\n",
       "      <td>15</td>\n",
       "      <td>39</td>\n",
       "      <td>0.385</td>\n",
       "      <td>24</td>\n",
       "      <td>29</td>\n",
       "      <td>0.828</td>\n",
       "      <td>10</td>\n",
       "      <td>42</td>\n",
       "      <td>52</td>\n",
       "      <td>25</td>\n",
       "      <td>5</td>\n",
       "      <td>5</td>\n",
       "      <td>22</td>\n",
       "      <td>18</td>\n",
       "      <td>1.0</td>\n",
       "    </tr>\n",
       "    <tr>\n",
       "      <th>65</th>\n",
       "      <td>97</td>\n",
       "      <td>37</td>\n",
       "      <td>79</td>\n",
       "      <td>0.468</td>\n",
       "      <td>11</td>\n",
       "      <td>37</td>\n",
       "      <td>0.297</td>\n",
       "      <td>12</td>\n",
       "      <td>18</td>\n",
       "      <td>0.667</td>\n",
       "      <td>3</td>\n",
       "      <td>27</td>\n",
       "      <td>30</td>\n",
       "      <td>23</td>\n",
       "      <td>9</td>\n",
       "      <td>6</td>\n",
       "      <td>21</td>\n",
       "      <td>18</td>\n",
       "      <td>0.0</td>\n",
       "    </tr>\n",
       "    <tr>\n",
       "      <th>66</th>\n",
       "      <td>111</td>\n",
       "      <td>38</td>\n",
       "      <td>75</td>\n",
       "      <td>0.507</td>\n",
       "      <td>16</td>\n",
       "      <td>37</td>\n",
       "      <td>0.432</td>\n",
       "      <td>19</td>\n",
       "      <td>23</td>\n",
       "      <td>0.826</td>\n",
       "      <td>4</td>\n",
       "      <td>31</td>\n",
       "      <td>35</td>\n",
       "      <td>29</td>\n",
       "      <td>11</td>\n",
       "      <td>2</td>\n",
       "      <td>17</td>\n",
       "      <td>25</td>\n",
       "      <td>1.0</td>\n",
       "    </tr>\n",
       "    <tr>\n",
       "      <th>67</th>\n",
       "      <td>107</td>\n",
       "      <td>42</td>\n",
       "      <td>83</td>\n",
       "      <td>0.506</td>\n",
       "      <td>7</td>\n",
       "      <td>20</td>\n",
       "      <td>0.350</td>\n",
       "      <td>16</td>\n",
       "      <td>19</td>\n",
       "      <td>0.842</td>\n",
       "      <td>7</td>\n",
       "      <td>36</td>\n",
       "      <td>43</td>\n",
       "      <td>25</td>\n",
       "      <td>11</td>\n",
       "      <td>2</td>\n",
       "      <td>22</td>\n",
       "      <td>21</td>\n",
       "      <td>0.0</td>\n",
       "    </tr>\n",
       "  </tbody>\n",
       "</table>\n",
       "<p>68 rows × 19 columns</p>\n",
       "</div>"
      ],
      "text/plain": [
       "    PTS  FGM  FGA  FG_PCT  FG3M  FG3A  FG3_PCT  FTM  FTA  FT_PCT  OREB  DREB  \\\n",
       "0   130   47   82   0.573    16    35    0.457   20   22   0.909     3    32   \n",
       "1   121   44   87   0.506    13    32    0.406   20   27   0.741     8    29   \n",
       "2   113   39   84   0.464    18    41    0.439   17   21   0.810     8    31   \n",
       "3   121   45   88   0.511    11    38    0.289   20   27   0.741    11    31   \n",
       "4   124   47   87   0.540    18    36    0.500   12   15   0.800    10    27   \n",
       "..  ...  ...  ...     ...   ...   ...      ...  ...  ...     ...   ...   ...   \n",
       "63   83   29   78   0.372     7    33    0.212   18   25   0.720     5    36   \n",
       "64  119   40   82   0.488    15    39    0.385   24   29   0.828    10    42   \n",
       "65   97   37   79   0.468    11    37    0.297   12   18   0.667     3    27   \n",
       "66  111   38   75   0.507    16    37    0.432   19   23   0.826     4    31   \n",
       "67  107   42   83   0.506     7    20    0.350   16   19   0.842     7    36   \n",
       "\n",
       "    REB  AST  STL  BLK  TOV  PF  Win  \n",
       "0    35   30    8    2   11  20  1.0  \n",
       "1    37   27    9    2   14  22  1.0  \n",
       "2    39   30    9    2   12  17  0.0  \n",
       "3    42   30   10    6   11  22  1.0  \n",
       "4    37   30   12    1    8  16  1.0  \n",
       "..  ...  ...  ...  ...  ...  ..  ...  \n",
       "63   41   20   10    2   14  24  0.0  \n",
       "64   52   25    5    5   22  18  1.0  \n",
       "65   30   23    9    6   21  18  0.0  \n",
       "66   35   29   11    2   17  25  1.0  \n",
       "67   43   25   11    2   22  21  0.0  \n",
       "\n",
       "[68 rows x 19 columns]"
      ]
     },
     "execution_count": 110,
     "metadata": {},
     "output_type": "execute_result"
    }
   ],
   "source": [
    "MH_games_2020"
   ]
  },
  {
   "cell_type": "markdown",
   "metadata": {},
   "source": [
    "Now we create our train/test split and perform our logistic regression Model"
   ]
  },
  {
   "cell_type": "code",
   "execution_count": 111,
   "metadata": {},
   "outputs": [
    {
     "data": {
      "text/plain": [
       "array([[130.   ,  47.   ,  82.   ,   0.573,  16.   ,  35.   ,   0.457,\n",
       "         20.   ,  22.   ,   0.909,   3.   ,  32.   ,  35.   ,  30.   ,\n",
       "          8.   ,   2.   ,  11.   ,  20.   ]])"
      ]
     },
     "execution_count": 111,
     "metadata": {},
     "output_type": "execute_result"
    }
   ],
   "source": [
    "## Definning X and Y for our prediction Model\n",
    "X1=np.asarray(MH_games_2020.drop(['Win'],axis=1))\n",
    "X1[0:1]"
   ]
  },
  {
   "cell_type": "code",
   "execution_count": 112,
   "metadata": {},
   "outputs": [
    {
     "data": {
      "text/plain": [
       "array([[1.],\n",
       "       [1.],\n",
       "       [0.],\n",
       "       [1.],\n",
       "       [1.]])"
      ]
     },
     "execution_count": 112,
     "metadata": {},
     "output_type": "execute_result"
    }
   ],
   "source": [
    "Y1=np.asarray(MH_games_2020[['Win']])\n",
    "Y1[0:5]"
   ]
  },
  {
   "cell_type": "code",
   "execution_count": 113,
   "metadata": {},
   "outputs": [
    {
     "data": {
      "text/plain": [
       "array([[ 1.86500003,  1.57346584, -0.25162177,  2.13411815,  1.03515945,\n",
       "        -0.18656444,  1.43768565,  0.57677065,  0.0913441 ,  1.20488708,\n",
       "        -1.5571607 , -0.2776294 , -0.94731432,  0.86035014,  0.02803738,\n",
       "        -0.95025527, -0.57005767,  0.28265357],\n",
       "       [ 1.11507886,  0.98772308,  0.51911158,  0.80164696,  0.07528432,\n",
       "        -0.67450219,  0.72080659,  0.57677065,  0.93072235, -0.48651498,\n",
       "         0.00459339, -0.83288821, -0.65517204,  0.16662908,  0.34579439,\n",
       "        -0.95025527,  0.18508366,  0.83180908],\n",
       "       [ 0.44848227,  0.01148515,  0.05667157, -0.03363349,  1.6750762 ,\n",
       "         0.78931107,  1.18466951,  0.00559972, -0.07653155,  0.20816801,\n",
       "         0.00459339, -0.46271567, -0.36302975,  0.86035014,  0.34579439,\n",
       "        -0.95025527, -0.31834389, -0.54107969],\n",
       "       [ 1.11507886,  1.18297067,  0.67325825,  0.90108511, -0.56463243,\n",
       "         0.30137332, -0.9237983 ,  0.57677065,  0.93072235, -0.48651498,\n",
       "         0.94164585, -0.46271567,  0.07518368,  0.86035014,  0.6635514 ,\n",
       "         1.0078465 , -0.57005767,  0.83180908],\n",
       "       [ 1.36505258,  1.57346584,  0.51911158,  1.47782637,  1.6750762 ,\n",
       "        -0.02391852,  2.04211309, -0.94635185, -1.08378544,  0.10748931,\n",
       "         0.62929503, -1.20306075, -0.65517204,  0.86035014,  1.29906542,\n",
       "        -1.43978071, -1.32519899, -0.81565745]])"
      ]
     },
     "execution_count": 113,
     "metadata": {},
     "output_type": "execute_result"
    }
   ],
   "source": [
    "#Normalize X1 so we can perform Logistic Regression\n",
    "from sklearn import preprocessing\n",
    "X1 = preprocessing.StandardScaler().fit(X1).transform(X1)\n",
    "X1[0:5]"
   ]
  },
  {
   "cell_type": "markdown",
   "metadata": {},
   "source": [
    "### Train/Test Split"
   ]
  },
  {
   "cell_type": "code",
   "execution_count": 114,
   "metadata": {},
   "outputs": [
    {
     "name": "stdout",
     "output_type": "stream",
     "text": [
      "Train set: (57, 18) (57, 1)\n",
      "Test set: (11, 18) (11, 1)\n"
     ]
    }
   ],
   "source": [
    "from sklearn.model_selection import train_test_split\n",
    "X1_train, X1_test, Y1_train, Y1_test = train_test_split( X1, Y1, test_size=0.15, random_state=4)\n",
    "print ('Train set:', X1_train.shape,  Y1_train.shape)\n",
    "print ('Test set:', X1_test.shape,  Y1_test.shape)"
   ]
  },
  {
   "cell_type": "markdown",
   "metadata": {},
   "source": [
    "### Modeling Logistic Regression"
   ]
  },
  {
   "cell_type": "code",
   "execution_count": 115,
   "metadata": {},
   "outputs": [
    {
     "name": "stderr",
     "output_type": "stream",
     "text": [
      "C:\\Users\\Gabo\\anaconda3\\lib\\site-packages\\sklearn\\utils\\validation.py:72: DataConversionWarning: A column-vector y was passed when a 1d array was expected. Please change the shape of y to (n_samples, ), for example using ravel().\n",
      "  return f(**kwargs)\n"
     ]
    },
    {
     "data": {
      "text/plain": [
       "LogisticRegression(C=0.01, solver='saga')"
      ]
     },
     "execution_count": 115,
     "metadata": {},
     "output_type": "execute_result"
    }
   ],
   "source": [
    "from sklearn.linear_model import LogisticRegression\n",
    "from sklearn.metrics import confusion_matrix\n",
    "LR1 = LogisticRegression(C=0.01, solver='saga').fit(X1_train,Y1_train)\n",
    "LR1"
   ]
  },
  {
   "cell_type": "code",
   "execution_count": 116,
   "metadata": {},
   "outputs": [
    {
     "data": {
      "text/plain": [
       "array([1., 0., 0., 0., 1., 1., 1., 1., 0., 1., 1.])"
      ]
     },
     "execution_count": 116,
     "metadata": {},
     "output_type": "execute_result"
    }
   ],
   "source": [
    "Yhat1 = LR1.predict(X1_test)\n",
    "Yhat1"
   ]
  },
  {
   "cell_type": "code",
   "execution_count": 117,
   "metadata": {},
   "outputs": [
    {
     "data": {
      "text/plain": [
       "array([[0.42487474, 0.57512526],\n",
       "       [0.57497093, 0.42502907],\n",
       "       [0.6021956 , 0.3978044 ],\n",
       "       [0.54061868, 0.45938132],\n",
       "       [0.45405994, 0.54594006],\n",
       "       [0.37162486, 0.62837514],\n",
       "       [0.47354732, 0.52645268],\n",
       "       [0.36730943, 0.63269057],\n",
       "       [0.51027998, 0.48972002],\n",
       "       [0.41303489, 0.58696511],\n",
       "       [0.34701063, 0.65298937]])"
      ]
     },
     "execution_count": 117,
     "metadata": {},
     "output_type": "execute_result"
    }
   ],
   "source": [
    "Yhat_prob1 = LR1.predict_proba(X1_test)\n",
    "Yhat_prob1"
   ]
  },
  {
   "cell_type": "code",
   "execution_count": 118,
   "metadata": {},
   "outputs": [
    {
     "data": {
      "text/plain": [
       "0.6109673777947392"
      ]
     },
     "execution_count": 118,
     "metadata": {},
     "output_type": "execute_result"
    }
   ],
   "source": [
    "from sklearn.metrics import log_loss\n",
    "log_loss(Y1_test, Yhat_prob1)"
   ]
  },
  {
   "cell_type": "code",
   "execution_count": 119,
   "metadata": {},
   "outputs": [
    {
     "name": "stderr",
     "output_type": "stream",
     "text": [
      "C:\\Users\\Gabo\\anaconda3\\lib\\site-packages\\sklearn\\utils\\validation.py:72: DataConversionWarning: A column-vector y was passed when a 1d array was expected. Please change the shape of y to (n_samples, ), for example using ravel().\n",
      "  return f(**kwargs)\n",
      "C:\\Users\\Gabo\\anaconda3\\lib\\site-packages\\sklearn\\utils\\validation.py:72: DataConversionWarning: A column-vector y was passed when a 1d array was expected. Please change the shape of y to (n_samples, ), for example using ravel().\n",
      "  return f(**kwargs)\n",
      "C:\\Users\\Gabo\\anaconda3\\lib\\site-packages\\sklearn\\utils\\validation.py:72: DataConversionWarning: A column-vector y was passed when a 1d array was expected. Please change the shape of y to (n_samples, ), for example using ravel().\n",
      "  return f(**kwargs)\n",
      "C:\\Users\\Gabo\\anaconda3\\lib\\site-packages\\sklearn\\utils\\validation.py:72: DataConversionWarning: A column-vector y was passed when a 1d array was expected. Please change the shape of y to (n_samples, ), for example using ravel().\n",
      "  return f(**kwargs)\n",
      "C:\\Users\\Gabo\\anaconda3\\lib\\site-packages\\sklearn\\utils\\validation.py:72: DataConversionWarning: A column-vector y was passed when a 1d array was expected. Please change the shape of y to (n_samples, ), for example using ravel().\n",
      "  return f(**kwargs)\n"
     ]
    }
   ],
   "source": [
    "Rcross=cross_val_score(LR1,X1,Y1,cv=5)"
   ]
  },
  {
   "cell_type": "code",
   "execution_count": 120,
   "metadata": {},
   "outputs": [
    {
     "data": {
      "text/plain": [
       "array([0.78571429, 0.42857143, 0.64285714, 0.69230769, 0.69230769])"
      ]
     },
     "execution_count": 120,
     "metadata": {},
     "output_type": "execute_result"
    }
   ],
   "source": [
    "Rcross"
   ]
  },
  {
   "cell_type": "code",
   "execution_count": 122,
   "metadata": {},
   "outputs": [
    {
     "data": {
      "text/plain": [
       "0.65"
      ]
     },
     "execution_count": 122,
     "metadata": {},
     "output_type": "execute_result"
    }
   ],
   "source": [
    "Rcross.mean().round(2)"
   ]
  },
  {
   "cell_type": "markdown",
   "metadata": {},
   "source": [
    "The accuracy of the model is 65%. A good model for us to use has to have an accuracy above 70%"
   ]
  },
  {
   "cell_type": "markdown",
   "metadata": {},
   "source": [
    "Another way to measure accuracy on a classification model is through confusion matrix"
   ]
  },
  {
   "cell_type": "code",
   "execution_count": 123,
   "metadata": {},
   "outputs": [
    {
     "name": "stdout",
     "output_type": "stream",
     "text": [
      "[[5 1]\n",
      " [2 3]]\n"
     ]
    }
   ],
   "source": [
    "from sklearn.metrics import classification_report, confusion_matrix\n",
    "import itertools\n",
    "def plot_confusion_matrix(cm, classes,\n",
    "                          normalize=False,\n",
    "                          title='Confusion matrix',\n",
    "                          cmap=plt.cm.Blues):\n",
    "    \"\"\"\n",
    "    This function prints and plots the confusion matrix.\n",
    "    Normalization can be applied by setting `normalize=True`.\n",
    "    \"\"\"\n",
    "    if normalize:\n",
    "        cm = cm.astype('float') / cm.sum(axis=1)[:, np.newaxis]\n",
    "        print(\"Normalized confusion matrix\")\n",
    "    else:\n",
    "        print('Confusion matrix, without normalization')\n",
    "\n",
    "    print(cm)\n",
    "\n",
    "    plt.imshow(cm, interpolation='nearest', cmap=cmap)\n",
    "    plt.title(title)\n",
    "    plt.colorbar()\n",
    "    tick_marks = np.arange(len(classes))\n",
    "    plt.xticks(tick_marks, classes, rotation=45)\n",
    "    plt.yticks(tick_marks, classes)\n",
    "\n",
    "    fmt = '.2f' if normalize else 'd'\n",
    "    thresh = cm.max() / 2.\n",
    "    for i, j in itertools.product(range(cm.shape[0]), range(cm.shape[1])):\n",
    "        plt.text(j, i, format(cm[i, j], fmt),\n",
    "                 horizontalalignment=\"center\",\n",
    "                 color=\"red\" if cm[i, j] > thresh else \"black\")\n",
    "\n",
    "    plt.tight_layout()\n",
    "    plt.ylabel('True label')\n",
    "    plt.xlabel('Predicted label')\n",
    "print(confusion_matrix(Y1_test, Yhat1, labels=[1,0]))"
   ]
  },
  {
   "cell_type": "code",
   "execution_count": 124,
   "metadata": {},
   "outputs": [
    {
     "name": "stdout",
     "output_type": "stream",
     "text": [
      "Confusion matrix, without normalization\n",
      "[[5 1]\n",
      " [2 3]]\n"
     ]
    },
    {
     "data": {
      "image/png": "[encoded data removed]",
      "text/plain": [
       "<Figure size 432x288 with 2 Axes>"
      ]
     },
     "metadata": {
      "needs_background": "light"
     },
     "output_type": "display_data"
    }
   ],
   "source": [
    "# Compute confusion matrix\n",
    "cnf_matrix = confusion_matrix(Y1_test, Yhat1, labels=[1,0])\n",
    "np.set_printoptions(precision=2)\n",
    "\n",
    "\n",
    "# Plot non-normalized confusion matrix\n",
    "plt.figure()\n",
    "plot_confusion_matrix(cnf_matrix, classes=['churn=1','churn=0'],normalize= False,  title='Confusion matrix')"
   ]
  },
  {
   "cell_type": "code",
   "execution_count": 125,
   "metadata": {},
   "outputs": [
    {
     "name": "stdout",
     "output_type": "stream",
     "text": [
      "              precision    recall  f1-score   support\n",
      "\n",
      "         0.0       0.75      0.60      0.67         5\n",
      "         1.0       0.71      0.83      0.77         6\n",
      "\n",
      "    accuracy                           0.73        11\n",
      "   macro avg       0.73      0.72      0.72        11\n",
      "weighted avg       0.73      0.73      0.72        11\n",
      "\n"
     ]
    }
   ],
   "source": [
    "print (classification_report(Y1_test, Yhat1))"
   ]
  },
  {
   "cell_type": "markdown",
   "metadata": {},
   "source": [
    "#### Now that we performed a logistic regression, we see that the accuracy of the model is 65%. So now we know we need to try with anothe classification model. We will perform many of them and will take the one with the highest accuracy"
   ]
  },
  {
   "cell_type": "markdown",
   "metadata": {},
   "source": [
    "## K NEAREST"
   ]
  },
  {
   "cell_type": "code",
   "execution_count": 126,
   "metadata": {},
   "outputs": [],
   "source": [
    "from sklearn.neighbors import KNeighborsClassifier"
   ]
  },
  {
   "cell_type": "code",
   "execution_count": 127,
   "metadata": {},
   "outputs": [
    {
     "name": "stderr",
     "output_type": "stream",
     "text": [
      "<ipython-input-127-4dcfaaf75998>:3: DataConversionWarning: A column-vector y was passed when a 1d array was expected. Please change the shape of y to (n_samples, ), for example using ravel().\n",
      "  neigh=KNeighborsClassifier(n_neighbors= k).fit(X1_train,Y1_train)\n"
     ]
    },
    {
     "data": {
      "text/plain": [
       "KNeighborsClassifier(n_neighbors=8)"
      ]
     },
     "execution_count": 127,
     "metadata": {},
     "output_type": "execute_result"
    }
   ],
   "source": [
    "k=8\n",
    "# train model and predict\n",
    "neigh=KNeighborsClassifier(n_neighbors= k).fit(X1_train,Y1_train)\n",
    "neigh"
   ]
  },
  {
   "cell_type": "code",
   "execution_count": 128,
   "metadata": {},
   "outputs": [
    {
     "data": {
      "text/plain": [
       "array([1., 0., 0., 1., 1., 1., 0., 1., 1., 1., 1.])"
      ]
     },
     "execution_count": 128,
     "metadata": {},
     "output_type": "execute_result"
    }
   ],
   "source": [
    "## PREDICTING\n",
    "Yhat2=neigh.predict(X1_test)\n",
    "Yhat2"
   ]
  },
  {
   "cell_type": "code",
   "execution_count": 129,
   "metadata": {},
   "outputs": [
    {
     "data": {
      "text/plain": [
       "0.7017543859649122"
      ]
     },
     "execution_count": 129,
     "metadata": {},
     "output_type": "execute_result"
    }
   ],
   "source": [
    "## ACCURACY EVALUATION\n",
    "from sklearn import metrics\n",
    "metrics.accuracy_score(Y1_train, neigh.predict(X1_train))"
   ]
  },
  {
   "cell_type": "code",
   "execution_count": 130,
   "metadata": {},
   "outputs": [
    {
     "data": {
      "text/plain": [
       "0.8181818181818182"
      ]
     },
     "execution_count": 130,
     "metadata": {},
     "output_type": "execute_result"
    }
   ],
   "source": [
    "metrics.accuracy_score(Y1_test, neigh.predict(X1_test))"
   ]
  },
  {
   "cell_type": "code",
   "execution_count": 131,
   "metadata": {},
   "outputs": [
    {
     "name": "stderr",
     "output_type": "stream",
     "text": [
      "C:\\Users\\Gabo\\anaconda3\\lib\\site-packages\\sklearn\\model_selection\\_validation.py:531: DataConversionWarning: A column-vector y was passed when a 1d array was expected. Please change the shape of y to (n_samples, ), for example using ravel().\n",
      "  estimator.fit(X_train, y_train, **fit_params)\n",
      "C:\\Users\\Gabo\\anaconda3\\lib\\site-packages\\sklearn\\model_selection\\_validation.py:531: DataConversionWarning: A column-vector y was passed when a 1d array was expected. Please change the shape of y to (n_samples, ), for example using ravel().\n",
      "  estimator.fit(X_train, y_train, **fit_params)\n",
      "C:\\Users\\Gabo\\anaconda3\\lib\\site-packages\\sklearn\\model_selection\\_validation.py:531: DataConversionWarning: A column-vector y was passed when a 1d array was expected. Please change the shape of y to (n_samples, ), for example using ravel().\n",
      "  estimator.fit(X_train, y_train, **fit_params)\n",
      "C:\\Users\\Gabo\\anaconda3\\lib\\site-packages\\sklearn\\model_selection\\_validation.py:531: DataConversionWarning: A column-vector y was passed when a 1d array was expected. Please change the shape of y to (n_samples, ), for example using ravel().\n",
      "  estimator.fit(X_train, y_train, **fit_params)\n",
      "C:\\Users\\Gabo\\anaconda3\\lib\\site-packages\\sklearn\\model_selection\\_validation.py:531: DataConversionWarning: A column-vector y was passed when a 1d array was expected. Please change the shape of y to (n_samples, ), for example using ravel().\n",
      "  estimator.fit(X_train, y_train, **fit_params)\n"
     ]
    }
   ],
   "source": [
    "Rcross=cross_val_score(neigh,X1,Y1,cv=5)"
   ]
  },
  {
   "cell_type": "code",
   "execution_count": 132,
   "metadata": {},
   "outputs": [
    {
     "data": {
      "text/plain": [
       "array([0.71, 0.71, 0.57, 0.69, 0.77])"
      ]
     },
     "execution_count": 132,
     "metadata": {},
     "output_type": "execute_result"
    }
   ],
   "source": [
    "Rcross"
   ]
  },
  {
   "cell_type": "code",
   "execution_count": 134,
   "metadata": {},
   "outputs": [
    {
     "data": {
      "text/plain": [
       "0.69"
      ]
     },
     "execution_count": 134,
     "metadata": {},
     "output_type": "execute_result"
    }
   ],
   "source": [
    "Rcross.mean().round(2)"
   ]
  },
  {
   "cell_type": "code",
   "execution_count": 135,
   "metadata": {},
   "outputs": [
    {
     "name": "stderr",
     "output_type": "stream",
     "text": [
      "<ipython-input-135-5d50d8d6c755>:8: DataConversionWarning: A column-vector y was passed when a 1d array was expected. Please change the shape of y to (n_samples, ), for example using ravel().\n",
      "  neigh = KNeighborsClassifier(n_neighbors = n).fit(X1_train,Y1_train)\n",
      "<ipython-input-135-5d50d8d6c755>:8: DataConversionWarning: A column-vector y was passed when a 1d array was expected. Please change the shape of y to (n_samples, ), for example using ravel().\n",
      "  neigh = KNeighborsClassifier(n_neighbors = n).fit(X1_train,Y1_train)\n",
      "<ipython-input-135-5d50d8d6c755>:8: DataConversionWarning: A column-vector y was passed when a 1d array was expected. Please change the shape of y to (n_samples, ), for example using ravel().\n",
      "  neigh = KNeighborsClassifier(n_neighbors = n).fit(X1_train,Y1_train)\n",
      "<ipython-input-135-5d50d8d6c755>:8: DataConversionWarning: A column-vector y was passed when a 1d array was expected. Please change the shape of y to (n_samples, ), for example using ravel().\n",
      "  neigh = KNeighborsClassifier(n_neighbors = n).fit(X1_train,Y1_train)\n",
      "<ipython-input-135-5d50d8d6c755>:8: DataConversionWarning: A column-vector y was passed when a 1d array was expected. Please change the shape of y to (n_samples, ), for example using ravel().\n",
      "  neigh = KNeighborsClassifier(n_neighbors = n).fit(X1_train,Y1_train)\n",
      "<ipython-input-135-5d50d8d6c755>:8: DataConversionWarning: A column-vector y was passed when a 1d array was expected. Please change the shape of y to (n_samples, ), for example using ravel().\n",
      "  neigh = KNeighborsClassifier(n_neighbors = n).fit(X1_train,Y1_train)\n",
      "<ipython-input-135-5d50d8d6c755>:8: DataConversionWarning: A column-vector y was passed when a 1d array was expected. Please change the shape of y to (n_samples, ), for example using ravel().\n",
      "  neigh = KNeighborsClassifier(n_neighbors = n).fit(X1_train,Y1_train)\n",
      "<ipython-input-135-5d50d8d6c755>:8: DataConversionWarning: A column-vector y was passed when a 1d array was expected. Please change the shape of y to (n_samples, ), for example using ravel().\n",
      "  neigh = KNeighborsClassifier(n_neighbors = n).fit(X1_train,Y1_train)\n",
      "<ipython-input-135-5d50d8d6c755>:8: DataConversionWarning: A column-vector y was passed when a 1d array was expected. Please change the shape of y to (n_samples, ), for example using ravel().\n",
      "  neigh = KNeighborsClassifier(n_neighbors = n).fit(X1_train,Y1_train)\n"
     ]
    },
    {
     "data": {
      "text/plain": [
       "array([0.64, 0.73, 0.82, 0.64, 0.82, 0.82, 0.82, 0.82, 0.82])"
      ]
     },
     "execution_count": 135,
     "metadata": {},
     "output_type": "execute_result"
    }
   ],
   "source": [
    "Ks = 10\n",
    "mean_acc = np.zeros((Ks-1))\n",
    "std_acc = np.zeros((Ks-1))\n",
    "\n",
    "for n in range(1,Ks):\n",
    "    \n",
    "    #Train Model and Predict  \n",
    "    neigh = KNeighborsClassifier(n_neighbors = n).fit(X1_train,Y1_train)\n",
    "    Yhat3=neigh.predict(X1_test)\n",
    "    mean_acc[n-1] = metrics.accuracy_score(Y1_test, Yhat3)\n",
    "\n",
    "    \n",
    "    std_acc[n-1]=np.std(Yhat3==Y1_test)/np.sqrt(Yhat3.shape[0])\n",
    "\n",
    "mean_acc"
   ]
  },
  {
   "cell_type": "code",
   "execution_count": 136,
   "metadata": {},
   "outputs": [
    {
     "data": {
      "image/png": "[encoded data removed]",
      "text/plain": [
       "<Figure size 432x288 with 1 Axes>"
      ]
     },
     "metadata": {
      "needs_background": "light"
     },
     "output_type": "display_data"
    }
   ],
   "source": [
    "plt.plot(range(1,Ks),mean_acc,'g')\n",
    "plt.fill_between(range(1,Ks),mean_acc - 1 * std_acc,mean_acc + 1 * std_acc, alpha=0.10)\n",
    "plt.fill_between(range(1,Ks),mean_acc - 3 * std_acc,mean_acc + 3 * std_acc, alpha=0.10,color=\"green\")\n",
    "plt.legend(('Accuracy ', '+/- 1xstd','+/- 3xstd'))\n",
    "plt.ylabel('Accuracy ')\n",
    "plt.xlabel('Number of Neighbors (K)')\n",
    "plt.tight_layout()\n",
    "plt.show()"
   ]
  },
  {
   "cell_type": "markdown",
   "metadata": {},
   "source": [
    "#### KNearest has an accuracy of 69% with 8 neighbors. it is the closests to 70% so we might take this classification model for our predictions, but before we make a conclusion we take a look at the other classification model"
   ]
  },
  {
   "cell_type": "markdown",
   "metadata": {},
   "source": [
    "## Support Vector Machine"
   ]
  },
  {
   "cell_type": "code",
   "execution_count": 137,
   "metadata": {},
   "outputs": [
    {
     "name": "stderr",
     "output_type": "stream",
     "text": [
      "C:\\Users\\Gabo\\anaconda3\\lib\\site-packages\\sklearn\\utils\\validation.py:72: DataConversionWarning: A column-vector y was passed when a 1d array was expected. Please change the shape of y to (n_samples, ), for example using ravel().\n",
      "  return f(**kwargs)\n"
     ]
    },
    {
     "data": {
      "text/plain": [
       "SVC()"
      ]
     },
     "execution_count": 137,
     "metadata": {},
     "output_type": "execute_result"
    }
   ],
   "source": [
    "from sklearn import svm\n",
    "clf = svm.SVC(kernel='rbf')\n",
    "clf.fit(X1_train, Y1_train) "
   ]
  },
  {
   "cell_type": "code",
   "execution_count": 138,
   "metadata": {},
   "outputs": [
    {
     "data": {
      "text/plain": [
       "array([1., 0., 0., 0., 1.])"
      ]
     },
     "execution_count": 138,
     "metadata": {},
     "output_type": "execute_result"
    }
   ],
   "source": [
    "Yhat4=clf.predict(X1_test)\n",
    "Yhat4[0:5]"
   ]
  },
  {
   "cell_type": "code",
   "execution_count": 139,
   "metadata": {},
   "outputs": [
    {
     "name": "stderr",
     "output_type": "stream",
     "text": [
      "C:\\Users\\Gabo\\anaconda3\\lib\\site-packages\\sklearn\\utils\\validation.py:72: DataConversionWarning: A column-vector y was passed when a 1d array was expected. Please change the shape of y to (n_samples, ), for example using ravel().\n",
      "  return f(**kwargs)\n",
      "C:\\Users\\Gabo\\anaconda3\\lib\\site-packages\\sklearn\\utils\\validation.py:72: DataConversionWarning: A column-vector y was passed when a 1d array was expected. Please change the shape of y to (n_samples, ), for example using ravel().\n",
      "  return f(**kwargs)\n",
      "C:\\Users\\Gabo\\anaconda3\\lib\\site-packages\\sklearn\\utils\\validation.py:72: DataConversionWarning: A column-vector y was passed when a 1d array was expected. Please change the shape of y to (n_samples, ), for example using ravel().\n",
      "  return f(**kwargs)\n",
      "C:\\Users\\Gabo\\anaconda3\\lib\\site-packages\\sklearn\\utils\\validation.py:72: DataConversionWarning: A column-vector y was passed when a 1d array was expected. Please change the shape of y to (n_samples, ), for example using ravel().\n",
      "  return f(**kwargs)\n",
      "C:\\Users\\Gabo\\anaconda3\\lib\\site-packages\\sklearn\\utils\\validation.py:72: DataConversionWarning: A column-vector y was passed when a 1d array was expected. Please change the shape of y to (n_samples, ), for example using ravel().\n",
      "  return f(**kwargs)\n"
     ]
    }
   ],
   "source": [
    "Rcross=cross_val_score(clf,X1,Y1,cv=5)"
   ]
  },
  {
   "cell_type": "code",
   "execution_count": 140,
   "metadata": {},
   "outputs": [
    {
     "data": {
      "text/plain": [
       "array([0.64, 0.5 , 0.57, 0.69, 0.69])"
      ]
     },
     "execution_count": 140,
     "metadata": {},
     "output_type": "execute_result"
    }
   ],
   "source": [
    "Rcross"
   ]
  },
  {
   "cell_type": "code",
   "execution_count": 142,
   "metadata": {},
   "outputs": [
    {
     "data": {
      "text/plain": [
       "0.62"
      ]
     },
     "execution_count": 142,
     "metadata": {},
     "output_type": "execute_result"
    }
   ],
   "source": [
    "Rcross.mean().round(2)"
   ]
  },
  {
   "cell_type": "markdown",
   "metadata": {},
   "source": [
    "## We conclude that the classification model that best fits the data is the k nearest model with an accuracy of 69%.\n",
    "\n",
    "## Now that we have a model to tell us if the heat will win or lose, we need to know which variables have an impact on it and measure the impact they have on the outcome of the game. To do this we will perform a clusterization model"
   ]
  },
  {
   "cell_type": "markdown",
   "metadata": {},
   "source": [
    "## 7.- Clusterization model"
   ]
  },
  {
   "cell_type": "code",
   "execution_count": 143,
   "metadata": {},
   "outputs": [
    {
     "name": "stderr",
     "output_type": "stream",
     "text": [
      "C:\\Users\\Gabo\\anaconda3\\lib\\site-packages\\sklearn\\utils\\deprecation.py:143: FutureWarning: The sklearn.datasets.samples_generator module is  deprecated in version 0.22 and will be removed in version 0.24. The corresponding classes / functions should instead be imported from sklearn.datasets. Anything that cannot be imported from sklearn.datasets is now part of the private API.\n",
      "  warnings.warn(message, FutureWarning)\n"
     ]
    }
   ],
   "source": [
    "import random \n",
    "import numpy as np \n",
    "import matplotlib.pyplot as plt \n",
    "from sklearn.cluster import KMeans \n",
    "from sklearn.datasets.samples_generator import make_blobs \n",
    "%matplotlib inline"
   ]
  },
  {
   "cell_type": "code",
   "execution_count": 144,
   "metadata": {},
   "outputs": [
    {
     "data": {
      "text/plain": [
       "array([[ 1.57, -0.25,  2.13, ..., -0.57,  0.28,  0.92],\n",
       "       [ 0.99,  0.52,  0.8 , ...,  0.19,  0.83,  0.92],\n",
       "       [ 0.01,  0.06, -0.03, ..., -0.32, -0.54, -1.09],\n",
       "       ...,\n",
       "       [-0.38, -0.71,  0.05, ...,  1.95, -0.27, -1.09],\n",
       "       [-0.18, -1.33,  0.82, ...,  0.94,  1.66,  0.92],\n",
       "       [ 0.6 , -0.1 ,  0.8 , ...,  2.2 ,  0.56, -1.09]])"
      ]
     },
     "execution_count": 144,
     "metadata": {},
     "output_type": "execute_result"
    }
   ],
   "source": [
    "# First we select our dataset to perform a clusterization model\n",
    "from sklearn.preprocessing import StandardScaler\n",
    "CLUST = MH_games_2020.values[:,1:]\n",
    "CLUST = np.nan_to_num(CLUST)\n",
    "Clus_dataSet = StandardScaler().fit_transform(CLUST)\n",
    "Clus_dataSet"
   ]
  },
  {
   "cell_type": "code",
   "execution_count": 145,
   "metadata": {},
   "outputs": [
    {
     "name": "stdout",
     "output_type": "stream",
     "text": [
      "[0 2 0 1 0 1 2 2 0 1 1 1 2 0 0 0 2 0 0 2 2 1 0 0 1 1 0 1 1 1 0 1 2 0 1 1 2\n",
      " 2 1 1 1 0 1 1 2 1 1 1 1 2 1 0 1 2 0 1 0 2 2 1 1 2 1 2 1 0 2 1]\n"
     ]
    }
   ],
   "source": [
    "# Perform the clusterization model starting with 3 neighbours\n",
    "clusterNum = 3\n",
    "k_means = KMeans(init = \"k-means++\", n_clusters = clusterNum, n_init = 12)\n",
    "k_means.fit(CLUST)\n",
    "labels = k_means.labels_\n",
    "print(labels)"
   ]
  },
  {
   "cell_type": "code",
   "execution_count": 148,
   "metadata": {},
   "outputs": [
    {
     "name": "stderr",
     "output_type": "stream",
     "text": [
      "<ipython-input-148-6b4329bfc090>:2: SettingWithCopyWarning: \n",
      "A value is trying to be set on a copy of a slice from a DataFrame.\n",
      "Try using .loc[row_indexer,col_indexer] = value instead\n",
      "\n",
      "See the caveats in the documentation: https://pandas.pydata.org/pandas-docs/stable/user_guide/indexing.html#returning-a-view-versus-a-copy\n",
      "  MH_games_2020[\"Clust_km\"]=labels\n"
     ]
    },
    {
     "data": {
      "text/html": [
       "<div>\n",
       "<style scoped>\n",
       "    .dataframe tbody tr th:only-of-type {\n",
       "        vertical-align: middle;\n",
       "    }\n",
       "\n",
       "    .dataframe tbody tr th {\n",
       "        vertical-align: top;\n",
       "    }\n",
       "\n",
       "    .dataframe thead th {\n",
       "        text-align: right;\n",
       "    }\n",
       "</style>\n",
       "<table border=\"1\" class=\"dataframe\">\n",
       "  <thead>\n",
       "    <tr style=\"text-align: right;\">\n",
       "      <th></th>\n",
       "      <th>PTS</th>\n",
       "      <th>FGM</th>\n",
       "      <th>FGA</th>\n",
       "      <th>FG_PCT</th>\n",
       "      <th>FG3M</th>\n",
       "      <th>FG3A</th>\n",
       "      <th>FG3_PCT</th>\n",
       "      <th>FTM</th>\n",
       "      <th>FTA</th>\n",
       "      <th>FT_PCT</th>\n",
       "      <th>OREB</th>\n",
       "      <th>DREB</th>\n",
       "      <th>REB</th>\n",
       "      <th>AST</th>\n",
       "      <th>STL</th>\n",
       "      <th>BLK</th>\n",
       "      <th>TOV</th>\n",
       "      <th>PF</th>\n",
       "      <th>Win</th>\n",
       "      <th>Clust_km</th>\n",
       "    </tr>\n",
       "  </thead>\n",
       "  <tbody>\n",
       "    <tr>\n",
       "      <th>0</th>\n",
       "      <td>130</td>\n",
       "      <td>47</td>\n",
       "      <td>82</td>\n",
       "      <td>0.573</td>\n",
       "      <td>16</td>\n",
       "      <td>35</td>\n",
       "      <td>0.457</td>\n",
       "      <td>20</td>\n",
       "      <td>22</td>\n",
       "      <td>0.909</td>\n",
       "      <td>3</td>\n",
       "      <td>32</td>\n",
       "      <td>35</td>\n",
       "      <td>30</td>\n",
       "      <td>8</td>\n",
       "      <td>2</td>\n",
       "      <td>11</td>\n",
       "      <td>20</td>\n",
       "      <td>1.0</td>\n",
       "      <td>0</td>\n",
       "    </tr>\n",
       "    <tr>\n",
       "      <th>1</th>\n",
       "      <td>121</td>\n",
       "      <td>44</td>\n",
       "      <td>87</td>\n",
       "      <td>0.506</td>\n",
       "      <td>13</td>\n",
       "      <td>32</td>\n",
       "      <td>0.406</td>\n",
       "      <td>20</td>\n",
       "      <td>27</td>\n",
       "      <td>0.741</td>\n",
       "      <td>8</td>\n",
       "      <td>29</td>\n",
       "      <td>37</td>\n",
       "      <td>27</td>\n",
       "      <td>9</td>\n",
       "      <td>2</td>\n",
       "      <td>14</td>\n",
       "      <td>22</td>\n",
       "      <td>1.0</td>\n",
       "      <td>2</td>\n",
       "    </tr>\n",
       "    <tr>\n",
       "      <th>2</th>\n",
       "      <td>113</td>\n",
       "      <td>39</td>\n",
       "      <td>84</td>\n",
       "      <td>0.464</td>\n",
       "      <td>18</td>\n",
       "      <td>41</td>\n",
       "      <td>0.439</td>\n",
       "      <td>17</td>\n",
       "      <td>21</td>\n",
       "      <td>0.810</td>\n",
       "      <td>8</td>\n",
       "      <td>31</td>\n",
       "      <td>39</td>\n",
       "      <td>30</td>\n",
       "      <td>9</td>\n",
       "      <td>2</td>\n",
       "      <td>12</td>\n",
       "      <td>17</td>\n",
       "      <td>0.0</td>\n",
       "      <td>0</td>\n",
       "    </tr>\n",
       "    <tr>\n",
       "      <th>3</th>\n",
       "      <td>121</td>\n",
       "      <td>45</td>\n",
       "      <td>88</td>\n",
       "      <td>0.511</td>\n",
       "      <td>11</td>\n",
       "      <td>38</td>\n",
       "      <td>0.289</td>\n",
       "      <td>20</td>\n",
       "      <td>27</td>\n",
       "      <td>0.741</td>\n",
       "      <td>11</td>\n",
       "      <td>31</td>\n",
       "      <td>42</td>\n",
       "      <td>30</td>\n",
       "      <td>10</td>\n",
       "      <td>6</td>\n",
       "      <td>11</td>\n",
       "      <td>22</td>\n",
       "      <td>1.0</td>\n",
       "      <td>1</td>\n",
       "    </tr>\n",
       "    <tr>\n",
       "      <th>4</th>\n",
       "      <td>124</td>\n",
       "      <td>47</td>\n",
       "      <td>87</td>\n",
       "      <td>0.540</td>\n",
       "      <td>18</td>\n",
       "      <td>36</td>\n",
       "      <td>0.500</td>\n",
       "      <td>12</td>\n",
       "      <td>15</td>\n",
       "      <td>0.800</td>\n",
       "      <td>10</td>\n",
       "      <td>27</td>\n",
       "      <td>37</td>\n",
       "      <td>30</td>\n",
       "      <td>12</td>\n",
       "      <td>1</td>\n",
       "      <td>8</td>\n",
       "      <td>16</td>\n",
       "      <td>1.0</td>\n",
       "      <td>0</td>\n",
       "    </tr>\n",
       "    <tr>\n",
       "      <th>5</th>\n",
       "      <td>116</td>\n",
       "      <td>43</td>\n",
       "      <td>85</td>\n",
       "      <td>0.506</td>\n",
       "      <td>9</td>\n",
       "      <td>25</td>\n",
       "      <td>0.360</td>\n",
       "      <td>21</td>\n",
       "      <td>24</td>\n",
       "      <td>0.875</td>\n",
       "      <td>10</td>\n",
       "      <td>38</td>\n",
       "      <td>48</td>\n",
       "      <td>26</td>\n",
       "      <td>4</td>\n",
       "      <td>1</td>\n",
       "      <td>12</td>\n",
       "      <td>23</td>\n",
       "      <td>1.0</td>\n",
       "      <td>1</td>\n",
       "    </tr>\n",
       "    <tr>\n",
       "      <th>6</th>\n",
       "      <td>102</td>\n",
       "      <td>36</td>\n",
       "      <td>84</td>\n",
       "      <td>0.429</td>\n",
       "      <td>7</td>\n",
       "      <td>36</td>\n",
       "      <td>0.194</td>\n",
       "      <td>23</td>\n",
       "      <td>25</td>\n",
       "      <td>0.920</td>\n",
       "      <td>6</td>\n",
       "      <td>28</td>\n",
       "      <td>34</td>\n",
       "      <td>18</td>\n",
       "      <td>13</td>\n",
       "      <td>4</td>\n",
       "      <td>5</td>\n",
       "      <td>19</td>\n",
       "      <td>0.0</td>\n",
       "      <td>2</td>\n",
       "    </tr>\n",
       "    <tr>\n",
       "      <th>7</th>\n",
       "      <td>106</td>\n",
       "      <td>36</td>\n",
       "      <td>80</td>\n",
       "      <td>0.450</td>\n",
       "      <td>14</td>\n",
       "      <td>37</td>\n",
       "      <td>0.378</td>\n",
       "      <td>20</td>\n",
       "      <td>24</td>\n",
       "      <td>0.833</td>\n",
       "      <td>6</td>\n",
       "      <td>31</td>\n",
       "      <td>37</td>\n",
       "      <td>22</td>\n",
       "      <td>11</td>\n",
       "      <td>2</td>\n",
       "      <td>10</td>\n",
       "      <td>12</td>\n",
       "      <td>1.0</td>\n",
       "      <td>2</td>\n",
       "    </tr>\n",
       "    <tr>\n",
       "      <th>8</th>\n",
       "      <td>103</td>\n",
       "      <td>38</td>\n",
       "      <td>79</td>\n",
       "      <td>0.481</td>\n",
       "      <td>13</td>\n",
       "      <td>37</td>\n",
       "      <td>0.351</td>\n",
       "      <td>14</td>\n",
       "      <td>16</td>\n",
       "      <td>0.875</td>\n",
       "      <td>6</td>\n",
       "      <td>24</td>\n",
       "      <td>30</td>\n",
       "      <td>24</td>\n",
       "      <td>10</td>\n",
       "      <td>5</td>\n",
       "      <td>13</td>\n",
       "      <td>18</td>\n",
       "      <td>0.0</td>\n",
       "      <td>0</td>\n",
       "    </tr>\n",
       "    <tr>\n",
       "      <th>9</th>\n",
       "      <td>107</td>\n",
       "      <td>39</td>\n",
       "      <td>83</td>\n",
       "      <td>0.470</td>\n",
       "      <td>13</td>\n",
       "      <td>31</td>\n",
       "      <td>0.419</td>\n",
       "      <td>16</td>\n",
       "      <td>20</td>\n",
       "      <td>0.800</td>\n",
       "      <td>9</td>\n",
       "      <td>35</td>\n",
       "      <td>44</td>\n",
       "      <td>28</td>\n",
       "      <td>8</td>\n",
       "      <td>1</td>\n",
       "      <td>7</td>\n",
       "      <td>20</td>\n",
       "      <td>1.0</td>\n",
       "      <td>1</td>\n",
       "    </tr>\n",
       "  </tbody>\n",
       "</table>\n",
       "</div>"
      ],
      "text/plain": [
       "   PTS  FGM  FGA  FG_PCT  FG3M  FG3A  FG3_PCT  FTM  FTA  FT_PCT  OREB  DREB  \\\n",
       "0  130   47   82   0.573    16    35    0.457   20   22   0.909     3    32   \n",
       "1  121   44   87   0.506    13    32    0.406   20   27   0.741     8    29   \n",
       "2  113   39   84   0.464    18    41    0.439   17   21   0.810     8    31   \n",
       "3  121   45   88   0.511    11    38    0.289   20   27   0.741    11    31   \n",
       "4  124   47   87   0.540    18    36    0.500   12   15   0.800    10    27   \n",
       "5  116   43   85   0.506     9    25    0.360   21   24   0.875    10    38   \n",
       "6  102   36   84   0.429     7    36    0.194   23   25   0.920     6    28   \n",
       "7  106   36   80   0.450    14    37    0.378   20   24   0.833     6    31   \n",
       "8  103   38   79   0.481    13    37    0.351   14   16   0.875     6    24   \n",
       "9  107   39   83   0.470    13    31    0.419   16   20   0.800     9    35   \n",
       "\n",
       "   REB  AST  STL  BLK  TOV  PF  Win  Clust_km  \n",
       "0   35   30    8    2   11  20  1.0         0  \n",
       "1   37   27    9    2   14  22  1.0         2  \n",
       "2   39   30    9    2   12  17  0.0         0  \n",
       "3   42   30   10    6   11  22  1.0         1  \n",
       "4   37   30   12    1    8  16  1.0         0  \n",
       "5   48   26    4    1   12  23  1.0         1  \n",
       "6   34   18   13    4    5  19  0.0         2  \n",
       "7   37   22   11    2   10  12  1.0         2  \n",
       "8   30   24   10    5   13  18  0.0         0  \n",
       "9   44   28    8    1    7  20  1.0         1  "
      ]
     },
     "execution_count": 148,
     "metadata": {},
     "output_type": "execute_result"
    }
   ],
   "source": [
    "# Take a look at our database with the clusterization model\n",
    "MH_games_2020[\"Clust_km\"]=labels\n",
    "MH_games_2020.head(10)"
   ]
  },
  {
   "cell_type": "code",
   "execution_count": 149,
   "metadata": {},
   "outputs": [
    {
     "data": {
      "text/html": [
       "<div>\n",
       "<style scoped>\n",
       "    .dataframe tbody tr th:only-of-type {\n",
       "        vertical-align: middle;\n",
       "    }\n",
       "\n",
       "    .dataframe tbody tr th {\n",
       "        vertical-align: top;\n",
       "    }\n",
       "\n",
       "    .dataframe thead th {\n",
       "        text-align: right;\n",
       "    }\n",
       "</style>\n",
       "<table border=\"1\" class=\"dataframe\">\n",
       "  <thead>\n",
       "    <tr style=\"text-align: right;\">\n",
       "      <th></th>\n",
       "      <th>PTS</th>\n",
       "      <th>FGM</th>\n",
       "      <th>FGA</th>\n",
       "      <th>FG_PCT</th>\n",
       "      <th>FG3M</th>\n",
       "      <th>FG3A</th>\n",
       "      <th>FG3_PCT</th>\n",
       "      <th>FTM</th>\n",
       "      <th>FTA</th>\n",
       "      <th>FT_PCT</th>\n",
       "      <th>OREB</th>\n",
       "      <th>DREB</th>\n",
       "      <th>REB</th>\n",
       "      <th>AST</th>\n",
       "      <th>STL</th>\n",
       "      <th>BLK</th>\n",
       "      <th>TOV</th>\n",
       "      <th>PF</th>\n",
       "      <th>Win</th>\n",
       "    </tr>\n",
       "    <tr>\n",
       "      <th>Clust_km</th>\n",
       "      <th></th>\n",
       "      <th></th>\n",
       "      <th></th>\n",
       "      <th></th>\n",
       "      <th></th>\n",
       "      <th></th>\n",
       "      <th></th>\n",
       "      <th></th>\n",
       "      <th></th>\n",
       "      <th></th>\n",
       "      <th></th>\n",
       "      <th></th>\n",
       "      <th></th>\n",
       "      <th></th>\n",
       "      <th></th>\n",
       "      <th></th>\n",
       "      <th></th>\n",
       "      <th></th>\n",
       "      <th></th>\n",
       "    </tr>\n",
       "  </thead>\n",
       "  <tbody>\n",
       "    <tr>\n",
       "      <th>0</th>\n",
       "      <td>105.53</td>\n",
       "      <td>39.58</td>\n",
       "      <td>82.11</td>\n",
       "      <td>0.48</td>\n",
       "      <td>12.58</td>\n",
       "      <td>35.95</td>\n",
       "      <td>0.35</td>\n",
       "      <td>13.79</td>\n",
       "      <td>17.89</td>\n",
       "      <td>0.77</td>\n",
       "      <td>5.95</td>\n",
       "      <td>29.05</td>\n",
       "      <td>35.00</td>\n",
       "      <td>26.21</td>\n",
       "      <td>9.37</td>\n",
       "      <td>4.21</td>\n",
       "      <td>12.00</td>\n",
       "      <td>17.32</td>\n",
       "      <td>0.32</td>\n",
       "    </tr>\n",
       "    <tr>\n",
       "      <th>1</th>\n",
       "      <td>109.48</td>\n",
       "      <td>40.29</td>\n",
       "      <td>87.52</td>\n",
       "      <td>0.46</td>\n",
       "      <td>13.16</td>\n",
       "      <td>37.16</td>\n",
       "      <td>0.36</td>\n",
       "      <td>15.74</td>\n",
       "      <td>19.87</td>\n",
       "      <td>0.79</td>\n",
       "      <td>9.97</td>\n",
       "      <td>37.52</td>\n",
       "      <td>47.48</td>\n",
       "      <td>26.58</td>\n",
       "      <td>7.26</td>\n",
       "      <td>3.74</td>\n",
       "      <td>14.23</td>\n",
       "      <td>19.45</td>\n",
       "      <td>0.65</td>\n",
       "    </tr>\n",
       "    <tr>\n",
       "      <th>2</th>\n",
       "      <td>106.61</td>\n",
       "      <td>35.94</td>\n",
       "      <td>78.56</td>\n",
       "      <td>0.46</td>\n",
       "      <td>12.28</td>\n",
       "      <td>34.61</td>\n",
       "      <td>0.36</td>\n",
       "      <td>22.44</td>\n",
       "      <td>27.94</td>\n",
       "      <td>0.80</td>\n",
       "      <td>6.72</td>\n",
       "      <td>31.28</td>\n",
       "      <td>38.00</td>\n",
       "      <td>25.83</td>\n",
       "      <td>7.50</td>\n",
       "      <td>4.00</td>\n",
       "      <td>12.94</td>\n",
       "      <td>19.89</td>\n",
       "      <td>0.61</td>\n",
       "    </tr>\n",
       "  </tbody>\n",
       "</table>\n",
       "</div>"
      ],
      "text/plain": [
       "             PTS    FGM    FGA  FG_PCT   FG3M   FG3A  FG3_PCT    FTM    FTA  \\\n",
       "Clust_km                                                                      \n",
       "0         105.53  39.58  82.11    0.48  12.58  35.95     0.35  13.79  17.89   \n",
       "1         109.48  40.29  87.52    0.46  13.16  37.16     0.36  15.74  19.87   \n",
       "2         106.61  35.94  78.56    0.46  12.28  34.61     0.36  22.44  27.94   \n",
       "\n",
       "          FT_PCT  OREB   DREB    REB    AST   STL   BLK    TOV     PF   Win  \n",
       "Clust_km                                                                     \n",
       "0           0.77  5.95  29.05  35.00  26.21  9.37  4.21  12.00  17.32  0.32  \n",
       "1           0.79  9.97  37.52  47.48  26.58  7.26  3.74  14.23  19.45  0.65  \n",
       "2           0.80  6.72  31.28  38.00  25.83  7.50  4.00  12.94  19.89  0.61  "
      ]
     },
     "execution_count": 149,
     "metadata": {},
     "output_type": "execute_result"
    }
   ],
   "source": [
    "MH_games_2020.groupby('Clust_km').mean().round(2)"
   ]
  },
  {
   "cell_type": "markdown",
   "metadata": {},
   "source": [
    "### Now that we have the clusters of our data, we will identify the variables that have a significant difference between clusters:\n",
    "### We look that the only huge difference between clusters are the PTS, DREB and REB. This confirms that thess variables are the ones impacting the outcome of the game. NOTE that these variables were the ones with the highest correlation in the linear analysis we perform in the first section of this notebook. So we have evidence that this variables have an impact on the outcome of the game.\n",
    "\n"
   ]
  },
  {
   "cell_type": "markdown",
   "metadata": {},
   "source": [
    "#### Cluster 0: It has a 32% probability of winning with average of 105 PTS, 29 DREB, and 35 REB\n",
    "#### Cluster 1: It has a 65% probability of winning with average of 109 PTS, 38 DREB, and 47 REB\n",
    "#### Cluster 2: It has a 61% probability of winning with average of 106 PTS, 31 DREB, and 38 REB"
   ]
  },
  {
   "cell_type": "markdown",
   "metadata": {},
   "source": [
    "## 8.- Cluster only using PTS, DREB, REB and Win"
   ]
  },
  {
   "cell_type": "code",
   "execution_count": 150,
   "metadata": {},
   "outputs": [
    {
     "data": {
      "text/html": [
       "<div>\n",
       "<style scoped>\n",
       "    .dataframe tbody tr th:only-of-type {\n",
       "        vertical-align: middle;\n",
       "    }\n",
       "\n",
       "    .dataframe tbody tr th {\n",
       "        vertical-align: top;\n",
       "    }\n",
       "\n",
       "    .dataframe thead th {\n",
       "        text-align: right;\n",
       "    }\n",
       "</style>\n",
       "<table border=\"1\" class=\"dataframe\">\n",
       "  <thead>\n",
       "    <tr style=\"text-align: right;\">\n",
       "      <th></th>\n",
       "      <th>PTS</th>\n",
       "      <th>DREB</th>\n",
       "      <th>REB</th>\n",
       "      <th>Win</th>\n",
       "    </tr>\n",
       "  </thead>\n",
       "  <tbody>\n",
       "    <tr>\n",
       "      <th>0</th>\n",
       "      <td>130</td>\n",
       "      <td>32</td>\n",
       "      <td>35</td>\n",
       "      <td>1.0</td>\n",
       "    </tr>\n",
       "    <tr>\n",
       "      <th>1</th>\n",
       "      <td>121</td>\n",
       "      <td>29</td>\n",
       "      <td>37</td>\n",
       "      <td>1.0</td>\n",
       "    </tr>\n",
       "    <tr>\n",
       "      <th>2</th>\n",
       "      <td>113</td>\n",
       "      <td>31</td>\n",
       "      <td>39</td>\n",
       "      <td>0.0</td>\n",
       "    </tr>\n",
       "    <tr>\n",
       "      <th>3</th>\n",
       "      <td>121</td>\n",
       "      <td>31</td>\n",
       "      <td>42</td>\n",
       "      <td>1.0</td>\n",
       "    </tr>\n",
       "    <tr>\n",
       "      <th>4</th>\n",
       "      <td>124</td>\n",
       "      <td>27</td>\n",
       "      <td>37</td>\n",
       "      <td>1.0</td>\n",
       "    </tr>\n",
       "    <tr>\n",
       "      <th>...</th>\n",
       "      <td>...</td>\n",
       "      <td>...</td>\n",
       "      <td>...</td>\n",
       "      <td>...</td>\n",
       "    </tr>\n",
       "    <tr>\n",
       "      <th>63</th>\n",
       "      <td>83</td>\n",
       "      <td>36</td>\n",
       "      <td>41</td>\n",
       "      <td>0.0</td>\n",
       "    </tr>\n",
       "    <tr>\n",
       "      <th>64</th>\n",
       "      <td>119</td>\n",
       "      <td>42</td>\n",
       "      <td>52</td>\n",
       "      <td>1.0</td>\n",
       "    </tr>\n",
       "    <tr>\n",
       "      <th>65</th>\n",
       "      <td>97</td>\n",
       "      <td>27</td>\n",
       "      <td>30</td>\n",
       "      <td>0.0</td>\n",
       "    </tr>\n",
       "    <tr>\n",
       "      <th>66</th>\n",
       "      <td>111</td>\n",
       "      <td>31</td>\n",
       "      <td>35</td>\n",
       "      <td>1.0</td>\n",
       "    </tr>\n",
       "    <tr>\n",
       "      <th>67</th>\n",
       "      <td>107</td>\n",
       "      <td>36</td>\n",
       "      <td>43</td>\n",
       "      <td>0.0</td>\n",
       "    </tr>\n",
       "  </tbody>\n",
       "</table>\n",
       "<p>68 rows × 4 columns</p>\n",
       "</div>"
      ],
      "text/plain": [
       "    PTS  DREB  REB  Win\n",
       "0   130    32   35  1.0\n",
       "1   121    29   37  1.0\n",
       "2   113    31   39  0.0\n",
       "3   121    31   42  1.0\n",
       "4   124    27   37  1.0\n",
       "..  ...   ...  ...  ...\n",
       "63   83    36   41  0.0\n",
       "64  119    42   52  1.0\n",
       "65   97    27   30  0.0\n",
       "66  111    31   35  1.0\n",
       "67  107    36   43  0.0\n",
       "\n",
       "[68 rows x 4 columns]"
      ]
     },
     "execution_count": 150,
     "metadata": {},
     "output_type": "execute_result"
    }
   ],
   "source": [
    "# Create our new dataset\n",
    "Base_Class_Model=MH_games_2020[['PTS','DREB','REB','Win']]\n",
    "Base_Class_Model"
   ]
  },
  {
   "cell_type": "code",
   "execution_count": 151,
   "metadata": {},
   "outputs": [
    {
     "data": {
      "text/plain": [
       "array([[130,  32,  35]], dtype=int64)"
      ]
     },
     "execution_count": 151,
     "metadata": {},
     "output_type": "execute_result"
    }
   ],
   "source": [
    "## Definning X and Y for our prediction Model\n",
    "X3=np.asarray(Base_Class_Model.drop(['Win'],axis=1))\n",
    "X3[0:1]"
   ]
  },
  {
   "cell_type": "code",
   "execution_count": 152,
   "metadata": {},
   "outputs": [
    {
     "data": {
      "text/plain": [
       "array([[1.],\n",
       "       [1.],\n",
       "       [0.],\n",
       "       [1.],\n",
       "       [1.]])"
      ]
     },
     "execution_count": 152,
     "metadata": {},
     "output_type": "execute_result"
    }
   ],
   "source": [
    "Y3=np.asarray(Base_Class_Model[['Win']])\n",
    "Y3[0:5]"
   ]
  },
  {
   "cell_type": "code",
   "execution_count": 153,
   "metadata": {},
   "outputs": [
    {
     "data": {
      "text/plain": [
       "array([[ 1.87, -0.28, -0.95],\n",
       "       [ 1.12, -0.83, -0.66],\n",
       "       [ 0.45, -0.46, -0.36],\n",
       "       [ 1.12, -0.46,  0.08],\n",
       "       [ 1.37, -1.2 , -0.66]])"
      ]
     },
     "execution_count": 153,
     "metadata": {},
     "output_type": "execute_result"
    }
   ],
   "source": [
    "#Normalize X2 so we can perform Logistic Regression\n",
    "from sklearn import preprocessing\n",
    "X3 = preprocessing.StandardScaler().fit(X3).transform(X3)\n",
    "X3[0:5]"
   ]
  },
  {
   "cell_type": "code",
   "execution_count": 154,
   "metadata": {},
   "outputs": [
    {
     "name": "stdout",
     "output_type": "stream",
     "text": [
      "Train set: (57, 3) (57, 1)\n",
      "Test set: (11, 3) (11, 1)\n"
     ]
    }
   ],
   "source": [
    "from sklearn.model_selection import train_test_split\n",
    "X3_train, X3_test, Y3_train, Y3_test = train_test_split( X3, Y3, test_size=0.15, random_state=4)\n",
    "print ('Train set:', X3_train.shape,  Y3_train.shape)\n",
    "print ('Test set:', X3_test.shape,  Y3_test.shape)"
   ]
  },
  {
   "cell_type": "code",
   "execution_count": 164,
   "metadata": {},
   "outputs": [
    {
     "name": "stderr",
     "output_type": "stream",
     "text": [
      "C:\\Users\\Gabo\\anaconda3\\lib\\site-packages\\sklearn\\utils\\validation.py:72: DataConversionWarning: A column-vector y was passed when a 1d array was expected. Please change the shape of y to (n_samples, ), for example using ravel().\n",
      "  return f(**kwargs)\n"
     ]
    },
    {
     "data": {
      "text/plain": [
       "LogisticRegression(C=0.01, solver='saga')"
      ]
     },
     "execution_count": 164,
     "metadata": {},
     "output_type": "execute_result"
    }
   ],
   "source": [
    "from sklearn.linear_model import LogisticRegression\n",
    "from sklearn.metrics import confusion_matrix\n",
    "LR3=LogisticRegression(C=0.01, solver='saga').fit(X3_train, Y3_train)\n",
    "LR3"
   ]
  },
  {
   "cell_type": "code",
   "execution_count": 165,
   "metadata": {},
   "outputs": [
    {
     "data": {
      "text/plain": [
       "array([1., 0., 0., 1., 1., 1., 1., 1., 1., 1., 1.])"
      ]
     },
     "execution_count": 165,
     "metadata": {},
     "output_type": "execute_result"
    }
   ],
   "source": [
    "Yhat3 = LR3.predict(X3_test)\n",
    "Yhat3"
   ]
  },
  {
   "cell_type": "code",
   "execution_count": 167,
   "metadata": {},
   "outputs": [
    {
     "data": {
      "text/plain": [
       "array([[0.46, 0.54],\n",
       "       [0.52, 0.48],\n",
       "       [0.52, 0.48],\n",
       "       [0.49, 0.51],\n",
       "       [0.47, 0.53],\n",
       "       [0.46, 0.54],\n",
       "       [0.48, 0.52],\n",
       "       [0.41, 0.59],\n",
       "       [0.48, 0.52],\n",
       "       [0.42, 0.58],\n",
       "       [0.4 , 0.6 ]])"
      ]
     },
     "execution_count": 167,
     "metadata": {},
     "output_type": "execute_result"
    }
   ],
   "source": [
    "Yhat_prob3=LR3.predict_proba(X3_test)\n",
    "Yhat_prob3"
   ]
  },
  {
   "cell_type": "code",
   "execution_count": 168,
   "metadata": {},
   "outputs": [
    {
     "name": "stderr",
     "output_type": "stream",
     "text": [
      "C:\\Users\\Gabo\\anaconda3\\lib\\site-packages\\sklearn\\utils\\validation.py:72: DataConversionWarning: A column-vector y was passed when a 1d array was expected. Please change the shape of y to (n_samples, ), for example using ravel().\n",
      "  return f(**kwargs)\n",
      "C:\\Users\\Gabo\\anaconda3\\lib\\site-packages\\sklearn\\utils\\validation.py:72: DataConversionWarning: A column-vector y was passed when a 1d array was expected. Please change the shape of y to (n_samples, ), for example using ravel().\n",
      "  return f(**kwargs)\n",
      "C:\\Users\\Gabo\\anaconda3\\lib\\site-packages\\sklearn\\utils\\validation.py:72: DataConversionWarning: A column-vector y was passed when a 1d array was expected. Please change the shape of y to (n_samples, ), for example using ravel().\n",
      "  return f(**kwargs)\n",
      "C:\\Users\\Gabo\\anaconda3\\lib\\site-packages\\sklearn\\utils\\validation.py:72: DataConversionWarning: A column-vector y was passed when a 1d array was expected. Please change the shape of y to (n_samples, ), for example using ravel().\n",
      "  return f(**kwargs)\n",
      "C:\\Users\\Gabo\\anaconda3\\lib\\site-packages\\sklearn\\utils\\validation.py:72: DataConversionWarning: A column-vector y was passed when a 1d array was expected. Please change the shape of y to (n_samples, ), for example using ravel().\n",
      "  return f(**kwargs)\n"
     ]
    }
   ],
   "source": [
    "Rcross=cross_val_score(LR3,X3,Y3,cv=5)"
   ]
  },
  {
   "cell_type": "code",
   "execution_count": 169,
   "metadata": {},
   "outputs": [
    {
     "data": {
      "text/plain": [
       "array([0.79, 0.57, 0.57, 0.77, 0.62])"
      ]
     },
     "execution_count": 169,
     "metadata": {},
     "output_type": "execute_result"
    }
   ],
   "source": [
    "Rcross"
   ]
  },
  {
   "cell_type": "code",
   "execution_count": 170,
   "metadata": {},
   "outputs": [
    {
     "data": {
      "text/plain": [
       "0.66"
      ]
     },
     "execution_count": 170,
     "metadata": {},
     "output_type": "execute_result"
    }
   ],
   "source": [
    "Rcross.mean().round(2)"
   ]
  },
  {
   "cell_type": "markdown",
   "metadata": {},
   "source": [
    "### The accuracy of our Logistic Regression Model increased with the new database from 62% to 66%"
   ]
  },
  {
   "cell_type": "markdown",
   "metadata": {},
   "source": [
    "## Now, we perform our clusterization model"
   ]
  },
  {
   "cell_type": "code",
   "execution_count": 171,
   "metadata": {},
   "outputs": [
    {
     "data": {
      "text/plain": [
       "array([[-0.28, -0.95,  0.92],\n",
       "       [-0.83, -0.66,  0.92],\n",
       "       [-0.46, -0.36, -1.09],\n",
       "       [-0.46,  0.08,  0.92],\n",
       "       [-1.2 , -0.66,  0.92],\n",
       "       [ 0.83,  0.95,  0.92],\n",
       "       [-1.02, -1.09, -1.09],\n",
       "       [-0.46, -0.66,  0.92],\n",
       "       [-1.76, -1.68, -1.09],\n",
       "       [ 0.28,  0.37,  0.92],\n",
       "       [ 1.39,  1.54,  0.92],\n",
       "       [ 0.65,  1.68,  0.92],\n",
       "       [-1.39, -1.24, -1.09],\n",
       "       [-1.39, -1.68, -1.09],\n",
       "       [-1.02, -0.8 , -1.09],\n",
       "       [-1.76, -1.68,  0.92],\n",
       "       [-0.83, -0.51,  0.92],\n",
       "       [-1.02, -0.95, -1.09],\n",
       "       [-0.09, -0.66,  0.92],\n",
       "       [-0.28, -0.66,  0.92],\n",
       "       [ 0.09,  0.08,  0.92],\n",
       "       [ 0.28,  0.81,  0.92],\n",
       "       [-0.65, -0.36, -1.09],\n",
       "       [ 0.09, -0.36, -1.09],\n",
       "       [-0.09,  1.24, -1.09],\n",
       "       [ 0.83,  1.39, -1.09],\n",
       "       [-1.39, -0.8 , -1.09],\n",
       "       [ 1.76,  1.39, -1.09],\n",
       "       [-0.28,  0.95,  0.92],\n",
       "       [-0.09,  0.22,  0.92],\n",
       "       [ 1.2 , -0.07,  0.92],\n",
       "       [ 0.28,  0.37,  0.92],\n",
       "       [ 0.46, -0.07,  0.92],\n",
       "       [-2.31, -2.26, -1.09],\n",
       "       [-0.09,  0.51,  0.92],\n",
       "       [ 1.02,  1.24,  0.92],\n",
       "       [-0.46,  0.08,  0.92],\n",
       "       [ 0.28,  0.51,  0.92],\n",
       "       [ 1.02,  1.1 ,  0.92],\n",
       "       [ 0.65,  0.51,  0.92],\n",
       "       [ 1.57,  1.1 , -1.09],\n",
       "       [-0.65, -0.36, -1.09],\n",
       "       [ 0.28,  0.22, -1.09],\n",
       "       [ 1.39,  1.1 ,  0.92],\n",
       "       [-0.28, -0.51,  0.92],\n",
       "       [ 0.83,  0.37,  0.92],\n",
       "       [ 1.02,  0.95,  0.92],\n",
       "       [ 0.28,  0.37, -1.09],\n",
       "       [ 0.83,  0.95, -1.09],\n",
       "       [-0.65, -0.36,  0.92],\n",
       "       [ 0.65,  0.51, -1.09],\n",
       "       [-0.28, -0.51, -1.09],\n",
       "       [ 0.65,  0.51, -1.09],\n",
       "       [-0.83, -1.53, -1.09],\n",
       "       [-1.02, -1.39, -1.09],\n",
       "       [ 0.83,  0.66,  0.92],\n",
       "       [-0.46, -0.8 ,  0.92],\n",
       "       [-1.39, -1.53, -1.09],\n",
       "       [-0.28, -0.07, -1.09],\n",
       "       [-0.28,  0.66, -1.09],\n",
       "       [ 3.24,  2.85,  0.92],\n",
       "       [ 0.46,  0.08, -1.09],\n",
       "       [ 1.76,  0.81,  0.92],\n",
       "       [ 0.46, -0.07, -1.09],\n",
       "       [ 1.57,  1.54,  0.92],\n",
       "       [-1.2 , -1.68, -1.09],\n",
       "       [-0.46, -0.95,  0.92],\n",
       "       [ 0.46,  0.22, -1.09]])"
      ]
     },
     "execution_count": 171,
     "metadata": {},
     "output_type": "execute_result"
    }
   ],
   "source": [
    "from sklearn.preprocessing import StandardScaler\n",
    "Cbase = Base_Class_Model.values[:,1:]\n",
    "Cbase = np.nan_to_num(Cbase)\n",
    "Clus_dataSet = StandardScaler().fit_transform(Cbase)\n",
    "Clus_dataSet"
   ]
  },
  {
   "cell_type": "code",
   "execution_count": 172,
   "metadata": {},
   "outputs": [
    {
     "name": "stdout",
     "output_type": "stream",
     "text": [
      "[0 0 0 1 0 2 0 0 0 1 2 2 0 0 0 0 0 0 0 0 1 1 0 1 1 2 0 2 1 1 1 1 1 0 1 2 1\n",
      " 1 2 1 2 0 1 2 0 1 2 1 2 0 1 0 1 0 0 1 0 0 1 1 2 1 2 1 2 0 0 1]\n"
     ]
    }
   ],
   "source": [
    "clusterNum = 3\n",
    "k_means = KMeans(init = \"k-means++\", n_clusters = clusterNum, n_init = 12)\n",
    "k_means.fit(Cbase)\n",
    "labels = k_means.labels_\n",
    "print(labels)"
   ]
  },
  {
   "cell_type": "code",
   "execution_count": 173,
   "metadata": {},
   "outputs": [
    {
     "name": "stderr",
     "output_type": "stream",
     "text": [
      "<ipython-input-173-707bfef5b6c6>:1: SettingWithCopyWarning: \n",
      "A value is trying to be set on a copy of a slice from a DataFrame.\n",
      "Try using .loc[row_indexer,col_indexer] = value instead\n",
      "\n",
      "See the caveats in the documentation: https://pandas.pydata.org/pandas-docs/stable/user_guide/indexing.html#returning-a-view-versus-a-copy\n",
      "  Base_Class_Model[\"Clust_km\"]=labels\n"
     ]
    },
    {
     "data": {
      "text/html": [
       "<div>\n",
       "<style scoped>\n",
       "    .dataframe tbody tr th:only-of-type {\n",
       "        vertical-align: middle;\n",
       "    }\n",
       "\n",
       "    .dataframe tbody tr th {\n",
       "        vertical-align: top;\n",
       "    }\n",
       "\n",
       "    .dataframe thead th {\n",
       "        text-align: right;\n",
       "    }\n",
       "</style>\n",
       "<table border=\"1\" class=\"dataframe\">\n",
       "  <thead>\n",
       "    <tr style=\"text-align: right;\">\n",
       "      <th></th>\n",
       "      <th>PTS</th>\n",
       "      <th>DREB</th>\n",
       "      <th>REB</th>\n",
       "      <th>Win</th>\n",
       "      <th>Clust_km</th>\n",
       "    </tr>\n",
       "  </thead>\n",
       "  <tbody>\n",
       "    <tr>\n",
       "      <th>0</th>\n",
       "      <td>130</td>\n",
       "      <td>32</td>\n",
       "      <td>35</td>\n",
       "      <td>1.0</td>\n",
       "      <td>0</td>\n",
       "    </tr>\n",
       "    <tr>\n",
       "      <th>1</th>\n",
       "      <td>121</td>\n",
       "      <td>29</td>\n",
       "      <td>37</td>\n",
       "      <td>1.0</td>\n",
       "      <td>0</td>\n",
       "    </tr>\n",
       "    <tr>\n",
       "      <th>2</th>\n",
       "      <td>113</td>\n",
       "      <td>31</td>\n",
       "      <td>39</td>\n",
       "      <td>0.0</td>\n",
       "      <td>0</td>\n",
       "    </tr>\n",
       "    <tr>\n",
       "      <th>3</th>\n",
       "      <td>121</td>\n",
       "      <td>31</td>\n",
       "      <td>42</td>\n",
       "      <td>1.0</td>\n",
       "      <td>1</td>\n",
       "    </tr>\n",
       "    <tr>\n",
       "      <th>4</th>\n",
       "      <td>124</td>\n",
       "      <td>27</td>\n",
       "      <td>37</td>\n",
       "      <td>1.0</td>\n",
       "      <td>0</td>\n",
       "    </tr>\n",
       "    <tr>\n",
       "      <th>5</th>\n",
       "      <td>116</td>\n",
       "      <td>38</td>\n",
       "      <td>48</td>\n",
       "      <td>1.0</td>\n",
       "      <td>2</td>\n",
       "    </tr>\n",
       "    <tr>\n",
       "      <th>6</th>\n",
       "      <td>102</td>\n",
       "      <td>28</td>\n",
       "      <td>34</td>\n",
       "      <td>0.0</td>\n",
       "      <td>0</td>\n",
       "    </tr>\n",
       "    <tr>\n",
       "      <th>7</th>\n",
       "      <td>106</td>\n",
       "      <td>31</td>\n",
       "      <td>37</td>\n",
       "      <td>1.0</td>\n",
       "      <td>0</td>\n",
       "    </tr>\n",
       "    <tr>\n",
       "      <th>8</th>\n",
       "      <td>103</td>\n",
       "      <td>24</td>\n",
       "      <td>30</td>\n",
       "      <td>0.0</td>\n",
       "      <td>0</td>\n",
       "    </tr>\n",
       "    <tr>\n",
       "      <th>9</th>\n",
       "      <td>107</td>\n",
       "      <td>35</td>\n",
       "      <td>44</td>\n",
       "      <td>1.0</td>\n",
       "      <td>1</td>\n",
       "    </tr>\n",
       "  </tbody>\n",
       "</table>\n",
       "</div>"
      ],
      "text/plain": [
       "   PTS  DREB  REB  Win  Clust_km\n",
       "0  130    32   35  1.0         0\n",
       "1  121    29   37  1.0         0\n",
       "2  113    31   39  0.0         0\n",
       "3  121    31   42  1.0         1\n",
       "4  124    27   37  1.0         0\n",
       "5  116    38   48  1.0         2\n",
       "6  102    28   34  0.0         0\n",
       "7  106    31   37  1.0         0\n",
       "8  103    24   30  0.0         0\n",
       "9  107    35   44  1.0         1"
      ]
     },
     "execution_count": 173,
     "metadata": {},
     "output_type": "execute_result"
    }
   ],
   "source": [
    "Base_Class_Model[\"Clust_km\"]=labels\n",
    "Base_Class_Model.head(10)"
   ]
  },
  {
   "cell_type": "code",
   "execution_count": 174,
   "metadata": {},
   "outputs": [
    {
     "data": {
      "text/html": [
       "<div>\n",
       "<style scoped>\n",
       "    .dataframe tbody tr th:only-of-type {\n",
       "        vertical-align: middle;\n",
       "    }\n",
       "\n",
       "    .dataframe tbody tr th {\n",
       "        vertical-align: top;\n",
       "    }\n",
       "\n",
       "    .dataframe thead th {\n",
       "        text-align: right;\n",
       "    }\n",
       "</style>\n",
       "<table border=\"1\" class=\"dataframe\">\n",
       "  <thead>\n",
       "    <tr style=\"text-align: right;\">\n",
       "      <th></th>\n",
       "      <th>PTS</th>\n",
       "      <th>DREB</th>\n",
       "      <th>REB</th>\n",
       "      <th>Win</th>\n",
       "    </tr>\n",
       "    <tr>\n",
       "      <th>Clust_km</th>\n",
       "      <th></th>\n",
       "      <th></th>\n",
       "      <th></th>\n",
       "      <th></th>\n",
       "    </tr>\n",
       "  </thead>\n",
       "  <tbody>\n",
       "    <tr>\n",
       "      <th>0</th>\n",
       "      <td>106.64</td>\n",
       "      <td>28.61</td>\n",
       "      <td>34.82</td>\n",
       "      <td>0.43</td>\n",
       "    </tr>\n",
       "    <tr>\n",
       "      <th>1</th>\n",
       "      <td>106.23</td>\n",
       "      <td>34.85</td>\n",
       "      <td>43.77</td>\n",
       "      <td>0.58</td>\n",
       "    </tr>\n",
       "    <tr>\n",
       "      <th>2</th>\n",
       "      <td>112.14</td>\n",
       "      <td>40.79</td>\n",
       "      <td>50.57</td>\n",
       "      <td>0.71</td>\n",
       "    </tr>\n",
       "  </tbody>\n",
       "</table>\n",
       "</div>"
      ],
      "text/plain": [
       "             PTS   DREB    REB   Win\n",
       "Clust_km                            \n",
       "0         106.64  28.61  34.82  0.43\n",
       "1         106.23  34.85  43.77  0.58\n",
       "2         112.14  40.79  50.57  0.71"
      ]
     },
     "execution_count": 174,
     "metadata": {},
     "output_type": "execute_result"
    }
   ],
   "source": [
    "Base_Class_Model.groupby('Clust_km').mean().round(2)"
   ]
  },
  {
   "cell_type": "markdown",
   "metadata": {},
   "source": [
    "### Now, with our new data set we take a look at each cluster:\n",
    "\n",
    "### Cluster 0: It has a probability of winning of 43% with an average of 106 PTS, 29 DREB and 35 REB\n",
    "### Cluster 1: It has a probability of winning of 58% with an average of 106 PTS, 35 DREB and 44 REB\n",
    "### Cluster 2: It has a probability of winning of 71% with an average of 112 PTS, 41 DREB and 51 REB\n",
    "\n",
    "## We have enough data that tells us that the PTS, DREB and REB are the variables impacting on the Miami Heat's games outcomes.\n",
    "\n",
    "## Conclusion: In order for the Miami Heat to win needs to score more than 112 PTS and grab more than 41 DREB."
   ]
  },
  {
   "cell_type": "code",
   "execution_count": 177,
   "metadata": {},
   "outputs": [],
   "source": [
    "##\n",
    "##k_means_centers=k_means.cluster_centers_\n",
    "##k_means_centers"
   ]
  },
  {
   "cell_type": "code",
   "execution_count": 187,
   "metadata": {},
   "outputs": [
    {
     "name": "stderr",
     "output_type": "stream",
     "text": [
      "No handles with labels found to put in legend.\n"
     ]
    },
    {
     "data": {
      "text/plain": [
       "<matplotlib.legend.Legend at 0x15e7811a850>"
      ]
     },
     "execution_count": 187,
     "metadata": {},
     "output_type": "execute_result"
    },
    {
     "data": {
      "image/png": "[encoded data removed]",
      "text/plain": [
       "<Figure size 432x288 with 1 Axes>"
      ]
     },
     "metadata": {
      "needs_background": "light"
     },
     "output_type": "display_data"
    }
   ],
   "source": [
    "df1=Base_Class_Model[Base_Class_Model['Clust_km']==0]\n",
    "df2=Base_Class_Model[Base_Class_Model['Clust_km']==1]\n",
    "df3=Base_Class_Model[Base_Class_Model['Clust_km']==2]\n",
    "\n",
    "plt.scatter(df1['PTS'],df1['DREB'], color='green')\n",
    "plt.scatter(df2['PTS'],df2['DREB'], color='red')\n",
    "plt.scatter(df3['PTS'],df3['DREB'], color='blue')\n",
    "\n",
    "plt.xlabel('PTS')\n",
    "plt.ylabel('DREB')\n",
    "plt.legend()"
   ]
  },
  {
   "cell_type": "markdown",
   "metadata": {},
   "source": [
    "### In this visualization cluster 0 is color green, cluster 1 is color red, and cluster 2 is color blue.\n",
    "\n",
    "### We see the difference between clusters and the cluster in color blue has more datapoints with more than 109 PTS."
   ]
  },
  {
   "cell_type": "code",
   "execution_count": 184,
   "metadata": {},
   "outputs": [
    {
     "data": {
      "text/plain": [
       "0     32\n",
       "1     29\n",
       "2     31\n",
       "3     31\n",
       "4     27\n",
       "      ..\n",
       "63    36\n",
       "64    42\n",
       "65    27\n",
       "66    31\n",
       "67    36\n",
       "Name: DREB, Length: 68, dtype: int64"
      ]
     },
     "execution_count": 184,
     "metadata": {},
     "output_type": "execute_result"
    }
   ],
   "source": [
    "## Just to check the array od the database\n",
    "Base_Class_Model.iloc[:, 1]"
   ]
  },
  {
   "cell_type": "code",
   "execution_count": 188,
   "metadata": {},
   "outputs": [
    {
     "data": {
      "text/plain": [
       "<mpl_toolkits.mplot3d.art3d.Path3DCollection at 0x15e781937f0>"
      ]
     },
     "execution_count": 188,
     "metadata": {},
     "output_type": "execute_result"
    },
    {
     "data": {
      "image/png": "[encoded data removed]",
      "text/plain": [
       "<Figure size 576x432 with 1 Axes>"
      ]
     },
     "metadata": {
      "needs_background": "light"
     },
     "output_type": "display_data"
    }
   ],
   "source": [
    "## visualization of PTS, DREB and winning\n",
    "from mpl_toolkits.mplot3d import Axes3D \n",
    "fig = plt.figure(1, figsize=(8, 6))\n",
    "plt.clf()\n",
    "ax = Axes3D(fig, rect=[0, 0, .95, 1], elev=48, azim=134)\n",
    "\n",
    "plt.cla()\n",
    "# plt.ylabel('Age', fontsize=18)\n",
    "# plt.xlabel('Income', fontsize=16)\n",
    "# plt.zlabel('Education', fontsize=16)\n",
    "ax.set_xlabel('PTS')\n",
    "ax.set_ylabel('DREB')\n",
    "ax.set_zlabel('WL')\n",
    "\n",
    "ax.scatter(df1.iloc[:, 0], df1.iloc[:, 1], df1.iloc[:, 3], c= 'green')\n",
    "ax.scatter(df2.iloc[:, 0], df2.iloc[:, 1], df2.iloc[:, 3], c= 'red')\n",
    "ax.scatter(df3.iloc[:, 0], df3.iloc[:, 1], df3.iloc[:, 3], c= 'blue')"
   ]
  },
  {
   "cell_type": "markdown",
   "metadata": {},
   "source": [
    "### The percentage of blue points in the winning ratio (Z-axis), is higher than the other colors."
   ]
  },
  {
   "cell_type": "markdown",
   "metadata": {},
   "source": [
    "## 9.- Conclusion and insights:\n",
    "\n",
    "## A) We built a prediction model to tell us if the Miami Heat will win or lose the next game (Logistic Regression)\n",
    "\n",
    "## B) We discover that the Defensive Rebounds and the number of Poinst in a game determines whether the Miami Heat will win or lose.\n",
    "\n",
    "## C) In order to win the next game the Heat will need to score more than 112 points and grab more than 41 Defensive Rebounds.\n",
    "\n",
    "## D) With this insights it is important that the Heat makes the right adjustments in order to perform well in Playoffs"
   ]
  },
  {
   "cell_type": "code",
   "execution_count": null,
   "metadata": {},
   "outputs": [],
   "source": []
  }
 ],
 "metadata": {
  "kernelspec": {
   "display_name": "Python 3",
   "language": "python",
   "name": "python3"
  },
  "language_info": {
   "codemirror_mode": {
    "name": "ipython",
    "version": 3
   },
   "file_extension": ".py",
   "mimetype": "text/x-python",
   "name": "python",
   "nbconvert_exporter": "python",
   "pygments_lexer": "ipython3",
   "version": "3.8.5"
  }
 },
 "nbformat": 4,
 "nbformat_minor": 4
}
